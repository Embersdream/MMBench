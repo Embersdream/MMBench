{
 "cells": [
  {
   "cell_type": "code",
   "execution_count": 28,
   "metadata": {},
   "outputs": [],
   "source": [
    "import numpy as np\n",
    "import pandas as pd"
   ]
  },
  {
   "cell_type": "code",
   "execution_count": 64,
   "metadata": {},
   "outputs": [],
   "source": [
    "slfs_encoder=pd.read_csv('D:/avmnist-slfs-encoder.csv',header=None)"
   ]
  },
  {
   "cell_type": "code",
   "execution_count": 10,
   "metadata": {},
   "outputs": [],
   "source": [
    "slfs_fusion=pd.read_csv('D:/avminist-slfs-fusion.csv',header=None)"
   ]
  },
  {
   "cell_type": "code",
   "execution_count": 11,
   "metadata": {},
   "outputs": [],
   "source": [
    "slfs_head=pd.read_csv('D:/avminist-slfs-head.csv',header=None)"
   ]
  },
  {
   "cell_type": "code",
   "execution_count": 13,
   "metadata": {},
   "outputs": [],
   "source": [
    "def turntolist(c):\n",
    "    d=[]\n",
    "    for i in range(0,len(c)):\n",
    "        d.append(c[0][i])\n",
    "    f=[]\n",
    "    for i in range(0,len(d)):\n",
    "        if type(d[i])==str:\n",
    "            split=d[i].split()\n",
    "            f.append(split)\n",
    "                    \n",
    "    return f\n",
    "    \n",
    "    "
   ]
  },
  {
   "cell_type": "code",
   "execution_count": 66,
   "metadata": {},
   "outputs": [],
   "source": [
    "slfs_encoder=turntolist(slfs_encoder)"
   ]
  },
  {
   "cell_type": "code",
   "execution_count": 67,
   "metadata": {},
   "outputs": [
    {
     "name": "stdout",
     "output_type": "stream",
     "text": [
      "[['void', 'implicit_convolve_sgemm<float'], ['Section:', 'Command', 'line', 'profiler', 'metrics'], ['----------------------------------------------------------------------', '---------------', '------------------------------'], ['dram__bytes_read.sum', 'Kbyte', '30.27'], ['dram__bytes_read.sum.per_second', 'Gbyte/second', '4.55'], ['dram__sectors_read.sum', 'sector', '946'], ['dram__throughput.avg.pct_of_peak_sustained_elapsed', '%', '0.77'], ['gpu__time_active.avg', 'usecond', '6.66'], ['l1tex__t_bytes_pipe_lsu_mem_global_op_ld.sum.per_second', 'Gbyte/second', '36.43'], ['pcie__read_bytes.sum', 'Kbyte', '1.02'], ['sm__warps_active.avg.pct_of_peak_sustained_active', '%', '6.10'], ['smsp__cycles_active.avg.pct_of_peak_sustained_elapsed', '%', '30.37'], ['smsp__inst_executed.avg.per_cycle_active', 'inst/cycle', '0.20'], ['smsp__warp_issue_stalled_long_scoreboard_per_warp_active.pct', '%', '5.22'], ['----------------------------------------------------------------------', '---------------', '------------------------------'], ['void', 'cudnn::bn_fw_inf_1C11_kernel_NCHW<float'], ['Section:', 'Command', 'line', 'profiler', 'metrics'], ['----------------------------------------------------------------------', '---------------', '------------------------------'], ['dram__bytes_read.sum', 'Kbyte', '41.41'], ['dram__bytes_read.sum.per_second', 'Gbyte/second', '9.59'], ['dram__sectors_read.sum', 'sector', '1'], ['dram__throughput.avg.pct_of_peak_sustained_elapsed', '%', '1.64'], ['gpu__time_active.avg', 'usecond', '4.32'], ['l1tex__t_bytes_pipe_lsu_mem_global_op_ld.sum.per_second', 'Gbyte/second', '10.18'], ['pcie__read_bytes.sum', 'byte', '0'], ['sm__warps_active.avg.pct_of_peak_sustained_active', '%', '22.51'], ['smsp__cycles_active.avg.pct_of_peak_sustained_elapsed', '%', '12.73'], ['smsp__inst_executed.avg.per_cycle_active', 'inst/cycle', '0.05'], ['smsp__warp_issue_stalled_long_scoreboard_per_warp_active.pct', '%', '42.55'], ['----------------------------------------------------------------------', '---------------', '------------------------------'], ['void', 'at::native::vectorized_elementwise_kernel<(int)4'], ['Section:', 'Command', 'line', 'profiler', 'metrics'], ['----------------------------------------------------------------------', '---------------', '------------------------------'], ['dram__bytes_read.sum', 'Kbyte', '42.75'], ['dram__bytes_read.sum.per_second', 'Gbyte/second', '15.36'], ['dram__sectors_read.sum', 'sector', '1'], ['dram__throughput.avg.pct_of_peak_sustained_elapsed', '%', '3.00'], ['gpu__time_active.avg', 'usecond', '2.78'], ['l1tex__t_bytes_pipe_lsu_mem_global_op_ld.sum.per_second', 'Gbyte/second', '13.52'], ['pcie__read_bytes.sum', 'byte', '0'], ['sm__warps_active.avg.pct_of_peak_sustained_active', '%', '12.41'], ['smsp__cycles_active.avg.pct_of_peak_sustained_elapsed', '%', '18.64'], ['smsp__inst_executed.avg.per_cycle_active', 'inst/cycle', '0.02'], ['smsp__warp_issue_stalled_long_scoreboard_per_warp_active.pct', '%', '22.28'], ['----------------------------------------------------------------------', '---------------', '------------------------------'], ['void', 'at::native::<unnamed>::max_pool_forward_nchw<float'], ['Section:', 'Command', 'line', 'profiler', 'metrics'], ['----------------------------------------------------------------------', '---------------', '------------------------------'], ['dram__bytes_read.sum', 'Kbyte', '42.72'], ['dram__bytes_read.sum.per_second', 'Gbyte/second', '11.61'], ['dram__sectors_read.sum', 'sector', '1'], ['dram__throughput.avg.pct_of_peak_sustained_elapsed', '%', '2.12'], ['gpu__time_active.avg', 'usecond', '3.68'], ['l1tex__t_bytes_pipe_lsu_mem_global_op_ld.sum.per_second', 'Gbyte/second', '24.25'], ['pcie__read_bytes.sum', 'byte', '0'], ['sm__warps_active.avg.pct_of_peak_sustained_active', '%', '23.68'], ['smsp__cycles_active.avg.pct_of_peak_sustained_elapsed', '%', '10.85'], ['smsp__inst_executed.avg.per_cycle_active', 'inst/cycle', '0.12'], ['smsp__warp_issue_stalled_long_scoreboard_per_warp_active.pct', '%', '29.24'], ['----------------------------------------------------------------------', '---------------', '------------------------------'], ['void', 'at::native::reduce_kernel<(int)512'], ['Section:', 'Command', 'line', 'profiler', 'metrics'], ['----------------------------------------------------------------------', '---------------', '------------------------------'], ['dram__bytes_read.sum', 'Kbyte', '47.58'], ['dram__bytes_read.sum.per_second', 'Gbyte/second', '8.80'], ['dram__sectors_read.sum', 'sector', '1'], ['dram__throughput.avg.pct_of_peak_sustained_elapsed', '%', '1.98'], ['gpu__time_active.avg', 'usecond', '5.41'], ['l1tex__t_bytes_pipe_lsu_mem_global_op_ld.sum.per_second', 'Gbyte/second', '1.63'], ['pcie__read_bytes.sum', 'byte', '0'], ['sm__warps_active.avg.pct_of_peak_sustained_active', '%', '47.51'], ['smsp__cycles_active.avg.pct_of_peak_sustained_elapsed', '%', '3.21'], ['smsp__inst_executed.avg.per_cycle_active', 'inst/cycle', '0.13'], ['smsp__warp_issue_stalled_long_scoreboard_per_warp_active.pct', '%', '7.30'], ['----------------------------------------------------------------------', '---------------', '------------------------------'], ['void', 'implicit_convolve_sgemm<float'], ['Section:', 'Command', 'line', 'profiler', 'metrics'], ['----------------------------------------------------------------------', '---------------', '------------------------------'], ['dram__bytes_read.sum', 'Kbyte', '35.90'], ['dram__bytes_read.sum.per_second', 'Gbyte/second', '4.08'], ['dram__sectors_read.sum', 'sector', '1'], ['dram__throughput.avg.pct_of_peak_sustained_elapsed', '%', '0.66'], ['gpu__time_active.avg', 'usecond', '8.80'], ['l1tex__t_bytes_pipe_lsu_mem_global_op_ld.sum.per_second', 'Gbyte/second', '18.75'], ['pcie__read_bytes.sum', 'Kbyte', '1.02'], ['sm__warps_active.avg.pct_of_peak_sustained_active', '%', '6.12'], ['smsp__cycles_active.avg.pct_of_peak_sustained_elapsed', '%', '8.50'], ['smsp__inst_executed.avg.per_cycle_active', 'inst/cycle', '0.23'], ['smsp__warp_issue_stalled_long_scoreboard_per_warp_active.pct', '%', '8.74'], ['----------------------------------------------------------------------', '---------------', '------------------------------'], ['void', 'cudnn::bn_fw_inf_1C11_kernel_NCHW<float'], ['Section:', 'Command', 'line', 'profiler', 'metrics'], ['----------------------------------------------------------------------', '---------------', '------------------------------'], ['dram__bytes_read.sum', 'Kbyte', '22.59'], ['dram__bytes_read.sum.per_second', 'Gbyte/second', '5.39'], ['dram__sectors_read.sum', 'sector', '706'], ['dram__throughput.avg.pct_of_peak_sustained_elapsed', '%', '0.94'], ['gpu__time_active.avg', 'usecond', '4.19'], ['l1tex__t_bytes_pipe_lsu_mem_global_op_ld.sum.per_second', 'Gbyte/second', '5.73'], ['pcie__read_bytes.sum', 'byte', '0'], ['sm__warps_active.avg.pct_of_peak_sustained_active', '%', '6.09'], ['smsp__cycles_active.avg.pct_of_peak_sustained_elapsed', '%', '12.53'], ['smsp__inst_executed.avg.per_cycle_active', 'inst/cycle', '0.03'], ['smsp__warp_issue_stalled_long_scoreboard_per_warp_active.pct', '%', '43.70'], ['----------------------------------------------------------------------', '---------------', '------------------------------'], ['void', 'at::native::vectorized_elementwise_kernel<(int)4'], ['Section:', 'Command', 'line', 'profiler', 'metrics'], ['----------------------------------------------------------------------', '---------------', '------------------------------'], ['dram__bytes_read.sum', 'Kbyte', '23.94'], ['dram__bytes_read.sum.per_second', 'Gbyte/second', '8.50'], ['dram__sectors_read.sum', 'sector', '748'], ['dram__throughput.avg.pct_of_peak_sustained_elapsed', '%', '1.71'], ['gpu__time_active.avg', 'usecond', '2.82'], ['l1tex__t_bytes_pipe_lsu_mem_global_op_ld.sum.per_second', 'Gbyte/second', '6.68'], ['pcie__read_bytes.sum', 'byte', '0'], ['sm__warps_active.avg.pct_of_peak_sustained_active', '%', '12.37'], ['smsp__cycles_active.avg.pct_of_peak_sustained_elapsed', '%', '10.02'], ['smsp__inst_executed.avg.per_cycle_active', 'inst/cycle', '0.02'], ['smsp__warp_issue_stalled_long_scoreboard_per_warp_active.pct', '%', '21.25'], ['----------------------------------------------------------------------', '---------------', '------------------------------'], ['void', 'at::native::<unnamed>::max_pool_forward_nchw<float'], ['Section:', 'Command', 'line', 'profiler', 'metrics'], ['----------------------------------------------------------------------', '---------------', '------------------------------'], ['dram__bytes_read.sum', 'Kbyte', '23.90'], ['dram__bytes_read.sum.per_second', 'Gbyte/second', '6.92'], ['dram__sectors_read.sum', 'sector', '747'], ['dram__throughput.avg.pct_of_peak_sustained_elapsed', '%', '1.25'], ['gpu__time_active.avg', 'usecond', '3.46'], ['l1tex__t_bytes_pipe_lsu_mem_global_op_ld.sum.per_second', 'Gbyte/second', '16.44'], ['pcie__read_bytes.sum', 'byte', '0'], ['sm__warps_active.avg.pct_of_peak_sustained_active', '%', '23.63'], ['smsp__cycles_active.avg.pct_of_peak_sustained_elapsed', '%', '5.43'], ['smsp__inst_executed.avg.per_cycle_active', 'inst/cycle', '0.13'], ['smsp__warp_issue_stalled_long_scoreboard_per_warp_active.pct', '%', '24.26'], ['----------------------------------------------------------------------', '---------------', '------------------------------'], ['void', 'at::native::reduce_kernel<(int)512'], ['Section:', 'Command', 'line', 'profiler', 'metrics'], ['----------------------------------------------------------------------', '---------------', '------------------------------'], ['dram__bytes_read.sum', 'Kbyte', '44.19'], ['dram__bytes_read.sum.per_second', 'Gbyte/second', '7.42'], ['dram__sectors_read.sum', 'sector', '1'], ['dram__throughput.avg.pct_of_peak_sustained_elapsed', '%', '1.87'], ['gpu__time_active.avg', 'usecond', '5.95'], ['l1tex__t_bytes_pipe_lsu_mem_global_op_ld.sum.per_second', 'Mbyte/second', '956.99'], ['pcie__read_bytes.sum', 'byte', '0'], ['sm__warps_active.avg.pct_of_peak_sustained_active', '%', '49.06'], ['smsp__cycles_active.avg.pct_of_peak_sustained_elapsed', '%', '3.83'], ['smsp__inst_executed.avg.per_cycle_active', 'inst/cycle', '0.10'], ['smsp__warp_issue_stalled_long_scoreboard_per_warp_active.pct', '%', '4.39'], ['----------------------------------------------------------------------', '---------------', '------------------------------'], ['void', 'cudnn::winograd_nonfused::winogradForwardData4x4<float'], ['Section:', 'Command', 'line', 'profiler', 'metrics'], ['----------------------------------------------------------------------', '---------------', '------------------------------'], ['dram__bytes_read.sum', 'Kbyte', '17.18'], ['dram__bytes_read.sum.per_second', 'Gbyte/second', '4.44'], ['dram__sectors_read.sum', 'sector', '537'], ['dram__throughput.avg.pct_of_peak_sustained_elapsed', '%', '0.79'], ['gpu__time_active.avg', 'usecond', '3.87'], ['l1tex__t_bytes_pipe_lsu_mem_global_op_ld.sum.per_second', 'Gbyte/second', '2.07'], ['pcie__read_bytes.sum', 'byte', '0'], ['sm__warps_active.avg.pct_of_peak_sustained_active', '%', '20.74'], ['smsp__cycles_active.avg.pct_of_peak_sustained_elapsed', '%', '12.27'], ['smsp__inst_executed.avg.per_cycle_active', 'inst/cycle', '0.27'], ['smsp__warp_issue_stalled_long_scoreboard_per_warp_active.pct', '%', '0.17'], ['----------------------------------------------------------------------', '---------------', '------------------------------'], ['void', 'cudnn::winograd_nonfused::winogradForwardFilter4x4<float'], ['Section:', 'Command', 'line', 'profiler', 'metrics'], ['----------------------------------------------------------------------', '---------------', '------------------------------'], ['dram__bytes_read.sum', 'Kbyte', '17.79'], ['dram__bytes_read.sum.per_second', 'Gbyte/second', '4.88'], ['dram__sectors_read.sum', 'sector', '556'], ['dram__throughput.avg.pct_of_peak_sustained_elapsed', '%', '0.87'], ['gpu__time_active.avg', 'usecond', '3.65'], ['l1tex__t_bytes_pipe_lsu_mem_global_op_ld.sum.per_second', 'Gbyte/second', '3.02'], ['pcie__read_bytes.sum', 'byte', '0'], ['sm__warps_active.avg.pct_of_peak_sustained_active', '%', '24.74'], ['smsp__cycles_active.avg.pct_of_peak_sustained_elapsed', '%', '3.34'], ['smsp__inst_executed.avg.per_cycle_active', 'inst/cycle', '0.19'], ['smsp__warp_issue_stalled_long_scoreboard_per_warp_active.pct', '%', '12.54'], ['----------------------------------------------------------------------', '---------------', '------------------------------'], ['volta_sgemm_64x64_nn'], ['Section:', 'Command', 'line', 'profiler', 'metrics'], ['----------------------------------------------------------------------', '---------------', '------------------------------'], ['dram__bytes_read.sum', 'Kbyte', '176'], ['dram__bytes_read.sum.per_second', 'Gbyte/second', '20.15'], ['dram__sectors_read.sum', 'sector', '5'], ['dram__throughput.avg.pct_of_peak_sustained_elapsed', '%', '3.47'], ['gpu__time_active.avg', 'usecond', '8.74'], ['l1tex__t_bytes_pipe_lsu_mem_global_op_ld.sum.per_second', 'Gbyte/second', '20.57'], ['pcie__read_bytes.sum', 'Kbyte', '1.54'], ['sm__warps_active.avg.pct_of_peak_sustained_active', '%', '6.24'], ['smsp__cycles_active.avg.pct_of_peak_sustained_elapsed', '%', '24.63'], ['smsp__inst_executed.avg.per_cycle_active', 'inst/cycle', '0.23'], ['smsp__warp_issue_stalled_long_scoreboard_per_warp_active.pct', '%', '7.06'], ['----------------------------------------------------------------------', '---------------', '------------------------------'], ['void', 'cudnn::winograd_nonfused::winogradForwardOutput4x4<float'], ['Section:', 'Command', 'line', 'profiler', 'metrics'], ['----------------------------------------------------------------------', '---------------', '------------------------------'], ['dram__bytes_read.sum', 'Kbyte', '234.91'], ['dram__bytes_read.sum.per_second', 'Gbyte/second', '54.78'], ['dram__sectors_read.sum', 'sector', '7'], ['dram__throughput.avg.pct_of_peak_sustained_elapsed', '%', '10.17'], ['gpu__time_active.avg', 'usecond', '4.29'], ['l1tex__t_bytes_pipe_lsu_mem_global_op_ld.sum.per_second', 'Gbyte/second', '51.58'], ['pcie__read_bytes.sum', 'byte', '0'], ['sm__warps_active.avg.pct_of_peak_sustained_active', '%', '20.49'], ['smsp__cycles_active.avg.pct_of_peak_sustained_elapsed', '%', '25.64'], ['smsp__inst_executed.avg.per_cycle_active', 'inst/cycle', '0.17'], ['smsp__warp_issue_stalled_long_scoreboard_per_warp_active.pct', '%', '3.03'], ['----------------------------------------------------------------------', '---------------', '------------------------------'], ['void', 'cudnn::bn_fw_inf_1C11_kernel_NCHW<float'], ['Section:', 'Command', 'line', 'profiler', 'metrics'], ['----------------------------------------------------------------------', '---------------', '------------------------------'], ['dram__bytes_read.sum', 'Kbyte', '13.44'], ['dram__bytes_read.sum.per_second', 'Gbyte/second', '4.16'], ['dram__sectors_read.sum', 'sector', '420'], ['dram__throughput.avg.pct_of_peak_sustained_elapsed', '%', '0.77'], ['gpu__time_active.avg', 'usecond', '3.23'], ['l1tex__t_bytes_pipe_lsu_mem_global_op_ld.sum.per_second', 'Gbyte/second', '7.45'], ['pcie__read_bytes.sum', 'byte', '0'], ['sm__warps_active.avg.pct_of_peak_sustained_active', '%', '6.24'], ['smsp__cycles_active.avg.pct_of_peak_sustained_elapsed', '%', '25.03'], ['smsp__inst_executed.avg.per_cycle_active', 'inst/cycle', '0.02'], ['smsp__warp_issue_stalled_long_scoreboard_per_warp_active.pct', '%', '26.53'], ['----------------------------------------------------------------------', '---------------', '------------------------------'], ['void', 'at::native::vectorized_elementwise_kernel<(int)4'], ['Section:', 'Command', 'line', 'profiler', 'metrics'], ['----------------------------------------------------------------------', '---------------', '------------------------------'], ['dram__bytes_read.sum', 'Kbyte', '14.53'], ['dram__bytes_read.sum.per_second', 'Gbyte/second', '5.22'], ['dram__sectors_read.sum', 'sector', '454'], ['dram__throughput.avg.pct_of_peak_sustained_elapsed', '%', '1.06'], ['gpu__time_active.avg', 'usecond', '2.78'], ['l1tex__t_bytes_pipe_lsu_mem_global_op_ld.sum.per_second', 'Gbyte/second', '3.38'], ['pcie__read_bytes.sum', 'byte', '0'], ['sm__warps_active.avg.pct_of_peak_sustained_active', '%', '12.44'], ['smsp__cycles_active.avg.pct_of_peak_sustained_elapsed', '%', '4.99'], ['smsp__inst_executed.avg.per_cycle_active', 'inst/cycle', '0.02'], ['smsp__warp_issue_stalled_long_scoreboard_per_warp_active.pct', '%', '20.45'], ['----------------------------------------------------------------------', '---------------', '------------------------------'], ['void', 'at::native::<unnamed>::max_pool_forward_nchw<float'], ['Section:', 'Command', 'line', 'profiler', 'metrics'], ['----------------------------------------------------------------------', '---------------', '------------------------------'], ['dram__bytes_read.sum', 'Kbyte', '14.50'], ['dram__bytes_read.sum.per_second', 'Gbyte/second', '3.77'], ['dram__sectors_read.sum', 'sector', '453'], ['dram__throughput.avg.pct_of_peak_sustained_elapsed', '%', '0.67'], ['gpu__time_active.avg', 'usecond', '3.84'], ['l1tex__t_bytes_pipe_lsu_mem_global_op_ld.sum.per_second', 'Gbyte/second', '7.38'], ['pcie__read_bytes.sum', 'byte', '0'], ['sm__warps_active.avg.pct_of_peak_sustained_active', '%', '22.02'], ['smsp__cycles_active.avg.pct_of_peak_sustained_elapsed', '%', '2.21'], ['smsp__inst_executed.avg.per_cycle_active', 'inst/cycle', '0.10'], ['smsp__warp_issue_stalled_long_scoreboard_per_warp_active.pct', '%', '32.57'], ['----------------------------------------------------------------------', '---------------', '------------------------------'], ['void', 'at::native::reduce_kernel<(int)512'], ['Section:', 'Command', 'line', 'profiler', 'metrics'], ['----------------------------------------------------------------------', '---------------', '------------------------------'], ['dram__bytes_read.sum', 'Kbyte', '41.18'], ['dram__bytes_read.sum.per_second', 'Gbyte/second', '7.15'], ['dram__sectors_read.sum', 'sector', '1'], ['dram__throughput.avg.pct_of_peak_sustained_elapsed', '%', '1.83'], ['gpu__time_active.avg', 'usecond', '5.76'], ['l1tex__t_bytes_pipe_lsu_mem_global_op_ld.sum.per_second', 'Mbyte/second', '550'], ['pcie__read_bytes.sum', 'byte', '512'], ['sm__warps_active.avg.pct_of_peak_sustained_active', '%', '24.46'], ['smsp__cycles_active.avg.pct_of_peak_sustained_elapsed', '%', '3.87'], ['smsp__inst_executed.avg.per_cycle_active', 'inst/cycle', '0.05'], ['smsp__warp_issue_stalled_long_scoreboard_per_warp_active.pct', '%', '4.09'], ['----------------------------------------------------------------------', '---------------', '------------------------------'], ['void', 'cudnn::winograd_nonfused::winogradForwardData4x4<float'], ['Section:', 'Command', 'line', 'profiler', 'metrics'], ['----------------------------------------------------------------------', '---------------', '------------------------------'], ['dram__bytes_read.sum', 'Kbyte', '14.18'], ['dram__bytes_read.sum.per_second', 'Gbyte/second', '3.66'], ['dram__sectors_read.sum', 'sector', '443'], ['dram__throughput.avg.pct_of_peak_sustained_elapsed', '%', '0.66'], ['gpu__time_active.avg', 'usecond', '3.87'], ['l1tex__t_bytes_pipe_lsu_mem_global_op_ld.sum.per_second', 'Gbyte/second', '1.14'], ['pcie__read_bytes.sum', 'byte', '0'], ['sm__warps_active.avg.pct_of_peak_sustained_active', '%', '19.98'], ['smsp__cycles_active.avg.pct_of_peak_sustained_elapsed', '%', '22.77'], ['smsp__inst_executed.avg.per_cycle_active', 'inst/cycle', '0.26'], ['smsp__warp_issue_stalled_long_scoreboard_per_warp_active.pct', '%', '0.11'], ['----------------------------------------------------------------------', '---------------', '------------------------------'], ['void', 'cudnn::winograd_nonfused::winogradForwardFilter4x4<float'], ['Section:', 'Command', 'line', 'profiler', 'metrics'], ['----------------------------------------------------------------------', '---------------', '------------------------------'], ['dram__bytes_read.sum', 'Kbyte', '48.90'], ['dram__bytes_read.sum.per_second', 'Gbyte/second', '12.63'], ['dram__sectors_read.sum', 'sector', '1'], ['dram__throughput.avg.pct_of_peak_sustained_elapsed', '%', '2.24'], ['gpu__time_active.avg', 'usecond', '3.87'], ['l1tex__t_bytes_pipe_lsu_mem_global_op_ld.sum.per_second', 'Gbyte/second', '9.59'], ['pcie__read_bytes.sum', 'byte', '0'], ['sm__warps_active.avg.pct_of_peak_sustained_active', '%', '24.61'], ['smsp__cycles_active.avg.pct_of_peak_sustained_elapsed', '%', '6.69'], ['smsp__inst_executed.avg.per_cycle_active', 'inst/cycle', '0.17'], ['smsp__warp_issue_stalled_long_scoreboard_per_warp_active.pct', '%', '14.73'], ['----------------------------------------------------------------------', '---------------', '------------------------------'], ['volta_sgemm_64x64_nn'], ['Section:', 'Command', 'line', 'profiler', 'metrics'], ['----------------------------------------------------------------------', '---------------', '------------------------------'], ['dram__bytes_read.sum', 'Kbyte', '245.12'], ['dram__bytes_read.sum.per_second', 'Gbyte/second', '26.97'], ['dram__sectors_read.sum', 'sector', '7'], ['dram__throughput.avg.pct_of_peak_sustained_elapsed', '%', '4.61'], ['gpu__time_active.avg', 'usecond', '9.09'], ['l1tex__t_bytes_pipe_lsu_mem_global_op_ld.sum.per_second', 'Gbyte/second', '24.34'], ['pcie__read_bytes.sum', 'Kbyte', '1.02'], ['sm__warps_active.avg.pct_of_peak_sustained_active', '%', '6.24'], ['smsp__cycles_active.avg.pct_of_peak_sustained_elapsed', '%', '24.58'], ['smsp__inst_executed.avg.per_cycle_active', 'inst/cycle', '0.27'], ['smsp__warp_issue_stalled_long_scoreboard_per_warp_active.pct', '%', '6.57'], ['----------------------------------------------------------------------', '---------------', '------------------------------'], ['void', 'cudnn::winograd_nonfused::winogradForwardOutput4x4<float'], ['Section:', 'Command', 'line', 'profiler', 'metrics'], ['----------------------------------------------------------------------', '---------------', '------------------------------'], ['dram__bytes_read.sum', 'Kbyte', '124.32'], ['dram__bytes_read.sum.per_second', 'Gbyte/second', '28.99'], ['dram__sectors_read.sum', 'sector', '3'], ['dram__throughput.avg.pct_of_peak_sustained_elapsed', '%', '5.40'], ['gpu__time_active.avg', 'usecond', '4.29'], ['l1tex__t_bytes_pipe_lsu_mem_global_op_ld.sum.per_second', 'Gbyte/second', '25.79'], ['pcie__read_bytes.sum', 'byte', '0'], ['sm__warps_active.avg.pct_of_peak_sustained_active', '%', '20.75'], ['smsp__cycles_active.avg.pct_of_peak_sustained_elapsed', '%', '51.48'], ['smsp__inst_executed.avg.per_cycle_active', 'inst/cycle', '0.16'], ['smsp__warp_issue_stalled_long_scoreboard_per_warp_active.pct', '%', '1.47'], ['----------------------------------------------------------------------', '---------------', '------------------------------'], ['void', 'cudnn::bn_fw_inf_1C11_kernel_NCHW<float'], ['Section:', 'Command', 'line', 'profiler', 'metrics'], ['----------------------------------------------------------------------', '---------------', '------------------------------'], ['dram__bytes_read.sum', 'Kbyte', '7.74'], ['dram__bytes_read.sum.per_second', 'Gbyte/second', '2.40'], ['dram__sectors_read.sum', 'sector', '242'], ['dram__throughput.avg.pct_of_peak_sustained_elapsed', '%', '0.43'], ['gpu__time_active.avg', 'usecond', '3.23'], ['l1tex__t_bytes_pipe_lsu_mem_global_op_ld.sum.per_second', 'Gbyte/second', '5.70'], ['pcie__read_bytes.sum', 'byte', '512'], ['sm__warps_active.avg.pct_of_peak_sustained_active', '%', '6.35'], ['smsp__cycles_active.avg.pct_of_peak_sustained_elapsed', '%', '33.68'], ['smsp__inst_executed.avg.per_cycle_active', 'inst/cycle', '0.02'], ['smsp__warp_issue_stalled_long_scoreboard_per_warp_active.pct', '%', '18.05'], ['----------------------------------------------------------------------', '---------------', '------------------------------'], ['void', 'at::native::vectorized_elementwise_kernel<(int)4'], ['Section:', 'Command', 'line', 'profiler', 'metrics'], ['----------------------------------------------------------------------', '---------------', '------------------------------'], ['dram__bytes_read.sum', 'Kbyte', '8.58'], ['dram__bytes_read.sum.per_second', 'Gbyte/second', '3.05'], ['dram__sectors_read.sum', 'sector', '268'], ['dram__throughput.avg.pct_of_peak_sustained_elapsed', '%', '0.64'], ['gpu__time_active.avg', 'usecond', '2.82'], ['l1tex__t_bytes_pipe_lsu_mem_global_op_ld.sum.per_second', 'Gbyte/second', '1.23'], ['pcie__read_bytes.sum', 'byte', '0'], ['sm__warps_active.avg.pct_of_peak_sustained_active', '%', '12.45'], ['smsp__cycles_active.avg.pct_of_peak_sustained_elapsed', '%', '2.11'], ['smsp__inst_executed.avg.per_cycle_active', 'inst/cycle', '0.02'], ['smsp__warp_issue_stalled_long_scoreboard_per_warp_active.pct', '%', '21.29'], ['----------------------------------------------------------------------', '---------------', '------------------------------'], ['void', 'at::native::<unnamed>::max_pool_forward_nchw<float'], ['Section:', 'Command', 'line', 'profiler', 'metrics'], ['----------------------------------------------------------------------', '---------------', '------------------------------'], ['dram__bytes_read.sum', 'Kbyte', '8.54'], ['dram__bytes_read.sum.per_second', 'Gbyte/second', '2.47'], ['dram__sectors_read.sum', 'sector', '267'], ['dram__throughput.avg.pct_of_peak_sustained_elapsed', '%', '0.46'], ['gpu__time_active.avg', 'usecond', '3.46'], ['l1tex__t_bytes_pipe_lsu_mem_global_op_ld.sum.per_second', 'Gbyte/second', '3.56'], ['pcie__read_bytes.sum', 'byte', '512'], ['sm__warps_active.avg.pct_of_peak_sustained_active', '%', '16.80'], ['smsp__cycles_active.avg.pct_of_peak_sustained_elapsed', '%', '1.00'], ['smsp__inst_executed.avg.per_cycle_active', 'inst/cycle', '0.06'], ['smsp__warp_issue_stalled_long_scoreboard_per_warp_active.pct', '%', '14.25'], ['----------------------------------------------------------------------', '---------------', '------------------------------'], ['void', 'at::native::reduce_kernel<(int)128'], ['Section:', 'Command', 'line', 'profiler', 'metrics'], ['----------------------------------------------------------------------', '---------------', '------------------------------'], ['dram__bytes_read.sum', 'Kbyte', '44.45'], ['dram__bytes_read.sum.per_second', 'Gbyte/second', '6.12'], ['dram__sectors_read.sum', 'sector', '1'], ['dram__throughput.avg.pct_of_peak_sustained_elapsed', '%', '1.97'], ['gpu__time_active.avg', 'usecond', '7.26'], ['l1tex__t_bytes_pipe_lsu_mem_global_op_ld.sum.per_second', 'Mbyte/second', '52.86'], ['pcie__read_bytes.sum', 'byte', '512'], ['sm__warps_active.avg.pct_of_peak_sustained_active', '%', '3.12'], ['smsp__cycles_active.avg.pct_of_peak_sustained_elapsed', '%', '1.29'], ['smsp__inst_executed.avg.per_cycle_active', 'inst/cycle', '0.03'], ['smsp__warp_issue_stalled_long_scoreboard_per_warp_active.pct', '%', '0.07'], ['----------------------------------------------------------------------', '---------------', '------------------------------'], ['void', 'implicit_convolve_sgemm<float'], ['Section:', 'Command', 'line', 'profiler', 'metrics'], ['----------------------------------------------------------------------', '---------------', '------------------------------'], ['dram__bytes_read.sum', 'Kbyte', '124.35'], ['dram__bytes_read.sum.per_second', 'Gbyte/second', '7.91'], ['dram__sectors_read.sum', 'sector', '3'], ['dram__throughput.avg.pct_of_peak_sustained_elapsed', '%', '1.74'], ['gpu__time_active.avg', 'usecond', '15.71'], ['l1tex__t_bytes_pipe_lsu_mem_global_op_ld.sum.per_second', 'Gbyte/second', '250.59'], ['pcie__read_bytes.sum', 'Kbyte', '1.02'], ['sm__warps_active.avg.pct_of_peak_sustained_active', '%', '55.58'], ['smsp__cycles_active.avg.pct_of_peak_sustained_elapsed', '%', '86.23'], ['smsp__inst_executed.avg.per_cycle_active', 'inst/cycle', '0.45'], ['smsp__warp_issue_stalled_long_scoreboard_per_warp_active.pct', '%', '2.73'], ['----------------------------------------------------------------------', '---------------', '------------------------------'], ['void', 'cudnn::bn_fw_inf_1C11_kernel_NCHW<float'], ['Section:', 'Command', 'line', 'profiler', 'metrics'], ['----------------------------------------------------------------------', '---------------', '------------------------------'], ['dram__bytes_read.sum', 'Kbyte', '605.89'], ['dram__bytes_read.sum.per_second', 'Gbyte/second', '48.30'], ['dram__sectors_read.sum', 'sector', '18'], ['dram__throughput.avg.pct_of_peak_sustained_elapsed', '%', '7.98'], ['gpu__time_active.avg', 'usecond', '12.54'], ['l1tex__t_bytes_pipe_lsu_mem_global_op_ld.sum.per_second', 'Gbyte/second', '49.96'], ['pcie__read_bytes.sum', 'Kbyte', '1.54'], ['sm__warps_active.avg.pct_of_peak_sustained_active', '%', '47.83'], ['smsp__cycles_active.avg.pct_of_peak_sustained_elapsed', '%', '15.83'], ['smsp__inst_executed.avg.per_cycle_active', 'inst/cycle', '0.12'], ['smsp__warp_issue_stalled_long_scoreboard_per_warp_active.pct', '%', '75.41'], ['----------------------------------------------------------------------', '---------------', '------------------------------'], ['void', 'at::native::vectorized_elementwise_kernel<(int)4'], ['Section:', 'Command', 'line', 'profiler', 'metrics'], ['----------------------------------------------------------------------', '---------------', '------------------------------'], ['dram__bytes_read.sum', 'Kbyte', '607.23'], ['dram__bytes_read.sum.per_second', 'Gbyte/second', '151.81'], ['dram__sectors_read.sum', 'sector', '18'], ['dram__throughput.avg.pct_of_peak_sustained_elapsed', '%', '27.48'], ['gpu__time_active.avg', 'usecond', '4'], ['l1tex__t_bytes_pipe_lsu_mem_global_op_ld.sum.per_second', 'Gbyte/second', '150.53'], ['pcie__read_bytes.sum', 'byte', '0'], ['sm__warps_active.avg.pct_of_peak_sustained_active', '%', '45.82'], ['smsp__cycles_active.avg.pct_of_peak_sustained_elapsed', '%', '69.35'], ['smsp__inst_executed.avg.per_cycle_active', 'inst/cycle', '0.04'], ['smsp__warp_issue_stalled_long_scoreboard_per_warp_active.pct', '%', '43.13'], ['----------------------------------------------------------------------', '---------------', '------------------------------'], ['void', 'at::native::<unnamed>::max_pool_forward_nchw<float'], ['Section:', 'Command', 'line', 'profiler', 'metrics'], ['----------------------------------------------------------------------', '---------------', '------------------------------'], ['dram__bytes_read.sum', 'Kbyte', '607.20'], ['dram__bytes_read.sum.per_second', 'Gbyte/second', '134.57'], ['dram__sectors_read.sum', 'sector', '18'], ['dram__throughput.avg.pct_of_peak_sustained_elapsed', '%', '23.76'], ['gpu__time_active.avg', 'usecond', '4.51'], ['l1tex__t_bytes_pipe_lsu_mem_global_op_ld.sum.per_second', 'Gbyte/second', '253.25'], ['pcie__read_bytes.sum', 'byte', '512'], ['sm__warps_active.avg.pct_of_peak_sustained_active', '%', '50.27'], ['smsp__cycles_active.avg.pct_of_peak_sustained_elapsed', '%', '75.41'], ['smsp__inst_executed.avg.per_cycle_active', 'inst/cycle', '0.22'], ['smsp__warp_issue_stalled_long_scoreboard_per_warp_active.pct', '%', '32.68'], ['----------------------------------------------------------------------', '---------------', '------------------------------'], ['void', 'at::native::reduce_kernel<(int)512'], ['Section:', 'Command', 'line', 'profiler', 'metrics'], ['----------------------------------------------------------------------', '---------------', '------------------------------'], ['dram__bytes_read.sum', 'Kbyte', '188.70'], ['dram__bytes_read.sum.per_second', 'Gbyte/second', '19.08'], ['dram__sectors_read.sum', 'sector', '5'], ['dram__throughput.avg.pct_of_peak_sustained_elapsed', '%', '3.47'], ['gpu__time_active.avg', 'usecond', '9.89'], ['l1tex__t_bytes_pipe_lsu_mem_global_op_ld.sum.per_second', 'Gbyte/second', '15.22'], ['pcie__read_bytes.sum', 'Kbyte', '1.02'], ['sm__warps_active.avg.pct_of_peak_sustained_active', '%', '48.99'], ['smsp__cycles_active.avg.pct_of_peak_sustained_elapsed', '%', '3.00'], ['smsp__inst_executed.avg.per_cycle_active', 'inst/cycle', '0.09'], ['smsp__warp_issue_stalled_long_scoreboard_per_warp_active.pct', '%', '38.61'], ['----------------------------------------------------------------------', '---------------', '------------------------------'], ['void', 'implicit_convolve_sgemm<float'], ['Section:', 'Command', 'line', 'profiler', 'metrics'], ['----------------------------------------------------------------------', '---------------', '------------------------------'], ['dram__bytes_read.sum', 'Kbyte', '177.02'], ['dram__bytes_read.sum.per_second', 'Gbyte/second', '15.99'], ['dram__sectors_read.sum', 'sector', '5'], ['dram__throughput.avg.pct_of_peak_sustained_elapsed', '%', '2.65'], ['gpu__time_active.avg', 'usecond', '11.07'], ['l1tex__t_bytes_pipe_lsu_mem_global_op_ld.sum.per_second', 'Gbyte/second', '216.63'], ['pcie__read_bytes.sum', 'Kbyte', '1.02'], ['sm__warps_active.avg.pct_of_peak_sustained_active', '%', '16.23'], ['smsp__cycles_active.avg.pct_of_peak_sustained_elapsed', '%', '82.96'], ['smsp__inst_executed.avg.per_cycle_active', 'inst/cycle', '0.30'], ['smsp__warp_issue_stalled_long_scoreboard_per_warp_active.pct', '%', '4.85'], ['----------------------------------------------------------------------', '---------------', '------------------------------'], ['void', 'cudnn::bn_fw_inf_1C11_kernel_NCHW<float'], ['Section:', 'Command', 'line', 'profiler', 'metrics'], ['----------------------------------------------------------------------', '---------------', '------------------------------'], ['dram__bytes_read.sum', 'Kbyte', '304.83'], ['dram__bytes_read.sum.per_second', 'Gbyte/second', '54.12'], ['dram__sectors_read.sum', 'sector', '9'], ['dram__throughput.avg.pct_of_peak_sustained_elapsed', '%', '9.11'], ['gpu__time_active.avg', 'usecond', '5.63'], ['l1tex__t_bytes_pipe_lsu_mem_global_op_ld.sum.per_second', 'Gbyte/second', '62.18'], ['pcie__read_bytes.sum', 'Kbyte', '1.54'], ['sm__warps_active.avg.pct_of_peak_sustained_active', '%', '45.60'], ['smsp__cycles_active.avg.pct_of_peak_sustained_elapsed', '%', '27.91'], ['smsp__inst_executed.avg.per_cycle_active', 'inst/cycle', '0.10'], ['smsp__warp_issue_stalled_long_scoreboard_per_warp_active.pct', '%', '55.37'], ['----------------------------------------------------------------------', '---------------', '------------------------------'], ['void', 'at::native::vectorized_elementwise_kernel<(int)4'], ['Section:', 'Command', 'line', 'profiler', 'metrics'], ['----------------------------------------------------------------------', '---------------', '------------------------------'], ['dram__bytes_read.sum', 'Kbyte', '306.18'], ['dram__bytes_read.sum.per_second', 'Gbyte/second', '90.26'], ['dram__sectors_read.sum', 'sector', '9'], ['dram__throughput.avg.pct_of_peak_sustained_elapsed', '%', '17.03'], ['gpu__time_active.avg', 'usecond', '3.39'], ['l1tex__t_bytes_pipe_lsu_mem_global_op_ld.sum.per_second', 'Gbyte/second', '88.75'], ['pcie__read_bytes.sum', 'byte', '0'], ['sm__warps_active.avg.pct_of_peak_sustained_active', '%', '25.22'], ['smsp__cycles_active.avg.pct_of_peak_sustained_elapsed', '%', '68.08'], ['smsp__inst_executed.avg.per_cycle_active', 'inst/cycle', '0.03'], ['smsp__warp_issue_stalled_long_scoreboard_per_warp_active.pct', '%', '33.07'], ['----------------------------------------------------------------------', '---------------', '------------------------------'], ['void', 'at::native::<unnamed>::max_pool_forward_nchw<float'], ['Section:', 'Command', 'line', 'profiler', 'metrics'], ['----------------------------------------------------------------------', '---------------', '------------------------------'], ['dram__bytes_read.sum', 'Kbyte', '306.14'], ['dram__bytes_read.sum.per_second', 'Gbyte/second', '75.33'], ['dram__sectors_read.sum', 'sector', '9'], ['dram__throughput.avg.pct_of_peak_sustained_elapsed', '%', '13.47'], ['gpu__time_active.avg', 'usecond', '4.06'], ['l1tex__t_bytes_pipe_lsu_mem_global_op_ld.sum.per_second', 'Gbyte/second', '139.87'], ['pcie__read_bytes.sum', 'byte', '0'], ['sm__warps_active.avg.pct_of_peak_sustained_active', '%', '26.50'], ['smsp__cycles_active.avg.pct_of_peak_sustained_elapsed', '%', '72.11'], ['smsp__inst_executed.avg.per_cycle_active', 'inst/cycle', '0.13'], ['smsp__warp_issue_stalled_long_scoreboard_per_warp_active.pct', '%', '31.38'], ['----------------------------------------------------------------------', '---------------', '------------------------------'], ['void', 'at::native::reduce_kernel<(int)512'], ['Section:', 'Command', 'line', 'profiler', 'metrics'], ['----------------------------------------------------------------------', '---------------', '------------------------------'], ['dram__bytes_read.sum', 'Kbyte', '113.44'], ['dram__bytes_read.sum.per_second', 'Gbyte/second', '15.15'], ['dram__sectors_read.sum', 'sector', '3'], ['dram__throughput.avg.pct_of_peak_sustained_elapsed', '%', '2.87'], ['gpu__time_active.avg', 'usecond', '7.49'], ['l1tex__t_bytes_pipe_lsu_mem_global_op_ld.sum.per_second', 'Gbyte/second', '9.81'], ['pcie__read_bytes.sum', 'Kbyte', '1.54'], ['sm__warps_active.avg.pct_of_peak_sustained_active', '%', '49.28'], ['smsp__cycles_active.avg.pct_of_peak_sustained_elapsed', '%', '3.02'], ['smsp__inst_executed.avg.per_cycle_active', 'inst/cycle', '0.10'], ['smsp__warp_issue_stalled_long_scoreboard_per_warp_active.pct', '%', '29.73'], ['----------------------------------------------------------------------', '---------------', '------------------------------'], ['void', 'implicit_convolve_sgemm<float'], ['Section:', 'Command', 'line', 'profiler', 'metrics'], ['----------------------------------------------------------------------', '---------------', '------------------------------'], ['dram__bytes_read.sum', 'Kbyte', '108.99'], ['dram__bytes_read.sum.per_second', 'Gbyte/second', '8.76'], ['dram__sectors_read.sum', 'sector', '3'], ['dram__throughput.avg.pct_of_peak_sustained_elapsed', '%', '1.41'], ['gpu__time_active.avg', 'usecond', '12.45'], ['l1tex__t_bytes_pipe_lsu_mem_global_op_ld.sum.per_second', 'Gbyte/second', '123.12'], ['pcie__read_bytes.sum', 'Kbyte', '1.02'], ['sm__warps_active.avg.pct_of_peak_sustained_active', '%', '6.24'], ['smsp__cycles_active.avg.pct_of_peak_sustained_elapsed', '%', '33.37'], ['smsp__inst_executed.avg.per_cycle_active', 'inst/cycle', '0.28'], ['smsp__warp_issue_stalled_long_scoreboard_per_warp_active.pct', '%', '9.19'], ['----------------------------------------------------------------------', '---------------', '------------------------------'], ['void', 'cudnn::bn_fw_inf_1C11_kernel_NCHW<float'], ['Section:', 'Command', 'line', 'profiler', 'metrics'], ['----------------------------------------------------------------------', '---------------', '------------------------------'], ['dram__bytes_read.sum', 'Kbyte', '154.56'], ['dram__bytes_read.sum.per_second', 'Gbyte/second', '34.75'], ['dram__sectors_read.sum', 'sector', '4'], ['dram__throughput.avg.pct_of_peak_sustained_elapsed', '%', '5.93'], ['gpu__time_active.avg', 'usecond', '4.45'], ['l1tex__t_bytes_pipe_lsu_mem_global_op_ld.sum.per_second', 'Gbyte/second', '39.70'], ['pcie__read_bytes.sum', 'byte', '0'], ['sm__warps_active.avg.pct_of_peak_sustained_active', '%', '22.59'], ['smsp__cycles_active.avg.pct_of_peak_sustained_elapsed', '%', '49.79'], ['smsp__inst_executed.avg.per_cycle_active', 'inst/cycle', '0.05'], ['smsp__warp_issue_stalled_long_scoreboard_per_warp_active.pct', '%', '42.55'], ['----------------------------------------------------------------------', '---------------', '------------------------------'], ['void', 'at::native::vectorized_elementwise_kernel<(int)4'], ['Section:', 'Command', 'line', 'profiler', 'metrics'], ['----------------------------------------------------------------------', '---------------', '------------------------------'], ['dram__bytes_read.sum', 'Kbyte', '155.65'], ['dram__bytes_read.sum.per_second', 'Gbyte/second', '52.30'], ['dram__sectors_read.sum', 'sector', '4'], ['dram__throughput.avg.pct_of_peak_sustained_elapsed', '%', '9.78'], ['gpu__time_active.avg', 'usecond', '2.98'], ['l1tex__t_bytes_pipe_lsu_mem_global_op_ld.sum.per_second', 'Gbyte/second', '50.58'], ['pcie__read_bytes.sum', 'byte', '0'], ['sm__warps_active.avg.pct_of_peak_sustained_active', '%', '13.23'], ['smsp__cycles_active.avg.pct_of_peak_sustained_elapsed', '%', '64.70'], ['smsp__inst_executed.avg.per_cycle_active', 'inst/cycle', '0.02'], ['smsp__warp_issue_stalled_long_scoreboard_per_warp_active.pct', '%', '26.16'], ['----------------------------------------------------------------------', '---------------', '------------------------------'], ['void', 'at::native::<unnamed>::max_pool_forward_nchw<float'], ['Section:', 'Command', 'line', 'profiler', 'metrics'], ['----------------------------------------------------------------------', '---------------', '------------------------------'], ['dram__bytes_read.sum', 'Kbyte', '155.62'], ['dram__bytes_read.sum.per_second', 'Gbyte/second', '41.21'], ['dram__sectors_read.sum', 'sector', '4'], ['dram__throughput.avg.pct_of_peak_sustained_elapsed', '%', '7.20'], ['gpu__time_active.avg', 'usecond', '3.78'], ['l1tex__t_bytes_pipe_lsu_mem_global_op_ld.sum.per_second', 'Gbyte/second', '94.61'], ['pcie__read_bytes.sum', 'byte', '0'], ['sm__warps_active.avg.pct_of_peak_sustained_active', '%', '24.25'], ['smsp__cycles_active.avg.pct_of_peak_sustained_elapsed', '%', '39.59'], ['smsp__inst_executed.avg.per_cycle_active', 'inst/cycle', '0.12'], ['smsp__warp_issue_stalled_long_scoreboard_per_warp_active.pct', '%', '31.11'], ['----------------------------------------------------------------------', '---------------', '------------------------------'], ['void', 'at::native::reduce_kernel<(int)512'], ['Section:', 'Command', 'line', 'profiler', 'metrics'], ['----------------------------------------------------------------------', '---------------', '------------------------------'], ['dram__bytes_read.sum', 'Kbyte', '75.81'], ['dram__bytes_read.sum.per_second', 'Gbyte/second', '12.15'], ['dram__sectors_read.sum', 'sector', '2'], ['dram__throughput.avg.pct_of_peak_sustained_elapsed', '%', '2.87'], ['gpu__time_active.avg', 'usecond', '6.24'], ['l1tex__t_bytes_pipe_lsu_mem_global_op_ld.sum.per_second', 'Gbyte/second', '5.68'], ['pcie__read_bytes.sum', 'byte', '0'], ['sm__warps_active.avg.pct_of_peak_sustained_active', '%', '49.78'], ['smsp__cycles_active.avg.pct_of_peak_sustained_elapsed', '%', '5.51'], ['smsp__inst_executed.avg.per_cycle_active', 'inst/cycle', '0.11'], ['smsp__warp_issue_stalled_long_scoreboard_per_warp_active.pct', '%', '15.52'], ['----------------------------------------------------------------------', '---------------', '------------------------------'], ['void', 'cudnn::winograd_nonfused::winogradForwardData4x4<float'], ['Section:', 'Command', 'line', 'profiler', 'metrics'], ['----------------------------------------------------------------------', '---------------', '------------------------------'], ['dram__bytes_read.sum', 'Kbyte', '50.08'], ['dram__bytes_read.sum.per_second', 'Gbyte/second', '10.23'], ['dram__sectors_read.sum', 'sector', '1'], ['dram__throughput.avg.pct_of_peak_sustained_elapsed', '%', '6.26'], ['gpu__time_active.avg', 'usecond', '4.90'], ['l1tex__t_bytes_pipe_lsu_mem_global_op_ld.sum.per_second', 'Gbyte/second', '10.16'], ['pcie__read_bytes.sum', 'Kbyte', '1.02'], ['sm__warps_active.avg.pct_of_peak_sustained_active', '%', '24.47'], ['smsp__cycles_active.avg.pct_of_peak_sustained_elapsed', '%', '29.16'], ['smsp__inst_executed.avg.per_cycle_active', 'inst/cycle', '0.26'], ['smsp__warp_issue_stalled_long_scoreboard_per_warp_active.pct', '%', '0.40'], ['----------------------------------------------------------------------', '---------------', '------------------------------'], ['void', 'cudnn::winograd_nonfused::winogradForwardFilter4x4<float'], ['Section:', 'Command', 'line', 'profiler', 'metrics'], ['----------------------------------------------------------------------', '---------------', '------------------------------'], ['dram__bytes_read.sum', 'Kbyte', '48.90'], ['dram__bytes_read.sum.per_second', 'Gbyte/second', '12.52'], ['dram__sectors_read.sum', 'sector', '1'], ['dram__throughput.avg.pct_of_peak_sustained_elapsed', '%', '2.24'], ['gpu__time_active.avg', 'usecond', '3.90'], ['l1tex__t_bytes_pipe_lsu_mem_global_op_ld.sum.per_second', 'Gbyte/second', '9.53'], ['pcie__read_bytes.sum', 'byte', '512'], ['sm__warps_active.avg.pct_of_peak_sustained_active', '%', '24.61'], ['smsp__cycles_active.avg.pct_of_peak_sustained_elapsed', '%', '6.80'], ['smsp__inst_executed.avg.per_cycle_active', 'inst/cycle', '0.17'], ['smsp__warp_issue_stalled_long_scoreboard_per_warp_active.pct', '%', '13.70'], ['----------------------------------------------------------------------', '---------------', '------------------------------'], ['volta_sgemm_64x64_nn'], ['Section:', 'Command', 'line', 'profiler', 'metrics'], ['----------------------------------------------------------------------', '---------------', '------------------------------'], ['dram__bytes_read.sum', 'Mbyte', '1.07'], ['dram__bytes_read.sum.per_second', 'Gbyte/second', '88.37'], ['dram__sectors_read.sum', 'sector', '33'], ['dram__throughput.avg.pct_of_peak_sustained_elapsed', '%', '19.98'], ['gpu__time_active.avg', 'usecond', '12.16'], ['l1tex__t_bytes_pipe_lsu_mem_global_op_ld.sum.per_second', 'Gbyte/second', '127.15'], ['pcie__read_bytes.sum', 'Kbyte', '1.02'], ['sm__warps_active.avg.pct_of_peak_sustained_active', '%', '12.92'], ['smsp__cycles_active.avg.pct_of_peak_sustained_elapsed', '%', '71.71'], ['smsp__inst_executed.avg.per_cycle_active', 'inst/cycle', '0.26'], ['smsp__warp_issue_stalled_long_scoreboard_per_warp_active.pct', '%', '11.70'], ['----------------------------------------------------------------------', '---------------', '------------------------------'], ['void', 'cudnn::winograd_nonfused::winogradForwardOutput4x4<float'], ['Section:', 'Command', 'line', 'profiler', 'metrics'], ['----------------------------------------------------------------------', '---------------', '------------------------------'], ['dram__bytes_read.sum', 'Mbyte', '1.78'], ['dram__bytes_read.sum.per_second', 'Gbyte/second', '241.23'], ['dram__sectors_read.sum', 'sector', '55'], ['dram__throughput.avg.pct_of_peak_sustained_elapsed', '%', '41.72'], ['gpu__time_active.avg', 'usecond', '7.39'], ['l1tex__t_bytes_pipe_lsu_mem_global_op_ld.sum.per_second', 'Gbyte/second', '239.38'], ['pcie__read_bytes.sum', 'Kbyte', '1.02'], ['sm__warps_active.avg.pct_of_peak_sustained_active', '%', '22.59'], ['smsp__cycles_active.avg.pct_of_peak_sustained_elapsed', '%', '60.14'], ['smsp__inst_executed.avg.per_cycle_active', 'inst/cycle', '0.10'], ['smsp__warp_issue_stalled_long_scoreboard_per_warp_active.pct', '%', '49.85'], ['----------------------------------------------------------------------', '---------------', '------------------------------'], ['void', 'cudnn::bn_fw_inf_1C11_kernel_NCHW<float'], ['Section:', 'Command', 'line', 'profiler', 'metrics'], ['----------------------------------------------------------------------', '---------------', '------------------------------'], ['dram__bytes_read.sum', 'Kbyte', '79.55'], ['dram__bytes_read.sum.per_second', 'Gbyte/second', '18.55'], ['dram__sectors_read.sum', 'sector', '2'], ['dram__throughput.avg.pct_of_peak_sustained_elapsed', '%', '3.19'], ['gpu__time_active.avg', 'usecond', '4.29'], ['l1tex__t_bytes_pipe_lsu_mem_global_op_ld.sum.per_second', 'Gbyte/second', '22.72'], ['pcie__read_bytes.sum', 'byte', '512'], ['sm__warps_active.avg.pct_of_peak_sustained_active', '%', '8.54'], ['smsp__cycles_active.avg.pct_of_peak_sustained_elapsed', '%', '47.07'], ['smsp__inst_executed.avg.per_cycle_active', 'inst/cycle', '0.03'], ['smsp__warp_issue_stalled_long_scoreboard_per_warp_active.pct', '%', '44.15'], ['----------------------------------------------------------------------', '---------------', '------------------------------'], ['void', 'at::native::vectorized_elementwise_kernel<(int)4'], ['Section:', 'Command', 'line', 'profiler', 'metrics'], ['----------------------------------------------------------------------', '---------------', '------------------------------'], ['dram__bytes_read.sum', 'Kbyte', '80.38'], ['dram__bytes_read.sum.per_second', 'Gbyte/second', '27.60'], ['dram__sectors_read.sum', 'sector', '2'], ['dram__throughput.avg.pct_of_peak_sustained_elapsed', '%', '5.14'], ['gpu__time_active.avg', 'usecond', '2.91'], ['l1tex__t_bytes_pipe_lsu_mem_global_op_ld.sum.per_second', 'Gbyte/second', '25.85'], ['pcie__read_bytes.sum', 'byte', '0'], ['sm__warps_active.avg.pct_of_peak_sustained_active', '%', '12.39'], ['smsp__cycles_active.avg.pct_of_peak_sustained_elapsed', '%', '34.17'], ['smsp__inst_executed.avg.per_cycle_active', 'inst/cycle', '0.02'], ['smsp__warp_issue_stalled_long_scoreboard_per_warp_active.pct', '%', '23.68'], ['----------------------------------------------------------------------', '---------------', '------------------------------'], ['void', 'at::native::<unnamed>::max_pool_forward_nchw<float'], ['Section:', 'Command', 'line', 'profiler', 'metrics'], ['----------------------------------------------------------------------', '---------------', '------------------------------'], ['dram__bytes_read.sum', 'Kbyte', '80.35'], ['dram__bytes_read.sum.per_second', 'Gbyte/second', '22.83'], ['dram__sectors_read.sum', 'sector', '2'], ['dram__throughput.avg.pct_of_peak_sustained_elapsed', '%', '4.09'], ['gpu__time_active.avg', 'usecond', '3.52'], ['l1tex__t_bytes_pipe_lsu_mem_global_op_ld.sum.per_second', 'Gbyte/second', '64.67'], ['pcie__read_bytes.sum', 'byte', '0'], ['sm__warps_active.avg.pct_of_peak_sustained_active', '%', '24.24'], ['smsp__cycles_active.avg.pct_of_peak_sustained_elapsed', '%', '20.23'], ['smsp__inst_executed.avg.per_cycle_active', 'inst/cycle', '0.13'], ['smsp__warp_issue_stalled_long_scoreboard_per_warp_active.pct', '%', '25.63'], ['----------------------------------------------------------------------', '---------------', '------------------------------'], ['void', 'at::native::reduce_kernel<(int)512'], ['Section:', 'Command', 'line', 'profiler', 'metrics'], ['----------------------------------------------------------------------', '---------------', '------------------------------'], ['dram__bytes_read.sum', 'Kbyte', '58.27'], ['dram__bytes_read.sum.per_second', 'Gbyte/second', '9.24'], ['dram__sectors_read.sum', 'sector', '1'], ['dram__throughput.avg.pct_of_peak_sustained_elapsed', '%', '2.44'], ['gpu__time_active.avg', 'usecond', '6.30'], ['l1tex__t_bytes_pipe_lsu_mem_global_op_ld.sum.per_second', 'Gbyte/second', '3.57'], ['pcie__read_bytes.sum', 'byte', '512'], ['sm__warps_active.avg.pct_of_peak_sustained_active', '%', '49.79'], ['smsp__cycles_active.avg.pct_of_peak_sustained_elapsed', '%', '12.26'], ['smsp__inst_executed.avg.per_cycle_active', 'inst/cycle', '0.10'], ['smsp__warp_issue_stalled_long_scoreboard_per_warp_active.pct', '%', '5.18'], ['----------------------------------------------------------------------', '---------------', '------------------------------'], ['void', 'cudnn::winograd::generateWinogradTilesKernel<(int)0'], ['Section:', 'Command', 'line', 'profiler', 'metrics'], ['----------------------------------------------------------------------', '---------------', '------------------------------'], ['dram__bytes_read.sum', 'Kbyte', '173.82'], ['dram__bytes_read.sum.per_second', 'Gbyte/second', '57.79'], ['dram__sectors_read.sum', 'sector', '5'], ['dram__throughput.avg.pct_of_peak_sustained_elapsed', '%', '9.31'], ['gpu__time_active.avg', 'usecond', '3.01'], ['l1tex__t_bytes_pipe_lsu_mem_global_op_ld.sum.per_second', 'Gbyte/second', '104.66'], ['pcie__read_bytes.sum', 'byte', '0'], ['sm__warps_active.avg.pct_of_peak_sustained_active', '%', '12.47'], ['smsp__cycles_active.avg.pct_of_peak_sustained_elapsed', '%', '30.12'], ['smsp__inst_executed.avg.per_cycle_active', 'inst/cycle', '0.16'], ['smsp__warp_issue_stalled_long_scoreboard_per_warp_active.pct', '%', '24.26'], ['----------------------------------------------------------------------', '---------------', '------------------------------'], ['volta_scudnn_winograd_128x128_ldg1_ldg4_relu_tile148t_nt_v1'], ['Section:', 'Command', 'line', 'profiler', 'metrics'], ['----------------------------------------------------------------------', '---------------', '------------------------------'], ['dram__bytes_read.sum', 'Kbyte', '347.04'], ['dram__bytes_read.sum.per_second', 'Gbyte/second', '18.89'], ['dram__sectors_read.sum', 'sector', '10'], ['dram__throughput.avg.pct_of_peak_sustained_elapsed', '%', '3.06'], ['gpu__time_active.avg', 'usecond', '18.37'], ['l1tex__t_bytes_pipe_lsu_mem_global_op_ld.sum.per_second', 'Gbyte/second', '38.26'], ['pcie__read_bytes.sum', 'Kbyte', '1.02'], ['sm__warps_active.avg.pct_of_peak_sustained_active', '%', '24.95'], ['smsp__cycles_active.avg.pct_of_peak_sustained_elapsed', '%', '8.59'], ['smsp__inst_executed.avg.per_cycle_active', 'inst/cycle', '0.42'], ['smsp__warp_issue_stalled_long_scoreboard_per_warp_active.pct', '%', '1.52'], ['----------------------------------------------------------------------', '---------------', '------------------------------'], ['void', 'cudnn::bn_fw_inf_1C11_kernel_NCHW<float'], ['Section:', 'Command', 'line', 'profiler', 'metrics'], ['----------------------------------------------------------------------', '---------------', '------------------------------'], ['dram__bytes_read.sum', 'Kbyte', '42.69'], ['dram__bytes_read.sum.per_second', 'Gbyte/second', '12.47'], ['dram__sectors_read.sum', 'sector', '1'], ['dram__throughput.avg.pct_of_peak_sustained_elapsed', '%', '2.24'], ['gpu__time_active.avg', 'usecond', '3.42'], ['l1tex__t_bytes_pipe_lsu_mem_global_op_ld.sum.per_second', 'Gbyte/second', '27.52'], ['pcie__read_bytes.sum', 'byte', '0'], ['sm__warps_active.avg.pct_of_peak_sustained_active', '%', '16.98'], ['smsp__cycles_active.avg.pct_of_peak_sustained_elapsed', '%', '65.94'], ['smsp__inst_executed.avg.per_cycle_active', 'inst/cycle', '0.03'], ['smsp__warp_issue_stalled_long_scoreboard_per_warp_active.pct', '%', '24.78'], ['----------------------------------------------------------------------', '---------------', '------------------------------'], ['void', 'at::native::vectorized_elementwise_kernel<(int)4'], ['Section:', 'Command', 'line', 'profiler', 'metrics'], ['----------------------------------------------------------------------', '---------------', '------------------------------'], ['dram__bytes_read.sum', 'Kbyte', '42.75'], ['dram__bytes_read.sum.per_second', 'Gbyte/second', '15.53'], ['dram__sectors_read.sum', 'sector', '1'], ['dram__throughput.avg.pct_of_peak_sustained_elapsed', '%', '3.04'], ['gpu__time_active.avg', 'usecond', '2.75'], ['l1tex__t_bytes_pipe_lsu_mem_global_op_ld.sum.per_second', 'Gbyte/second', '13.67'], ['pcie__read_bytes.sum', 'byte', '0'], ['sm__warps_active.avg.pct_of_peak_sustained_active', '%', '12.41'], ['smsp__cycles_active.avg.pct_of_peak_sustained_elapsed', '%', '18.50'], ['smsp__inst_executed.avg.per_cycle_active', 'inst/cycle', '0.02'], ['smsp__warp_issue_stalled_long_scoreboard_per_warp_active.pct', '%', '21.87'], ['----------------------------------------------------------------------', '---------------', '------------------------------'], ['void', 'at::native::<unnamed>::max_pool_forward_nchw<float'], ['Section:', 'Command', 'line', 'profiler', 'metrics'], ['----------------------------------------------------------------------', '---------------', '------------------------------'], ['dram__bytes_read.sum', 'Kbyte', '42.72'], ['dram__bytes_read.sum.per_second', 'Gbyte/second', '10.85'], ['dram__sectors_read.sum', 'sector', '1'], ['dram__throughput.avg.pct_of_peak_sustained_elapsed', '%', '1.92'], ['gpu__time_active.avg', 'usecond', '3.94'], ['l1tex__t_bytes_pipe_lsu_mem_global_op_ld.sum.per_second', 'Gbyte/second', '28.71'], ['pcie__read_bytes.sum', 'byte', '0'], ['sm__warps_active.avg.pct_of_peak_sustained_active', '%', '23.27'], ['smsp__cycles_active.avg.pct_of_peak_sustained_elapsed', '%', '7.64'], ['smsp__inst_executed.avg.per_cycle_active', 'inst/cycle', '0.11'], ['smsp__warp_issue_stalled_long_scoreboard_per_warp_active.pct', '%', '33.85'], ['----------------------------------------------------------------------', '---------------', '------------------------------'], ['void', 'at::native::reduce_kernel<(int)512'], ['Section:', 'Command', 'line', 'profiler', 'metrics'], ['----------------------------------------------------------------------', '---------------', '------------------------------'], ['dram__bytes_read.sum', 'Kbyte', '46.37'], ['dram__bytes_read.sum.per_second', 'Gbyte/second', '7.59'], ['dram__sectors_read.sum', 'sector', '1'], ['dram__throughput.avg.pct_of_peak_sustained_elapsed', '%', '2.01'], ['gpu__time_active.avg', 'usecond', '6.11'], ['l1tex__t_bytes_pipe_lsu_mem_global_op_ld.sum.per_second', 'Gbyte/second', '2.17'], ['pcie__read_bytes.sum', 'byte', '0'], ['sm__warps_active.avg.pct_of_peak_sustained_active', '%', '49.78'], ['smsp__cycles_active.avg.pct_of_peak_sustained_elapsed', '%', '6.07'], ['smsp__inst_executed.avg.per_cycle_active', 'inst/cycle', '0.10'], ['smsp__warp_issue_stalled_long_scoreboard_per_warp_active.pct', '%', '5.57'], ['----------------------------------------------------------------------', '---------------', '------------------------------'], ['void', 'cudnn::winograd::generateWinogradTilesKernel<(int)0'], ['Section:', 'Command', 'line', 'profiler', 'metrics'], ['----------------------------------------------------------------------', '---------------', '------------------------------'], ['dram__bytes_read.sum', 'Kbyte', '671.49'], ['dram__bytes_read.sum.per_second', 'Gbyte/second', '143.73'], ['dram__sectors_read.sum', 'sector', '20'], ['dram__throughput.avg.pct_of_peak_sustained_elapsed', '%', '29.92'], ['gpu__time_active.avg', 'usecond', '4.67'], ['l1tex__t_bytes_pipe_lsu_mem_global_op_ld.sum.per_second', 'Gbyte/second', '277.27'], ['pcie__read_bytes.sum', 'Kbyte', '1.02'], ['sm__warps_active.avg.pct_of_peak_sustained_active', '%', '24.66'], ['smsp__cycles_active.avg.pct_of_peak_sustained_elapsed', '%', '66.12'], ['smsp__inst_executed.avg.per_cycle_active', 'inst/cycle', '0.18'], ['smsp__warp_issue_stalled_long_scoreboard_per_warp_active.pct', '%', '39.87'], ['----------------------------------------------------------------------', '---------------', '------------------------------'], ['volta_scudnn_winograd_128x128_ldg1_ldg4_relu_tile148t_nt_v1'], ['Section:', 'Command', 'line', 'profiler', 'metrics'], ['----------------------------------------------------------------------', '---------------', '------------------------------'], ['dram__bytes_read.sum', 'Mbyte', '1.22'], ['dram__bytes_read.sum.per_second', 'Gbyte/second', '41.12'], ['dram__sectors_read.sum', 'sector', '38'], ['dram__throughput.avg.pct_of_peak_sustained_elapsed', '%', '6.50'], ['gpu__time_active.avg', 'usecond', '29.66'], ['l1tex__t_bytes_pipe_lsu_mem_global_op_ld.sum.per_second', 'Gbyte/second', '84.18'], ['pcie__read_bytes.sum', 'Kbyte', '1.02'], ['sm__warps_active.avg.pct_of_peak_sustained_active', '%', '24.97'], ['smsp__cycles_active.avg.pct_of_peak_sustained_elapsed', '%', '17.25'], ['smsp__inst_executed.avg.per_cycle_active', 'inst/cycle', '0.46'], ['smsp__warp_issue_stalled_long_scoreboard_per_warp_active.pct', '%', '0.76'], ['----------------------------------------------------------------------', '---------------', '------------------------------'], ['void', 'cudnn::bn_fw_inf_1C11_kernel_NCHW<float'], ['Section:', 'Command', 'line', 'profiler', 'metrics'], ['----------------------------------------------------------------------', '---------------', '------------------------------'], ['dram__bytes_read.sum', 'Kbyte', '20.42'], ['dram__bytes_read.sum.per_second', 'Gbyte/second', '5.75'], ['dram__sectors_read.sum', 'sector', '638'], ['dram__throughput.avg.pct_of_peak_sustained_elapsed', '%', '1.02'], ['gpu__time_active.avg', 'usecond', '3.55'], ['l1tex__t_bytes_pipe_lsu_mem_global_op_ld.sum.per_second', 'Gbyte/second', '20.76'], ['pcie__read_bytes.sum', 'byte', '0'], ['sm__warps_active.avg.pct_of_peak_sustained_active', '%', '23.81'], ['smsp__cycles_active.avg.pct_of_peak_sustained_elapsed', '%', '66.09'], ['smsp__inst_executed.avg.per_cycle_active', 'inst/cycle', '0.03'], ['smsp__warp_issue_stalled_long_scoreboard_per_warp_active.pct', '%', '17.44'], ['----------------------------------------------------------------------', '---------------', '------------------------------'], ['void', 'at::native::vectorized_elementwise_kernel<(int)4'], ['Section:', 'Command', 'line', 'profiler', 'metrics'], ['----------------------------------------------------------------------', '---------------', '------------------------------'], ['dram__bytes_read.sum', 'Kbyte', '18.94'], ['dram__bytes_read.sum.per_second', 'Gbyte/second', '6.73'], ['dram__sectors_read.sum', 'sector', '592'], ['dram__throughput.avg.pct_of_peak_sustained_elapsed', '%', '1.33'], ['gpu__time_active.avg', 'usecond', '2.82'], ['l1tex__t_bytes_pipe_lsu_mem_global_op_ld.sum.per_second', 'Gbyte/second', '4.91'], ['pcie__read_bytes.sum', 'byte', '0'], ['sm__warps_active.avg.pct_of_peak_sustained_active', '%', '12.44'], ['smsp__cycles_active.avg.pct_of_peak_sustained_elapsed', '%', '6.99'], ['smsp__inst_executed.avg.per_cycle_active', 'inst/cycle', '0.02'], ['smsp__warp_issue_stalled_long_scoreboard_per_warp_active.pct', '%', '20.35'], ['----------------------------------------------------------------------', '---------------', '------------------------------'], ['void', 'at::native::<unnamed>::max_pool_forward_nchw<float'], ['Section:', 'Command', 'line', 'profiler', 'metrics'], ['----------------------------------------------------------------------', '---------------', '------------------------------'], ['dram__bytes_read.sum', 'Kbyte', '18.91'], ['dram__bytes_read.sum.per_second', 'Gbyte/second', '5.28'], ['dram__sectors_read.sum', 'sector', '591'], ['dram__throughput.avg.pct_of_peak_sustained_elapsed', '%', '0.96'], ['gpu__time_active.avg', 'usecond', '3.58'], ['l1tex__t_bytes_pipe_lsu_mem_global_op_ld.sum.per_second', 'Gbyte/second', '13.71'], ['pcie__read_bytes.sum', 'byte', '512'], ['sm__warps_active.avg.pct_of_peak_sustained_active', '%', '21.60'], ['smsp__cycles_active.avg.pct_of_peak_sustained_elapsed', '%', '2.16'], ['smsp__inst_executed.avg.per_cycle_active', 'inst/cycle', '0.10'], ['smsp__warp_issue_stalled_long_scoreboard_per_warp_active.pct', '%', '25.12'], ['----------------------------------------------------------------------', '---------------', '------------------------------'], ['void', 'at::native::reduce_kernel<(int)128'], ['Section:', 'Command', 'line', 'profiler', 'metrics'], ['----------------------------------------------------------------------', '---------------', '------------------------------'], ['dram__bytes_read.sum', 'Kbyte', '45.60'], ['dram__bytes_read.sum.per_second', 'Gbyte/second', '7.58'], ['dram__sectors_read.sum', 'sector', '1'], ['dram__throughput.avg.pct_of_peak_sustained_elapsed', '%', '2.02'], ['gpu__time_active.avg', 'usecond', '6.02'], ['l1tex__t_bytes_pipe_lsu_mem_global_op_ld.sum.per_second', 'Mbyte/second', '255.32'], ['pcie__read_bytes.sum', 'byte', '0'], ['sm__warps_active.avg.pct_of_peak_sustained_active', '%', '6.13'], ['smsp__cycles_active.avg.pct_of_peak_sustained_elapsed', '%', '1.97'], ['smsp__inst_executed.avg.per_cycle_active', 'inst/cycle', '0.03'], ['smsp__warp_issue_stalled_long_scoreboard_per_warp_active.pct', '%', '0.93'], ['----------------------------------------------------------------------', '---------------', '------------------------------'], ['void', '<unnamed>::softmax_warp_forward<float'], ['Section:', 'Command', 'line', 'profiler', 'metrics'], ['----------------------------------------------------------------------', '---------------', '------------------------------'], ['dram__bytes_read.sum', 'Kbyte', '5.25'], ['dram__bytes_read.sum.per_second', 'Gbyte/second', '1.76'], ['dram__sectors_read.sum', 'sector', '164'], ['dram__throughput.avg.pct_of_peak_sustained_elapsed', '%', '0.33'], ['gpu__time_active.avg', 'usecond', '2.98'], ['l1tex__t_bytes_pipe_lsu_mem_global_op_ld.sum.per_second', 'Mbyte/second', '43.01'], ['pcie__read_bytes.sum', 'byte', '0'], ['sm__warps_active.avg.pct_of_peak_sustained_active', '%', '9.92'], ['smsp__cycles_active.avg.pct_of_peak_sustained_elapsed', '%', '0.83'], ['smsp__inst_executed.avg.per_cycle_active', 'inst/cycle', '0.05'], ['smsp__warp_issue_stalled_long_scoreboard_per_warp_active.pct', '%', '5.81'], ['----------------------------------------------------------------------', '---------------', '------------------------------'], ['void', 'at::native::<unnamed>::nll_loss_forward_reduce_cuda_kernel_2d<float'], ['Section:', 'Command', 'line', 'profiler', 'metrics'], ['----------------------------------------------------------------------', '---------------', '------------------------------'], ['dram__bytes_read.sum', 'Kbyte', '8.29'], ['dram__bytes_read.sum.per_second', 'Gbyte/second', '2.47'], ['dram__sectors_read.sum', 'sector', '259'], ['dram__throughput.avg.pct_of_peak_sustained_elapsed', '%', '0.45'], ['gpu__time_active.avg', 'usecond', '3.36'], ['l1tex__t_bytes_pipe_lsu_mem_global_op_ld.sum.per_second', 'Mbyte/second', '28.57'], ['pcie__read_bytes.sum', 'byte', '0'], ['sm__warps_active.avg.pct_of_peak_sustained_active', '%', '3.12'], ['smsp__cycles_active.avg.pct_of_peak_sustained_elapsed', '%', '0.28'], ['smsp__inst_executed.avg.per_cycle_active', 'inst/cycle', '0.06'], ['smsp__warp_issue_stalled_long_scoreboard_per_warp_active.pct', '%', '30.79'], ['----------------------------------------------------------------------', '---------------', '------------------------------'], ['void', 'at::native::vectorized_elementwise_kernel<(int)4'], ['Section:', 'Command', 'line', 'profiler', 'metrics'], ['----------------------------------------------------------------------', '---------------', '------------------------------'], ['dram__bytes_read.sum', 'Kbyte', '3.65'], ['dram__bytes_read.sum.per_second', 'Gbyte/second', '1.39'], ['dram__sectors_read.sum', 'sector', '114'], ['dram__throughput.avg.pct_of_peak_sustained_elapsed', '%', '0.27'], ['gpu__time_active.avg', 'usecond', '2.62'], ['l1tex__t_bytes_pipe_lsu_mem_global_op_ld.sum.per_second', 'Mbyte/second', '12.20'], ['pcie__read_bytes.sum', 'byte', '0'], ['sm__warps_active.avg.pct_of_peak_sustained_active', '%', '10.39'], ['smsp__cycles_active.avg.pct_of_peak_sustained_elapsed', '%', '0.82'], ['smsp__inst_executed.avg.per_cycle_active', 'inst/cycle', '0.01'], ['smsp__warp_issue_stalled_long_scoreboard_per_warp_active.pct', '%', '5.61'], ['----------------------------------------------------------------------', '---------------', '------------------------------'], ['void', 'at::native::vectorized_elementwise_kernel<(int)4'], ['Section:', 'Command', 'line', 'profiler', 'metrics'], ['----------------------------------------------------------------------', '---------------', '------------------------------'], ['dram__bytes_read.sum', 'Kbyte', '3.65'], ['dram__bytes_read.sum.per_second', 'Gbyte/second', '1.39'], ['dram__sectors_read.sum', 'sector', '114'], ['dram__throughput.avg.pct_of_peak_sustained_elapsed', '%', '0.27'], ['gpu__time_active.avg', 'usecond', '2.62'], ['l1tex__t_bytes_pipe_lsu_mem_global_op_ld.sum.per_second', 'Mbyte/second', '12.20'], ['pcie__read_bytes.sum', 'byte', '0'], ['sm__warps_active.avg.pct_of_peak_sustained_active', '%', '10.32'], ['smsp__cycles_active.avg.pct_of_peak_sustained_elapsed', '%', '0.83'], ['smsp__inst_executed.avg.per_cycle_active', 'inst/cycle', '0.01'], ['smsp__warp_issue_stalled_long_scoreboard_per_warp_active.pct', '%', '5.99'], ['----------------------------------------------------------------------', '---------------', '------------------------------'], ['void', 'at::native::reduce_kernel<(int)512'], ['Section:', 'Command', 'line', 'profiler', 'metrics'], ['----------------------------------------------------------------------', '---------------', '------------------------------'], ['dram__bytes_read.sum', 'Kbyte', '44.42'], ['dram__bytes_read.sum.per_second', 'Gbyte/second', '6.40'], ['dram__sectors_read.sum', 'sector', '1'], ['dram__throughput.avg.pct_of_peak_sustained_elapsed', '%', '1.56'], ['gpu__time_active.avg', 'usecond', '6.94'], ['l1tex__t_bytes_pipe_lsu_mem_global_op_ld.sum.per_second', 'Mbyte/second', '23.04'], ['pcie__read_bytes.sum', 'byte', '512'], ['sm__warps_active.avg.pct_of_peak_sustained_active', '%', '3.12'], ['smsp__cycles_active.avg.pct_of_peak_sustained_elapsed', '%', '0.48'], ['smsp__inst_executed.avg.per_cycle_active', 'inst/cycle', '0.04'], ['smsp__warp_issue_stalled_long_scoreboard_per_warp_active.pct', '%', '0.72'], ['----------------------------------------------------------------------', '---------------', '------------------------------'], ['void', 'at::native::vectorized_elementwise_kernel<(int)4'], ['Section:', 'Command', 'line', 'profiler', 'metrics'], ['----------------------------------------------------------------------', '---------------', '------------------------------'], ['dram__bytes_read.sum', 'Kbyte', '3.65'], ['dram__bytes_read.sum.per_second', 'Gbyte/second', '1.39'], ['dram__sectors_read.sum', 'sector', '114'], ['dram__throughput.avg.pct_of_peak_sustained_elapsed', '%', '0.27'], ['gpu__time_active.avg', 'usecond', '2.62'], ['l1tex__t_bytes_pipe_lsu_mem_global_op_ld.sum.per_second', 'Mbyte/second', '12.20'], ['pcie__read_bytes.sum', 'byte', '0'], ['sm__warps_active.avg.pct_of_peak_sustained_active', '%', '10.33'], ['smsp__cycles_active.avg.pct_of_peak_sustained_elapsed', '%', '0.83'], ['smsp__inst_executed.avg.per_cycle_active', 'inst/cycle', '0.01'], ['smsp__warp_issue_stalled_long_scoreboard_per_warp_active.pct', '%', '5.85'], ['----------------------------------------------------------------------', '---------------', '------------------------------']]\n"
     ]
    }
   ],
   "source": [
    "print(slfs_encoder)\n"
   ]
  },
  {
   "cell_type": "code",
   "execution_count": 3,
   "metadata": {},
   "outputs": [],
   "source": [
    "def how_many_kernel(c):\n",
    "    kernel_name=[]\n",
    "    for i in range(0,len(c)):\n",
    "        if c[i][0]=='void':\n",
    "            kernel_name.append(c[i][1])\n",
    "        if 'volta' in c[i][0]:\n",
    "            kernel_name.append(c[i][0])\n",
    "    print(kernel_name)\n",
    "    \n",
    "    kernel_num=[]\n",
    "    kernel_num.append([kernel_name[0],1])\n",
    "    dic=[]\n",
    "    dic.append(kernel_name[0])\n",
    "    for i in range(1,len(kernel_name)):\n",
    "        if kernel_name[i] in dic:\n",
    "            for j in range(0,len(kernel_num)):\n",
    "                if kernel_name[i]==kernel_num[j][0]:\n",
    "                    kernel_num[j][1]+=1\n",
    "        else:\n",
    "            dic.append(kernel_name[i])\n",
    "            kernel_num.append([kernel_name[i],1])\n",
    "        \n",
    "    return kernel_num\n"
   ]
  },
  {
   "cell_type": "code",
   "execution_count": 28,
   "metadata": {},
   "outputs": [
    {
     "name": "stdout",
     "output_type": "stream",
     "text": [
      "3\n",
      "d\n",
      "0\n",
      "[['a', 0], ['b', 0], ['c', 0], ['d', 1]]\n"
     ]
    }
   ],
   "source": [
    "a=[['a',0],['b',0],['c',0],['d',0]]\n",
    "for i in range(0,len(a)):\n",
    "    if 'd' == a[i][0]:\n",
    "        print(i)\n",
    "        print(a[i][0])\n",
    "        print(a[i][1])\n",
    "        a[i][1]=a[i][1]+1\n",
    "        break\n",
    "    if i==len(a):    \n",
    "        a.append(['d',0])\n",
    "print(a)"
   ]
  },
  {
   "cell_type": "code",
   "execution_count": 83,
   "metadata": {},
   "outputs": [
    {
     "name": "stdout",
     "output_type": "stream",
     "text": [
      "['implicit_convolve_sgemm<float', 'cudnn::bn_fw_inf_1C11_kernel_NCHW<float', 'at::native::vectorized_elementwise_kernel<(int)4', 'at::native::<unnamed>::max_pool_forward_nchw<float', 'at::native::reduce_kernel<(int)512', 'implicit_convolve_sgemm<float', 'cudnn::bn_fw_inf_1C11_kernel_NCHW<float', 'at::native::vectorized_elementwise_kernel<(int)4', 'at::native::<unnamed>::max_pool_forward_nchw<float', 'at::native::reduce_kernel<(int)512', 'cudnn::winograd_nonfused::winogradForwardData4x4<float', 'cudnn::winograd_nonfused::winogradForwardFilter4x4<float', 'volta_sgemm_64x64_nn', 'cudnn::winograd_nonfused::winogradForwardOutput4x4<float', 'cudnn::bn_fw_inf_1C11_kernel_NCHW<float', 'at::native::vectorized_elementwise_kernel<(int)4', 'at::native::<unnamed>::max_pool_forward_nchw<float', 'at::native::reduce_kernel<(int)512', 'cudnn::winograd_nonfused::winogradForwardData4x4<float', 'cudnn::winograd_nonfused::winogradForwardFilter4x4<float', 'volta_sgemm_64x64_nn', 'cudnn::winograd_nonfused::winogradForwardOutput4x4<float', 'cudnn::bn_fw_inf_1C11_kernel_NCHW<float', 'at::native::vectorized_elementwise_kernel<(int)4', 'at::native::<unnamed>::max_pool_forward_nchw<float', 'at::native::reduce_kernel<(int)128', 'implicit_convolve_sgemm<float', 'cudnn::bn_fw_inf_1C11_kernel_NCHW<float', 'at::native::vectorized_elementwise_kernel<(int)4', 'at::native::<unnamed>::max_pool_forward_nchw<float', 'at::native::reduce_kernel<(int)512', 'implicit_convolve_sgemm<float', 'cudnn::bn_fw_inf_1C11_kernel_NCHW<float', 'at::native::vectorized_elementwise_kernel<(int)4', 'at::native::<unnamed>::max_pool_forward_nchw<float', 'at::native::reduce_kernel<(int)512', 'implicit_convolve_sgemm<float', 'cudnn::bn_fw_inf_1C11_kernel_NCHW<float', 'at::native::vectorized_elementwise_kernel<(int)4', 'at::native::<unnamed>::max_pool_forward_nchw<float', 'at::native::reduce_kernel<(int)512', 'cudnn::winograd_nonfused::winogradForwardData4x4<float', 'cudnn::winograd_nonfused::winogradForwardFilter4x4<float', 'volta_sgemm_64x64_nn', 'cudnn::winograd_nonfused::winogradForwardOutput4x4<float', 'cudnn::bn_fw_inf_1C11_kernel_NCHW<float', 'at::native::vectorized_elementwise_kernel<(int)4', 'at::native::<unnamed>::max_pool_forward_nchw<float', 'at::native::reduce_kernel<(int)512', 'cudnn::winograd::generateWinogradTilesKernel<(int)0', 'volta_scudnn_winograd_128x128_ldg1_ldg4_relu_tile148t_nt_v1', 'cudnn::bn_fw_inf_1C11_kernel_NCHW<float', 'at::native::vectorized_elementwise_kernel<(int)4', 'at::native::<unnamed>::max_pool_forward_nchw<float', 'at::native::reduce_kernel<(int)512', 'cudnn::winograd::generateWinogradTilesKernel<(int)0', 'volta_scudnn_winograd_128x128_ldg1_ldg4_relu_tile148t_nt_v1', 'cudnn::bn_fw_inf_1C11_kernel_NCHW<float', 'at::native::vectorized_elementwise_kernel<(int)4', 'at::native::<unnamed>::max_pool_forward_nchw<float', 'at::native::reduce_kernel<(int)128', '<unnamed>::softmax_warp_forward<float', 'at::native::<unnamed>::nll_loss_forward_reduce_cuda_kernel_2d<float', 'at::native::vectorized_elementwise_kernel<(int)4', 'at::native::vectorized_elementwise_kernel<(int)4', 'at::native::reduce_kernel<(int)512', 'at::native::vectorized_elementwise_kernel<(int)4']\n"
     ]
    }
   ],
   "source": [
    "kernel_num=how_many_kernel(slfs_encoder)"
   ]
  },
  {
   "cell_type": "code",
   "execution_count": 84,
   "metadata": {},
   "outputs": [
    {
     "name": "stdout",
     "output_type": "stream",
     "text": [
      "[['implicit_convolve_sgemm<float', 5], ['cudnn::bn_fw_inf_1C11_kernel_NCHW<float', 10], ['at::native::vectorized_elementwise_kernel<(int)4', 13], ['at::native::<unnamed>::max_pool_forward_nchw<float', 10], ['at::native::reduce_kernel<(int)512', 9], ['cudnn::winograd_nonfused::winogradForwardData4x4<float', 3], ['cudnn::winograd_nonfused::winogradForwardFilter4x4<float', 3], ['volta_sgemm_64x64_nn', 3], ['cudnn::winograd_nonfused::winogradForwardOutput4x4<float', 3], ['at::native::reduce_kernel<(int)128', 2], ['cudnn::winograd::generateWinogradTilesKernel<(int)0', 2], ['volta_scudnn_winograd_128x128_ldg1_ldg4_relu_tile148t_nt_v1', 2], ['<unnamed>::softmax_warp_forward<float', 1], ['at::native::<unnamed>::nll_loss_forward_reduce_cuda_kernel_2d<float', 1]]\n"
     ]
    }
   ],
   "source": [
    "print(kernel_num)"
   ]
  },
  {
   "cell_type": "code",
   "execution_count": 85,
   "metadata": {},
   "outputs": [],
   "source": [
    "df=pd.DataFrame(kernel_num)\n",
    "df.to_csv(\"D:/tmp.csv\", encoding=\"gbk\", header=False, index=False)"
   ]
  },
  {
   "cell_type": "code",
   "execution_count": 87,
   "metadata": {},
   "outputs": [],
   "source": [
    "uni=pd.read_csv('D:/avmnist-uni.csv',header=None)"
   ]
  },
  {
   "cell_type": "code",
   "execution_count": 88,
   "metadata": {},
   "outputs": [],
   "source": [
    "uni=turntolist(uni)"
   ]
  },
  {
   "cell_type": "code",
   "execution_count": 89,
   "metadata": {},
   "outputs": [
    {
     "name": "stdout",
     "output_type": "stream",
     "text": [
      "['cudnn::cnn::conv2d_grouped_direct_kernel<(bool)0', 'at::native::vectorized_elementwise_kernel<(int)4', 'cudnn::bn_fw_tr_1C11_singleread<float', 'at::native::vectorized_elementwise_kernel<(int)4', 'at::native::<unnamed>::max_pool_forward_nchw<float', 'at::native::reduce_kernel<(int)512', 'cudnn::cnn::conv2d_grouped_direct_kernel<(bool)0', 'at::native::vectorized_elementwise_kernel<(int)4', 'cudnn::bn_fw_tr_1C11_singleread<float', 'at::native::vectorized_elementwise_kernel<(int)4', 'at::native::<unnamed>::max_pool_forward_nchw<float', 'at::native::reduce_kernel<(int)512', 'implicit_convolve_sgemm<float', 'at::native::vectorized_elementwise_kernel<(int)4', 'cudnn::bn_fw_tr_1C11_singleread<float', 'at::native::vectorized_elementwise_kernel<(int)4', 'at::native::<unnamed>::max_pool_forward_nchw<float', 'at::native::reduce_kernel<(int)512', 'cudnn::winograd_nonfused::winogradForwardData4x4<float', 'cudnn::winograd_nonfused::winogradForwardFilter4x4<float', 'volta_sgemm_64x64_nn', 'cudnn::winograd_nonfused::winogradForwardOutput4x4<float', 'at::native::vectorized_elementwise_kernel<(int)4', 'cudnn::bn_fw_tr_1C11_singleread<float', 'at::native::vectorized_elementwise_kernel<(int)4', 'at::native::<unnamed>::max_pool_forward_nchw<float', 'at::native::reduce_kernel<(int)128', 'at::native::elementwise_kernel<(int)128', 'gemmSN_TN_kernel_64addr<float', 'at::native::vectorized_elementwise_kernel<(int)4', 'at::native::elementwise_kernel<(int)128', 'gemmSN_TN_kernel_64addr<float', 'at::native::reduce_kernel<(int)512']\n",
      "[['cudnn::cnn::conv2d_grouped_direct_kernel<(bool)0', 2], ['at::native::vectorized_elementwise_kernel<(int)4', 9], ['cudnn::bn_fw_tr_1C11_singleread<float', 4], ['at::native::<unnamed>::max_pool_forward_nchw<float', 4], ['at::native::reduce_kernel<(int)512', 4], ['implicit_convolve_sgemm<float', 1], ['cudnn::winograd_nonfused::winogradForwardData4x4<float', 1], ['cudnn::winograd_nonfused::winogradForwardFilter4x4<float', 1], ['volta_sgemm_64x64_nn', 1], ['cudnn::winograd_nonfused::winogradForwardOutput4x4<float', 1], ['at::native::reduce_kernel<(int)128', 1], ['at::native::elementwise_kernel<(int)128', 2], ['gemmSN_TN_kernel_64addr<float', 2]]\n"
     ]
    }
   ],
   "source": [
    "kernel_num2=how_many_kernel(uni)\n",
    "print(kernel_num2)"
   ]
  },
  {
   "cell_type": "code",
   "execution_count": 91,
   "metadata": {},
   "outputs": [],
   "source": [
    "df=pd.DataFrame(kernel_num2)\n",
    "df.to_csv(\"D:/tmp2.csv\", encoding=\"gbk\", header=False, index=False)"
   ]
  },
  {
   "cell_type": "code",
   "execution_count": 111,
   "metadata": {},
   "outputs": [
    {
     "name": "stdout",
     "output_type": "stream",
     "text": [
      "['dram__bytes_read.sum', 'Kbyte', '30.27']\n"
     ]
    }
   ],
   "source": [
    "print(slfs_encoder[3])"
   ]
  },
  {
   "cell_type": "code",
   "execution_count": 4,
   "metadata": {},
   "outputs": [],
   "source": [
    "def specific_num(l,kernel):\n",
    "    result=[0,0,0,0,0,0,0,0,0,0,0,0,0,0,0]\n",
    "    for i in range(0,len(l)):\n",
    "        if len(l[i])==1:\n",
    "            if l[i][0]==kernel:\n",
    "                print(l[i])           \n",
    "                result[0]+=float(l[i+3][2])\n",
    "                result[1]+=float(l[i+4][2])\n",
    "                result[2]+=float(l[i+5][2])\n",
    "                result[3]+=float(l[i+6][2])\n",
    "                result[4]+=float(l[i+7][2])\n",
    "                result[5]+=float(l[i+8][2])\n",
    "                result[6]+=float(l[i+9][2])\n",
    "                result[7]+=float(l[i+10][2])\n",
    "                result[8]+=float(l[i+11][2])\n",
    "                result[9]+=float(l[i+12][2])\n",
    "                result[10]+=float(l[i+13][2])\n",
    "                result[11]+=float(l[i+14][2])\n",
    "                result[12]+=float(l[i+15][2])\n",
    "                result[13]+=float(l[i+16][2])\n",
    "                result[14]+=float(l[i+17][2])\n",
    "                \n",
    "        if len(l[i])==2:\n",
    "            if l[i][1]==kernel:\n",
    "                print(l[i])           \n",
    "                result[0]+=float(l[i+3][2])\n",
    "                result[1]+=float(l[i+4][2])\n",
    "                result[2]+=float(l[i+5][2])\n",
    "                result[3]+=float(l[i+6][2])\n",
    "                result[4]+=float(l[i+7][2])\n",
    "                result[5]+=float(l[i+8][2])\n",
    "                result[6]+=float(l[i+9][2])\n",
    "                result[7]+=float(l[i+10][2])\n",
    "                result[8]+=float(l[i+11][2])\n",
    "                result[9]+=float(l[i+12][2])\n",
    "                result[10]+=float(l[i+13][2])\n",
    "                result[11]+=float(l[i+14][2])\n",
    "                result[12]+=float(l[i+15][2])\n",
    "                result[13]+=float(l[i+16][2])\n",
    "                result[14]+=float(l[i+17][2])\n",
    "    return result\n",
    "            \n",
    "    "
   ]
  },
  {
   "cell_type": "code",
   "execution_count": 117,
   "metadata": {},
   "outputs": [
    {
     "name": "stdout",
     "output_type": "stream",
     "text": [
      "['void', 'at::native::vectorized_elementwise_kernel<(int)4']\n",
      "['void', 'at::native::vectorized_elementwise_kernel<(int)4']\n",
      "['void', 'at::native::vectorized_elementwise_kernel<(int)4']\n",
      "['void', 'at::native::vectorized_elementwise_kernel<(int)4']\n",
      "['void', 'at::native::vectorized_elementwise_kernel<(int)4']\n",
      "['void', 'at::native::vectorized_elementwise_kernel<(int)4']\n",
      "['void', 'at::native::vectorized_elementwise_kernel<(int)4']\n",
      "['void', 'at::native::vectorized_elementwise_kernel<(int)4']\n",
      "['void', 'at::native::vectorized_elementwise_kernel<(int)4']\n",
      "['void', 'at::native::vectorized_elementwise_kernel<(int)4']\n",
      "['void', 'at::native::vectorized_elementwise_kernel<(int)4']\n",
      "['void', 'at::native::vectorized_elementwise_kernel<(int)4']\n",
      "['void', 'at::native::vectorized_elementwise_kernel<(int)4']\n"
     ]
    }
   ],
   "source": [
    "result=specific_num(slfs_encoder,'at::native::vectorized_elementwise_kernel<(int)4')"
   ]
  },
  {
   "cell_type": "code",
   "execution_count": 118,
   "metadata": {},
   "outputs": [
    {
     "name": "stdout",
     "output_type": "stream",
     "text": [
      "[1311.8800000000006, 380.53, 2439.0, 71.02, 37.91, 395.70000000000005, 0.0, 202.22, 300.03, 0.25999999999999995, 270.98]\n"
     ]
    }
   ],
   "source": [
    "print(result)"
   ]
  },
  {
   "cell_type": "code",
   "execution_count": 119,
   "metadata": {},
   "outputs": [
    {
     "name": "stdout",
     "output_type": "stream",
     "text": [
      "['void', 'at::native::vectorized_elementwise_kernel<(int)4']\n",
      "['void', 'at::native::vectorized_elementwise_kernel<(int)4']\n",
      "['void', 'at::native::vectorized_elementwise_kernel<(int)4']\n",
      "['void', 'at::native::vectorized_elementwise_kernel<(int)4']\n",
      "['void', 'at::native::vectorized_elementwise_kernel<(int)4']\n",
      "['void', 'at::native::vectorized_elementwise_kernel<(int)4']\n",
      "['void', 'at::native::vectorized_elementwise_kernel<(int)4']\n",
      "['void', 'at::native::vectorized_elementwise_kernel<(int)4']\n",
      "['void', 'at::native::vectorized_elementwise_kernel<(int)4']\n"
     ]
    }
   ],
   "source": [
    "result2=specific_num(uni,'at::native::vectorized_elementwise_kernel<(int)4')"
   ]
  },
  {
   "cell_type": "code",
   "execution_count": 120,
   "metadata": {},
   "outputs": [
    {
     "name": "stdout",
     "output_type": "stream",
     "text": [
      "[76.72999999999999, 27.75, 2398.0, 5.38, 24.64, 970.79, 0.0, 101.63000000000001, 23.05, 0.16, 114.77000000000001]\n"
     ]
    }
   ],
   "source": [
    "print(result2)"
   ]
  },
  {
   "cell_type": "code",
   "execution_count": 130,
   "metadata": {},
   "outputs": [
    {
     "name": "stdout",
     "output_type": "stream",
     "text": [
      "['void', 'at::native::reduce_kernel<(int)512']\n",
      "['void', 'at::native::reduce_kernel<(int)512']\n",
      "['void', 'at::native::reduce_kernel<(int)512']\n",
      "['void', 'at::native::reduce_kernel<(int)512']\n",
      "['void', 'at::native::reduce_kernel<(int)512']\n",
      "['void', 'at::native::reduce_kernel<(int)512']\n",
      "['void', 'at::native::reduce_kernel<(int)512']\n",
      "['void', 'at::native::reduce_kernel<(int)512']\n",
      "['void', 'at::native::reduce_kernel<(int)512']\n"
     ]
    }
   ],
   "source": [
    "result=specific_num(slfs_encoder,'at::native::reduce_kernel<(int)512')"
   ]
  },
  {
   "cell_type": "code",
   "execution_count": 134,
   "metadata": {},
   "outputs": [
    {
     "name": "stdout",
     "output_type": "stream",
     "text": [
      "[659.9599999999999, 92.98, 16.0, 20.900000000000002, 60.089999999999996, 1568.11, 1538.56, 371.7700000000001, 41.24999999999999, 0.82, 111.10999999999999]\n"
     ]
    }
   ],
   "source": [
    "print(result)"
   ]
  },
  {
   "cell_type": "code",
   "execution_count": 132,
   "metadata": {},
   "outputs": [
    {
     "name": "stdout",
     "output_type": "stream",
     "text": [
      "['void', 'at::native::reduce_kernel<(int)512']\n",
      "['void', 'at::native::reduce_kernel<(int)512']\n",
      "['void', 'at::native::reduce_kernel<(int)512']\n",
      "['void', 'at::native::reduce_kernel<(int)512']\n"
     ]
    }
   ],
   "source": [
    "result2=specific_num(uni,'at::native::reduce_kernel<(int)512')"
   ]
  },
  {
   "cell_type": "code",
   "execution_count": 133,
   "metadata": {},
   "outputs": [
    {
     "name": "stdout",
     "output_type": "stream",
     "text": [
      "[169.75, 28.5, 4.0, 7.0600000000000005, 24.16, 1647.7800000000002, 513.02, 86.93, 11.309999999999999, 0.26, 11.760000000000002]\n"
     ]
    }
   ],
   "source": [
    "print(result2)"
   ]
  },
  {
   "cell_type": "code",
   "execution_count": 136,
   "metadata": {},
   "outputs": [],
   "source": [
    "cca_encoder=pd.read_csv('D:/avmnist-cca-encoder.csv',header=None)"
   ]
  },
  {
   "cell_type": "code",
   "execution_count": 137,
   "metadata": {},
   "outputs": [
    {
     "name": "stdout",
     "output_type": "stream",
     "text": [
      "['implicit_convolve_sgemm<float', 'cudnn::bn_fw_inf_1C11_kernel_NCHW<float', 'at::native::vectorized_elementwise_kernel<(int)4', 'at::native::<unnamed>::max_pool_forward_nchw<float', 'at::native::reduce_kernel<(int)512', 'implicit_convolve_sgemm<float', 'cudnn::bn_fw_inf_1C11_kernel_NCHW<float', 'at::native::vectorized_elementwise_kernel<(int)4', 'at::native::<unnamed>::max_pool_forward_nchw<float', 'at::native::reduce_kernel<(int)512', 'cudnn::winograd_nonfused::winogradForwardData4x4<float', 'cudnn::winograd_nonfused::winogradForwardFilter4x4<float', 'volta_sgemm_64x64_nn', 'cudnn::winograd_nonfused::winogradForwardOutput4x4<float', 'cudnn::bn_fw_inf_1C11_kernel_NCHW<float', 'at::native::vectorized_elementwise_kernel<(int)4', 'at::native::<unnamed>::max_pool_forward_nchw<float', 'at::native::reduce_kernel<(int)512', 'cudnn::winograd_nonfused::winogradForwardData4x4<float', 'cudnn::winograd_nonfused::winogradForwardFilter4x4<float', 'volta_sgemm_64x64_nn', 'cudnn::winograd_nonfused::winogradForwardOutput4x4<float', 'cudnn::bn_fw_inf_1C11_kernel_NCHW<float', 'at::native::vectorized_elementwise_kernel<(int)4', 'at::native::<unnamed>::max_pool_forward_nchw<float', 'at::native::reduce_kernel<(int)128', 'implicit_convolve_sgemm<float', 'cudnn::bn_fw_inf_1C11_kernel_NCHW<float', 'at::native::vectorized_elementwise_kernel<(int)4', 'at::native::<unnamed>::max_pool_forward_nchw<float', 'at::native::reduce_kernel<(int)512', 'implicit_convolve_sgemm<float', 'cudnn::bn_fw_inf_1C11_kernel_NCHW<float', 'at::native::vectorized_elementwise_kernel<(int)4', 'at::native::<unnamed>::max_pool_forward_nchw<float', 'at::native::reduce_kernel<(int)512', 'implicit_convolve_sgemm<float', 'cudnn::bn_fw_inf_1C11_kernel_NCHW<float', 'at::native::vectorized_elementwise_kernel<(int)4', 'at::native::<unnamed>::max_pool_forward_nchw<float', 'at::native::reduce_kernel<(int)512', 'cudnn::winograd_nonfused::winogradForwardData4x4<float', 'cudnn::winograd_nonfused::winogradForwardFilter4x4<float', 'volta_sgemm_64x64_nn', 'cudnn::winograd_nonfused::winogradForwardOutput4x4<float', 'cudnn::bn_fw_inf_1C11_kernel_NCHW<float', 'at::native::vectorized_elementwise_kernel<(int)4', 'at::native::<unnamed>::max_pool_forward_nchw<float', 'at::native::reduce_kernel<(int)512', 'cudnn::winograd::generateWinogradTilesKernel<(int)0', 'volta_scudnn_winograd_128x128_ldg1_ldg4_relu_tile148t_nt_v1', 'cudnn::bn_fw_inf_1C11_kernel_NCHW<float', 'at::native::vectorized_elementwise_kernel<(int)4', 'at::native::<unnamed>::max_pool_forward_nchw<float', 'at::native::reduce_kernel<(int)512', 'cudnn::winograd::generateWinogradTilesKernel<(int)0', 'volta_scudnn_winograd_128x128_ldg1_ldg4_relu_tile148t_nt_v1', 'cudnn::bn_fw_inf_1C11_kernel_NCHW<float', 'at::native::vectorized_elementwise_kernel<(int)4', 'at::native::<unnamed>::max_pool_forward_nchw<float', 'at::native::reduce_kernel<(int)128', 'at::native::elementwise_kernel<(int)128', 'gemmSN_TN_kernel_64addr<float', '<unnamed>::softmax_warp_forward<float', 'at::native::<unnamed>::nll_loss_forward_reduce_cuda_kernel_2d<float', 'at::native::vectorized_elementwise_kernel<(int)4', 'at::native::vectorized_elementwise_kernel<(int)4', 'at::native::reduce_kernel<(int)512', 'at::native::vectorized_elementwise_kernel<(int)4']\n"
     ]
    }
   ],
   "source": [
    "cca_encoder=turntolist(cca_encoder)\n",
    "kernel_num3=how_many_kernel(cca_encoder)\n",
    "df=pd.DataFrame(kernel_num3)\n",
    "df.to_csv(\"D:/tmp3.csv\", encoding=\"gbk\", header=False, index=False)"
   ]
  },
  {
   "cell_type": "code",
   "execution_count": 141,
   "metadata": {},
   "outputs": [
    {
     "name": "stdout",
     "output_type": "stream",
     "text": [
      "['at::native::elementwise_kernel<(int)128', 'gemmSN_TN_kernel_64addr<float', 'at::native::vectorized_elementwise_kernel<(int)4', 'at::native::elementwise_kernel<(int)128', 'gemmSN_TN_kernel_64addr<float', '<unnamed>::softmax_warp_forward<float', 'at::native::<unnamed>::nll_loss_forward_reduce_cuda_kernel_2d<float', 'at::native::vectorized_elementwise_kernel<(int)4', 'at::native::vectorized_elementwise_kernel<(int)4', 'at::native::reduce_kernel<(int)512', 'at::native::vectorized_elementwise_kernel<(int)4']\n"
     ]
    }
   ],
   "source": [
    "slfs_head=pd.read_csv('D:/avmnist-slfs-head.csv',header=None)\n",
    "slfs_head=turntolist(slfs_head)\n",
    "kernel_num4=how_many_kernel(slfs_head)\n",
    "df=pd.DataFrame(kernel_num4)\n",
    "df.to_csv(\"D:/tmp4.csv\", encoding=\"gbk\", header=False, index=False)"
   ]
  },
  {
   "cell_type": "code",
   "execution_count": 144,
   "metadata": {},
   "outputs": [
    {
     "name": "stdout",
     "output_type": "stream",
     "text": [
      "['void', 'at::native::vectorized_elementwise_kernel<(int)4']\n",
      "['void', 'at::native::vectorized_elementwise_kernel<(int)4']\n",
      "['void', 'at::native::vectorized_elementwise_kernel<(int)4']\n",
      "['void', 'at::native::vectorized_elementwise_kernel<(int)4']\n",
      "[17.65, 5.68, 552.0, 1.3, 12.520000000000001, 299.02000000000004, 0.0, 36.900000000000006, 3.26, 0.060000000000000005, 65.7]\n"
     ]
    }
   ],
   "source": [
    "result3=specific_num(slfs_head,'at::native::vectorized_elementwise_kernel<(int)4')\n",
    "print(result3)"
   ]
  },
  {
   "cell_type": "code",
   "execution_count": 146,
   "metadata": {},
   "outputs": [
    {
     "name": "stdout",
     "output_type": "stream",
     "text": [
      "['at::native::elementwise_kernel<(int)128', 'gemmSN_TN_kernel_64addr<float', '<unnamed>::softmax_warp_forward<float', 'at::native::<unnamed>::nll_loss_forward_reduce_cuda_kernel_2d<float', 'at::native::vectorized_elementwise_kernel<(int)4', 'at::native::vectorized_elementwise_kernel<(int)4', 'at::native::reduce_kernel<(int)512', 'at::native::vectorized_elementwise_kernel<(int)4']\n",
      "['void', 'at::native::vectorized_elementwise_kernel<(int)4']\n",
      "['void', 'at::native::vectorized_elementwise_kernel<(int)4']\n",
      "['void', 'at::native::vectorized_elementwise_kernel<(int)4']\n",
      "[11.7, 3.67, 366.0, 0.99, 9.57, 30.1, 0.0, 24.59, 2.35, 0.03, 49.3]\n"
     ]
    }
   ],
   "source": [
    "cca_head=pd.read_csv('D:/avmnist-cca-head.csv',header=None)\n",
    "cca_head=turntolist(cca_head)\n",
    "kernel_num4=how_many_kernel(cca_head)\n",
    "result3=specific_num(cca_head,'at::native::vectorized_elementwise_kernel<(int)4')\n",
    "print(result3)"
   ]
  },
  {
   "cell_type": "code",
   "execution_count": 154,
   "metadata": {},
   "outputs": [
    {
     "name": "stdout",
     "output_type": "stream",
     "text": [
      "['at::native::<unnamed>::CatArrayBatchedCopy<float', '<unnamed>::softmax_warp_forward<float', 'at::native::<unnamed>::nll_loss_forward_reduce_cuda_kernel_2d<float', 'at::native::vectorized_elementwise_kernel<(int)4', 'at::native::vectorized_elementwise_kernel<(int)4', 'at::native::reduce_kernel<(int)512', 'at::native::vectorized_elementwise_kernel<(int)4']\n",
      "['void', 'at::native::vectorized_elementwise_kernel<(int)4']\n",
      "['void', 'at::native::vectorized_elementwise_kernel<(int)4']\n",
      "['void', 'at::native::vectorized_elementwise_kernel<(int)4']\n",
      "[10.95, 3.73, 342.0, 0.81, 8.8, 32.730000000000004, 0.0, 28.68, 2.31, 0.03, 27.259999999999998]\n"
     ]
    }
   ],
   "source": [
    "slfs_fusion=pd.read_csv('D:/avmnist-slfs-fusion.csv',header=None)\n",
    "slfs_fusion=turntolist(slfs_fusion)\n",
    "kernel_num4=how_many_kernel(slfs_fusion)\n",
    "result3=specific_num(slfs_fusion,'at::native::vectorized_elementwise_kernel<(int)4')\n",
    "print(result3)"
   ]
  },
  {
   "cell_type": "code",
   "execution_count": 152,
   "metadata": {},
   "outputs": [
    {
     "name": "stdout",
     "output_type": "stream",
     "text": [
      "['gemmSN_NN_kernel<float', 'at::native::elementwise_kernel<(int)128', 'volta_sgemm_128x32_nn', 'splitKreduce_kernel<float', 'at::native::elementwise_kernel<(int)128', 'gemv2N_kernel<int', 'at::native::vectorized_elementwise_kernel<(int)4', '<unnamed>::softmax_warp_forward<float', 'at::native::<unnamed>::nll_loss_forward_reduce_cuda_kernel_2d<float', 'at::native::vectorized_elementwise_kernel<(int)4', 'at::native::vectorized_elementwise_kernel<(int)4', 'at::native::reduce_kernel<(int)512', 'at::native::vectorized_elementwise_kernel<(int)4']\n",
      "['void', 'at::native::vectorized_elementwise_kernel<(int)4']\n",
      "['void', 'at::native::vectorized_elementwise_kernel<(int)4']\n",
      "['void', 'at::native::vectorized_elementwise_kernel<(int)4']\n",
      "['void', 'at::native::vectorized_elementwise_kernel<(int)4']\n",
      "[19.64, 5.9799999999999995, 614.0, 1.4300000000000002, 13.08, 30.740000000000002, 0.0, 37.36, 3.64, 0.05, 90.64]\n"
     ]
    }
   ],
   "source": [
    "multi_fusion=pd.read_csv('D:/avmnist-multi-fusion.csv',header=None)\n",
    "multi_fusion=turntolist(multi_fusion)\n",
    "kernel_num4=how_many_kernel(multi_fusion)\n",
    "result3=specific_num(multi_fusion,'at::native::vectorized_elementwise_kernel<(int)4')\n",
    "print(result3)"
   ]
  },
  {
   "cell_type": "code",
   "execution_count": 153,
   "metadata": {},
   "outputs": [
    {
     "name": "stdout",
     "output_type": "stream",
     "text": [
      "['at::native::<unnamed>::CatArrayBatchedCopy<float', 'at::native::elementwise_kernel<(int)128', 'volta_sgemm_32x128_tn', 'at::native::elementwise_kernel<(int)128', 'at::native::vectorized_elementwise_kernel<(int)4', 'at::native::<unnamed>::CatArrayBatchedCopy<float', 'at::native::elementwise_kernel<(int)128', 'volta_sgemm_32x128_tn', 'at::native::elementwise_kernel<(int)128', 'at::native::vectorized_elementwise_kernel<(int)4', 'at::native::elementwise_kernel<(int)128', 'gemv2T_kernel_val<int', 'at::native::elementwise_kernel<(int)128', '<unnamed>::softmax_warp_forward<float', 'at::native::<unnamed>::nll_loss_forward_reduce_cuda_kernel_2d<float', 'at::native::vectorized_elementwise_kernel<(int)4', 'at::native::vectorized_elementwise_kernel<(int)4', 'at::native::reduce_kernel<(int)512', 'at::native::vectorized_elementwise_kernel<(int)4']\n",
      "['void', 'at::native::vectorized_elementwise_kernel<(int)4']\n",
      "['void', 'at::native::vectorized_elementwise_kernel<(int)4']\n",
      "['void', 'at::native::vectorized_elementwise_kernel<(int)4']\n",
      "['void', 'at::native::vectorized_elementwise_kernel<(int)4']\n",
      "['void', 'at::native::vectorized_elementwise_kernel<(int)4']\n",
      "[135.09000000000003, 40.82, 369.0, 9.359999999999998, 16.07, 65.03999999999999, 0.0, 49.480000000000004, 44.74, 0.05, 147.48]\n"
     ]
    }
   ],
   "source": [
    "tensor_fusion=pd.read_csv('D:/avmnist-tensor-fusion.csv',header=None)\n",
    "tensor_fusion=turntolist(tensor_fusion)\n",
    "kernel_num4=how_many_kernel(tensor_fusion)\n",
    "result3=specific_num(tensor_fusion,'at::native::vectorized_elementwise_kernel<(int)4')\n",
    "print(result3)"
   ]
  },
  {
   "cell_type": "code",
   "execution_count": 157,
   "metadata": {},
   "outputs": [
    {
     "name": "stdout",
     "output_type": "stream",
     "text": [
      "['implicit_convolve_sgemm<float', 'cudnn::bn_fw_inf_1C11_kernel_NCHW<float', 'at::native::vectorized_elementwise_kernel<(int)4', 'at::native::<unnamed>::max_pool_forward_nchw<float', 'at::native::reduce_kernel<(int)512', 'implicit_convolve_sgemm<float', 'cudnn::bn_fw_inf_1C11_kernel_NCHW<float', 'at::native::vectorized_elementwise_kernel<(int)4', 'at::native::<unnamed>::max_pool_forward_nchw<float', 'at::native::reduce_kernel<(int)512', 'cudnn::winograd_nonfused::winogradForwardData4x4<float', 'cudnn::winograd_nonfused::winogradForwardFilter4x4<float', 'volta_sgemm_64x64_nn', 'cudnn::winograd_nonfused::winogradForwardOutput4x4<float', 'cudnn::bn_fw_inf_1C11_kernel_NCHW<float', 'at::native::vectorized_elementwise_kernel<(int)4', 'at::native::<unnamed>::max_pool_forward_nchw<float', 'at::native::reduce_kernel<(int)512', 'cudnn::winograd_nonfused::winogradForwardData4x4<float', 'cudnn::winograd_nonfused::winogradForwardFilter4x4<float', 'volta_sgemm_64x64_nn', 'cudnn::winograd_nonfused::winogradForwardOutput4x4<float', 'cudnn::bn_fw_inf_1C11_kernel_NCHW<float', 'at::native::vectorized_elementwise_kernel<(int)4', 'at::native::<unnamed>::max_pool_forward_nchw<float', 'at::native::reduce_kernel<(int)128', 'implicit_convolve_sgemm<float', 'cudnn::bn_fw_inf_1C11_kernel_NCHW<float', 'at::native::vectorized_elementwise_kernel<(int)4', 'at::native::<unnamed>::max_pool_forward_nchw<float', 'at::native::reduce_kernel<(int)512', 'implicit_convolve_sgemm<float', 'cudnn::bn_fw_inf_1C11_kernel_NCHW<float', 'at::native::vectorized_elementwise_kernel<(int)4', 'at::native::<unnamed>::max_pool_forward_nchw<float', 'at::native::reduce_kernel<(int)512', 'implicit_convolve_sgemm<float', 'cudnn::bn_fw_inf_1C11_kernel_NCHW<float', 'at::native::vectorized_elementwise_kernel<(int)4', 'at::native::<unnamed>::max_pool_forward_nchw<float', 'at::native::reduce_kernel<(int)512', 'cudnn::winograd_nonfused::winogradForwardData4x4<float', 'cudnn::winograd_nonfused::winogradForwardFilter4x4<float', 'volta_sgemm_64x64_nn', 'cudnn::winograd_nonfused::winogradForwardOutput4x4<float', 'cudnn::bn_fw_inf_1C11_kernel_NCHW<float', 'at::native::vectorized_elementwise_kernel<(int)4', 'at::native::<unnamed>::max_pool_forward_nchw<float', 'at::native::reduce_kernel<(int)512', 'cudnn::winograd::generateWinogradTilesKernel<(int)0', 'volta_scudnn_winograd_128x128_ldg1_ldg4_relu_tile148t_nt_v1', 'cudnn::bn_fw_inf_1C11_kernel_NCHW<float', 'at::native::vectorized_elementwise_kernel<(int)4', 'at::native::<unnamed>::max_pool_forward_nchw<float', 'at::native::reduce_kernel<(int)512', 'cudnn::winograd::generateWinogradTilesKernel<(int)0', 'volta_scudnn_winograd_128x128_ldg1_ldg4_relu_tile148t_nt_v1', 'cudnn::bn_fw_inf_1C11_kernel_NCHW<float', 'at::native::vectorized_elementwise_kernel<(int)4', 'at::native::<unnamed>::max_pool_forward_nchw<float', 'at::native::reduce_kernel<(int)128', '<unnamed>::softmax_warp_forward<float', 'at::native::<unnamed>::nll_loss_forward_reduce_cuda_kernel_2d<float', 'at::native::vectorized_elementwise_kernel<(int)4', 'at::native::vectorized_elementwise_kernel<(int)4', 'at::native::reduce_kernel<(int)512', 'at::native::vectorized_elementwise_kernel<(int)4']\n"
     ]
    }
   ],
   "source": [
    "slfs_encoder=pd.read_csv('D:/avmnist-slfs-encoder.csv',header=None)\n",
    "slfs_encoder=turntolist(slfs_encoder)\n",
    "kernel_num4=how_many_kernel(slfs_encoder)\n",
    "df=pd.DataFrame(kernel_num4)\n",
    "df.to_csv(\"D:/tmp.csv\", encoding=\"gbk\", header=False, index=False)\n",
    "# result3=specific_num(cca_head,'at::native::vectorized_elementwise_kernel<(int)4')\n",
    "# print(result3)"
   ]
  },
  {
   "cell_type": "code",
   "execution_count": 160,
   "metadata": {},
   "outputs": [
    {
     "name": "stdout",
     "output_type": "stream",
     "text": [
      "['at::native::<unnamed>::CatArrayBatchedCopy<float', '<unnamed>::softmax_warp_forward<float', 'at::native::<unnamed>::nll_loss_forward_reduce_cuda_kernel_2d<float', 'at::native::vectorized_elementwise_kernel<(int)4', 'at::native::vectorized_elementwise_kernel<(int)4', 'at::native::reduce_kernel<(int)512', 'at::native::vectorized_elementwise_kernel<(int)4']\n"
     ]
    }
   ],
   "source": [
    "slfs_fusion=pd.read_csv('D:/avmnist-slfs-fusion.csv',header=None)\n",
    "slfs_fusion=turntolist(slfs_fusion)\n",
    "kernel_num4=how_many_kernel(slfs_fusion)\n",
    "df=pd.DataFrame(kernel_num4)\n",
    "df.to_csv(\"D:/tmp1.csv\", encoding=\"gbk\", header=False, index=False)"
   ]
  },
  {
   "cell_type": "code",
   "execution_count": 161,
   "metadata": {},
   "outputs": [
    {
     "name": "stdout",
     "output_type": "stream",
     "text": [
      "['at::native::elementwise_kernel<(int)128', 'gemmSN_TN_kernel_64addr<float', 'at::native::vectorized_elementwise_kernel<(int)4', 'at::native::elementwise_kernel<(int)128', 'gemmSN_TN_kernel_64addr<float', '<unnamed>::softmax_warp_forward<float', 'at::native::<unnamed>::nll_loss_forward_reduce_cuda_kernel_2d<float', 'at::native::vectorized_elementwise_kernel<(int)4', 'at::native::vectorized_elementwise_kernel<(int)4', 'at::native::reduce_kernel<(int)512', 'at::native::vectorized_elementwise_kernel<(int)4']\n"
     ]
    }
   ],
   "source": [
    "slfs_head=pd.read_csv('D:/avmnist-slfs-head.csv',header=None)\n",
    "slfs_head=turntolist(slfs_head)\n",
    "kernel_num4=how_many_kernel(slfs_head)\n",
    "df=pd.DataFrame(kernel_num4)\n",
    "df.to_csv(\"D:/tmp2.csv\", encoding=\"gbk\", header=False, index=False)"
   ]
  },
  {
   "cell_type": "code",
   "execution_count": 174,
   "metadata": {},
   "outputs": [
    {
     "name": "stdout",
     "output_type": "stream",
     "text": [
      "['cask_cudnn::computeOffsetsKernel3D<(bool)0>(cask_cudnn::ComputeOffsetsParams)', 'volta_scudnn_128x32_3dconv_fprop_small_nn_v1', 'cudnn::bn_fw_inf_1C11_kernel_NCHW<float', 'at::native::vectorized_elementwise_kernel<(int)4', 'at::native::<unnamed>::max_pool_forward_nchw<float', 'at::native::reduce_kernel<(int)512', 'implicit_convolve_sgemm<float', 'cudnn::bn_fw_inf_1C11_kernel_NCHW<float', 'at::native::vectorized_elementwise_kernel<(int)4', 'at::native::<unnamed>::max_pool_forward_nchw<float', 'at::native::reduce_kernel<(int)512', 'implicit_convolve_sgemm<float', 'cudnn::bn_fw_inf_1C11_kernel_NCHW<float', 'at::native::vectorized_elementwise_kernel<(int)4', 'at::native::<unnamed>::max_pool_forward_nchw<float', 'at::native::reduce_kernel<(int)512', 'implicit_convolve_sgemm<float', 'cudnn::bn_fw_inf_1C11_kernel_NCHW<float', 'at::native::vectorized_elementwise_kernel<(int)4', 'at::native::<unnamed>::max_pool_forward_nchw<float', 'at::native::reduce_kernel<(int)128', 'cudnn::cnn::conv2d_grouped_direct_kernel<(bool)0', 'cudnn::bn_fw_inf_1C11_kernel_NCHW<float', 'at::native::vectorized_elementwise_kernel<(int)4', 'at::native::<unnamed>::max_pool_forward_nchw<float', 'at::native::reduce_kernel<(int)512', 'implicit_convolve_sgemm<float', 'cudnn::bn_fw_inf_1C11_kernel_NCHW<float', 'at::native::vectorized_elementwise_kernel<(int)4', 'at::native::<unnamed>::max_pool_forward_nchw<float', 'at::native::reduce_kernel<(int)512', 'flip_filter<float', 'fft2d_r2c_32x32<float', 'fft2d_r2c_32x32<float', 'volta_cgemm_32x32_tn', 'fft2d_c2r_32x32<float', 'cudnn::bn_fw_inf_1C11_kernel_NCHW<float', 'at::native::vectorized_elementwise_kernel<(int)4', 'at::native::<unnamed>::max_pool_forward_nchw<float', 'at::native::reduce_kernel<(int)512', 'implicit_convolve_sgemm<float', 'cudnn::bn_fw_inf_1C11_kernel_NCHW<float', 'at::native::vectorized_elementwise_kernel<(int)4', 'at::native::<unnamed>::max_pool_forward_nchw<float', 'at::native::reduce_kernel<(int)512', 'cudnn::winograd_nonfused::winogradForwardData4x4<float', 'cudnn::winograd_nonfused::winogradForwardFilter4x4<float', 'volta_sgemm_64x64_nn', 'cudnn::winograd_nonfused::winogradForwardOutput4x4<float', 'cudnn::bn_fw_inf_1C11_kernel_NCHW<float', 'at::native::vectorized_elementwise_kernel<(int)4', 'at::native::<unnamed>::max_pool_forward_nchw<float', 'at::native::reduce_kernel<(int)512', 'cudnn::winograd::generateWinogradTilesKernel<(int)0', 'volta_scudnn_winograd_128x128_ldg1_ldg4_relu_tile148t_nt_v1', 'cudnn::bn_fw_inf_1C11_kernel_NCHW<float', 'at::native::vectorized_elementwise_kernel<(int)4', 'at::native::<unnamed>::max_pool_forward_nchw<float', 'at::native::reduce_kernel<(int)128', 'volta_sgemm_128x64_nn', 'at::native::elementwise_kernel<(int)128', 'volta_sgemm_128x32_nn', 'at::native::elementwise_kernel<(int)128', 'gemv2N_kernel<int', 'at::native::vectorized_elementwise_kernel<(int)4', 'at::native::elementwise_kernel<(int)128', 'volta_sgemm_32x32_sliced1x4_tn', 'at::native::vectorized_elementwise_kernel<(int)4', 'at::native::elementwise_kernel<(int)128', 'volta_sgemm_32x32_sliced1x4_tn', '<unnamed>::softmax_warp_forward<float', 'at::native::<unnamed>::nll_loss_forward_reduce_cuda_kernel_2d<float', 'at::native::vectorized_elementwise_kernel<(int)4', 'at::native::vectorized_elementwise_kernel<(int)4', 'at::native::reduce_kernel<(int)512', 'at::native::vectorized_elementwise_kernel<(int)4']\n",
      "['void', 'at::native::reduce_kernel<(int)512']\n",
      "['void', 'at::native::reduce_kernel<(int)512']\n",
      "['void', 'at::native::reduce_kernel<(int)512']\n",
      "['void', 'at::native::reduce_kernel<(int)512']\n",
      "['void', 'at::native::reduce_kernel<(int)512']\n",
      "['void', 'at::native::reduce_kernel<(int)512']\n",
      "['void', 'at::native::reduce_kernel<(int)512']\n",
      "['void', 'at::native::reduce_kernel<(int)512']\n",
      "['void', 'at::native::reduce_kernel<(int)512']\n",
      "[240.92, 88.59, 41.52, 1000.51, 2118.7599999999998, 422.63999999999993, 208.39999999999998, 0.9099999999999998, 0.0, 1445.0, 0.0]\n"
     ]
    }
   ],
   "source": [
    "avmnist_slfs_v2=pd.read_csv('D:/avmnist-slfs-v2.csv',header=None)\n",
    "avmnist_slfs_v2=turntolist(avmnist_slfs_v2)\n",
    "kernel_num4=how_many_kernel(avmnist_slfs_v2)\n",
    "result3=specific_num(avmnist_slfs_v2,'at::native::reduce_kernel<(int)512')\n",
    "print(result3)"
   ]
  },
  {
   "cell_type": "code",
   "execution_count": 175,
   "metadata": {},
   "outputs": [
    {
     "name": "stdout",
     "output_type": "stream",
     "text": [
      "['cask_cudnn::computeOffsetsKernel3D<(bool)0>(cask_cudnn::ComputeOffsetsParams)', 'volta_scudnn_128x32_3dconv_fprop_small_nn_v1', 'at::native::vectorized_elementwise_kernel<(int)4', 'cudnn::bn_fw_tr_1C11_kernel_NCHW<float', 'at::native::vectorized_elementwise_kernel<(int)4', 'at::native::<unnamed>::max_pool_forward_nchw<float', 'at::native::reduce_kernel<(int)512', 'implicit_convolve_sgemm<float', 'at::native::vectorized_elementwise_kernel<(int)4', 'cudnn::bn_fw_tr_1C11_kernel_NCHW<float', 'at::native::vectorized_elementwise_kernel<(int)4', 'at::native::<unnamed>::max_pool_forward_nchw<float', 'at::native::reduce_kernel<(int)512', 'implicit_convolve_sgemm<float', 'at::native::vectorized_elementwise_kernel<(int)4', 'cudnn::bn_fw_tr_1C11_singleread<float', 'at::native::vectorized_elementwise_kernel<(int)4', 'at::native::<unnamed>::max_pool_forward_nchw<float', 'at::native::reduce_kernel<(int)512', 'implicit_convolve_sgemm<float', 'at::native::vectorized_elementwise_kernel<(int)4', 'cudnn::bn_fw_tr_1C11_singleread<float', 'at::native::vectorized_elementwise_kernel<(int)4', 'at::native::<unnamed>::max_pool_forward_nchw<float', 'at::native::reduce_kernel<(int)128', 'at::native::elementwise_kernel<(int)128', 'volta_sgemm_32x128_tn', 'at::native::vectorized_elementwise_kernel<(int)4', 'at::native::elementwise_kernel<(int)128', 'volta_sgemm_32x32_sliced1x4_tn', 'at::native::reduce_kernel<(int)512']\n",
      "['void', 'at::native::reduce_kernel<(int)512']\n",
      "['void', 'at::native::reduce_kernel<(int)512']\n",
      "['void', 'at::native::reduce_kernel<(int)512']\n",
      "['void', 'at::native::reduce_kernel<(int)512']\n",
      "[145.38, 42.22, 19.990000000000002, 433.21000000000004, 856.0500000000001, 173.69, 38.16, 0.39999999999999997, 0.0, 167.0, 0.0]\n"
     ]
    }
   ],
   "source": [
    "avmnist_uni_v2=pd.read_csv('D:/avmnist-uni-v2.csv',header=None)\n",
    "avmnist_uni_v2=turntolist(avmnist_uni_v2)\n",
    "kernel_num4=how_many_kernel(avmnist_uni_v2)\n",
    "result3=specific_num(avmnist_uni_v2,'at::native::reduce_kernel<(int)512')\n",
    "print(result3)"
   ]
  },
  {
   "cell_type": "code",
   "execution_count": 183,
   "metadata": {},
   "outputs": [
    {
     "name": "stdout",
     "output_type": "stream",
     "text": [
      "['cask_cudnn::computeOffsetsKernel3D<(bool)0>(cask_cudnn::ComputeOffsetsParams)', 'volta_scudnn_128x32_3dconv_fprop_small_nn_v1', 'cudnn::bn_fw_inf_1C11_kernel_NCHW<float', 'at::native::vectorized_elementwise_kernel<(int)4', 'at::native::<unnamed>::max_pool_forward_nchw<float', 'at::native::reduce_kernel<(int)512', 'implicit_convolve_sgemm<float', 'cudnn::bn_fw_inf_1C11_kernel_NCHW<float', 'at::native::vectorized_elementwise_kernel<(int)4', 'at::native::<unnamed>::max_pool_forward_nchw<float', 'at::native::reduce_kernel<(int)512', 'implicit_convolve_sgemm<float', 'cudnn::bn_fw_inf_1C11_kernel_NCHW<float', 'at::native::vectorized_elementwise_kernel<(int)4', 'at::native::<unnamed>::max_pool_forward_nchw<float', 'at::native::reduce_kernel<(int)512', 'implicit_convolve_sgemm<float', 'cudnn::bn_fw_inf_1C11_kernel_NCHW<float', 'at::native::vectorized_elementwise_kernel<(int)4', 'at::native::<unnamed>::max_pool_forward_nchw<float', 'at::native::reduce_kernel<(int)128', 'cudnn::cnn::conv2d_grouped_direct_kernel<(bool)0', 'cudnn::bn_fw_inf_1C11_kernel_NCHW<float', 'at::native::vectorized_elementwise_kernel<(int)4', 'at::native::<unnamed>::max_pool_forward_nchw<float', 'at::native::reduce_kernel<(int)512', 'implicit_convolve_sgemm<float', 'cudnn::bn_fw_inf_1C11_kernel_NCHW<float', 'at::native::vectorized_elementwise_kernel<(int)4', 'at::native::<unnamed>::max_pool_forward_nchw<float', 'at::native::reduce_kernel<(int)512', 'flip_filter<float', 'fft2d_r2c_32x32<float', 'fft2d_r2c_32x32<float', 'volta_cgemm_32x32_tn', 'fft2d_c2r_32x32<float', 'cudnn::bn_fw_inf_1C11_kernel_NCHW<float', 'at::native::vectorized_elementwise_kernel<(int)4', 'at::native::<unnamed>::max_pool_forward_nchw<float', 'at::native::reduce_kernel<(int)512', 'implicit_convolve_sgemm<float', 'cudnn::bn_fw_inf_1C11_kernel_NCHW<float', 'at::native::vectorized_elementwise_kernel<(int)4', 'at::native::<unnamed>::max_pool_forward_nchw<float', 'at::native::reduce_kernel<(int)512', 'cudnn::winograd_nonfused::winogradForwardData4x4<float', 'cudnn::winograd_nonfused::winogradForwardFilter4x4<float', 'volta_sgemm_64x64_nn', 'cudnn::winograd_nonfused::winogradForwardOutput4x4<float', 'cudnn::bn_fw_inf_1C11_kernel_NCHW<float', 'at::native::vectorized_elementwise_kernel<(int)4', 'at::native::<unnamed>::max_pool_forward_nchw<float', 'at::native::reduce_kernel<(int)512', 'cudnn::winograd::generateWinogradTilesKernel<(int)0', 'volta_scudnn_winograd_128x128_ldg1_ldg4_relu_tile148t_nt_v1', 'cudnn::bn_fw_inf_1C11_kernel_NCHW<float', 'at::native::vectorized_elementwise_kernel<(int)4', 'at::native::<unnamed>::max_pool_forward_nchw<float', 'at::native::reduce_kernel<(int)128', '<unnamed>::softmax_warp_forward<float', 'at::native::<unnamed>::nll_loss_forward_reduce_cuda_kernel_2d<float', 'at::native::vectorized_elementwise_kernel<(int)4', 'at::native::vectorized_elementwise_kernel<(int)4', 'at::native::reduce_kernel<(int)512', 'at::native::vectorized_elementwise_kernel<(int)4']\n",
      "['void', 'at::native::reduce_kernel<(int)512']\n",
      "['void', 'at::native::reduce_kernel<(int)512']\n",
      "['void', 'at::native::reduce_kernel<(int)512']\n",
      "['void', 'at::native::reduce_kernel<(int)512']\n",
      "['void', 'at::native::reduce_kernel<(int)512']\n",
      "['void', 'at::native::reduce_kernel<(int)512']\n",
      "['void', 'at::native::reduce_kernel<(int)512']\n",
      "['void', 'at::native::reduce_kernel<(int)512']\n",
      "['void', 'at::native::reduce_kernel<(int)512']\n",
      "[1560.82, 325.84000000000003, 916.0, 50.23, 241.73999999999998, 87.9, 40.99, 957.38, 2138.0200000000004, 422.68999999999994, 208.39000000000001, 0.8999999999999999, 0.0, 1445.0, 0.0]\n"
     ]
    }
   ],
   "source": [
    "avmnist_slfs_encoder_v2=pd.read_csv('D:/avmnist-slfs-encoder-v2.csv',header=None)\n",
    "avmnist_slfs_encoder_v2=turntolist(avmnist_slfs_encoder_v2)\n",
    "kernel_num4=how_many_kernel(avmnist_slfs_encoder_v2)\n",
    "result3=specific_num(avmnist_slfs_encoder_v2,'at::native::reduce_kernel<(int)512')\n",
    "print(result3)"
   ]
  },
  {
   "cell_type": "code",
   "execution_count": 186,
   "metadata": {},
   "outputs": [
    {
     "name": "stdout",
     "output_type": "stream",
     "text": [
      "['volta_sgemm_128x64_nn', 'at::native::elementwise_kernel<(int)128', 'volta_sgemm_128x32_nn', 'at::native::elementwise_kernel<(int)128', 'gemv2N_kernel<int', 'at::native::vectorized_elementwise_kernel<(int)4', '<unnamed>::softmax_warp_forward<float', 'at::native::<unnamed>::nll_loss_forward_reduce_cuda_kernel_2d<float', 'at::native::vectorized_elementwise_kernel<(int)4', 'at::native::vectorized_elementwise_kernel<(int)4', 'at::native::reduce_kernel<(int)512', 'at::native::vectorized_elementwise_kernel<(int)4']\n",
      "['void', 'at::native::elementwise_kernel<(int)128']\n",
      "['void', 'at::native::elementwise_kernel<(int)128']\n",
      "[17.29, 194.2, 540.0, 29.959999999999997, 27.599999999999998, 98.14, 55.199999999999996, 200.2, 166.68, 97.53999999999999, 88.87, 0.22999999999999998, 0.0, 371.0, 0.0]\n"
     ]
    }
   ],
   "source": [
    "avmnist_slfs_fusion_v2=pd.read_csv('D:/avmnist-slfs-fusion-v2.csv',header=None)\n",
    "avmnist_slfs_fusion_v2=turntolist(avmnist_slfs_fusion_v2)\n",
    "kernel_num4=how_many_kernel(avmnist_slfs_fusion_v2)\n",
    "result3=specific_num(avmnist_slfs_fusion_v2,'at::native::elementwise_kernel<(int)128')\n",
    "print(result3)"
   ]
  },
  {
   "cell_type": "code",
   "execution_count": 185,
   "metadata": {},
   "outputs": [
    {
     "name": "stdout",
     "output_type": "stream",
     "text": [
      "['at::native::elementwise_kernel<(int)128', 'volta_sgemm_32x32_sliced1x4_tn', 'at::native::vectorized_elementwise_kernel<(int)4', 'at::native::elementwise_kernel<(int)128', 'volta_sgemm_32x32_sliced1x4_tn', '<unnamed>::softmax_warp_forward<float', 'at::native::<unnamed>::nll_loss_forward_reduce_cuda_kernel_2d<float', 'at::native::vectorized_elementwise_kernel<(int)4', 'at::native::vectorized_elementwise_kernel<(int)4', 'at::native::reduce_kernel<(int)512', 'at::native::vectorized_elementwise_kernel<(int)4']\n",
      "['void', 'at::native::reduce_kernel<(int)512']\n",
      "[6.59, 876.6, 206.0, 0.14, 52.22, 9.06, 3.5, 108.0, 6.65, 24.52, 2.33, 0.06, 0.0, 11.0, 0.0]\n"
     ]
    }
   ],
   "source": [
    "avmnist_slfs_head_v2=pd.read_csv('D:/avmnist-slfs-head-v2.csv',header=None)\n",
    "avmnist_slfs_head_v2=turntolist(avmnist_slfs_head_v2)\n",
    "kernel_num4=how_many_kernel(avmnist_slfs_head_v2)\n",
    "result3=specific_num(avmnist_slfs_head_v2,'at::native::reduce_kernel<(int)512')\n",
    "print(result3)"
   ]
  },
  {
   "cell_type": "code",
   "execution_count": 187,
   "metadata": {},
   "outputs": [
    {
     "name": "stdout",
     "output_type": "stream",
     "text": [
      "['at::native::<unnamed>::CatArrayBatchedCopy<float', 'at::native::elementwise_kernel<(int)128', 'volta_sgemm_32x128_tn', 'at::native::elementwise_kernel<(int)128', 'at::native::vectorized_elementwise_kernel<(int)4', 'at::native::<unnamed>::CatArrayBatchedCopy<float', 'at::native::elementwise_kernel<(int)128', 'volta_sgemm_64x64_tn', 'at::native::elementwise_kernel<(int)128', 'at::native::vectorized_elementwise_kernel<(int)4', 'at::native::elementwise_kernel<(int)128', 'at::native::elementwise_kernel<(int)128', '<unnamed>::softmax_warp_forward<float', 'at::native::<unnamed>::nll_loss_forward_reduce_cuda_kernel_2d<float', 'at::native::vectorized_elementwise_kernel<(int)4', 'at::native::vectorized_elementwise_kernel<(int)4', 'at::native::reduce_kernel<(int)512', 'at::native::vectorized_elementwise_kernel<(int)4']\n",
      "['void', 'at::native::elementwise_kernel<(int)128']\n",
      "['void', 'at::native::elementwise_kernel<(int)128']\n",
      "['void', 'at::native::elementwise_kernel<(int)128']\n",
      "['void', 'at::native::elementwise_kernel<(int)128']\n",
      "['void', 'at::native::elementwise_kernel<(int)128']\n",
      "['void', 'at::native::elementwise_kernel<(int)128']\n",
      "[3268.77, 565.59, 833.0, 93.67999999999999, 228.56, 483.19, 439.17, 600.04, 291.61, 428.42, 396.04, 0.67, 0.0, 4.0, 0.0]\n"
     ]
    }
   ],
   "source": [
    "avmnist_tensor_fusion_v2=pd.read_csv('D:/avmnist-tensor-fusion-v2.csv',header=None)\n",
    "avmnist_tensor_fusion_v2=turntolist(avmnist_tensor_fusion_v2)\n",
    "kernel_num4=how_many_kernel(avmnist_tensor_fusion_v2)\n",
    "result3=specific_num(avmnist_tensor_fusion_v2,'at::native::elementwise_kernel<(int)128')\n",
    "print(result3)"
   ]
  },
  {
   "cell_type": "code",
   "execution_count": 188,
   "metadata": {},
   "outputs": [
    {
     "name": "stdout",
     "output_type": "stream",
     "text": [
      "['volta_sgemm_128x64_nn', 'at::native::elementwise_kernel<(int)128', 'volta_sgemm_32x32_sliced1x4_nn', 'at::native::elementwise_kernel<(int)128', 'gemv2N_kernel<int', 'at::native::vectorized_elementwise_kernel<(int)4', '<unnamed>::softmax_warp_forward<float', 'at::native::<unnamed>::nll_loss_forward_reduce_cuda_kernel_2d<float', 'at::native::vectorized_elementwise_kernel<(int)4', 'at::native::vectorized_elementwise_kernel<(int)4', 'at::native::reduce_kernel<(int)512', 'at::native::vectorized_elementwise_kernel<(int)4']\n",
      "['void', 'at::native::elementwise_kernel<(int)128']\n",
      "['void', 'at::native::elementwise_kernel<(int)128']\n",
      "[46.95, 264.78000000000003, 237.0, 64.49, 5.21, 114.22, 74.54, 200.0, 557.32, 101.91, 127.56, 0.25, 0.0, 10.0, 0.0]\n"
     ]
    }
   ],
   "source": [
    "avmnist_multi_fusion_v2=pd.read_csv('D:/avmnist-multi-fusion-v2.csv',header=None)\n",
    "avmnist_multi_fusion_v2=turntolist(avmnist_multi_fusion_v2)\n",
    "kernel_num4=how_many_kernel(avmnist_multi_fusion_v2)\n",
    "result3=specific_num(avmnist_multi_fusion_v2,'at::native::elementwise_kernel<(int)128')\n",
    "print(result3)"
   ]
  },
  {
   "cell_type": "code",
   "execution_count": 18,
   "metadata": {
    "scrolled": true
   },
   "outputs": [
    {
     "name": "stdout",
     "output_type": "stream",
     "text": [
      "32.0\n",
      "[0.5208125000000001, 4.9450625, 0.025000000000000005, 12.07075, 13.614749999999997]\n"
     ]
    }
   ],
   "source": [
    "avmnist_uni_radar=pd.read_csv('D:/avmnist-uni-radar.csv',header=None)\n",
    "avmnist_uni_radar=turntolist(avmnist_uni_radar)\n",
    "# print(avmnist_uni_radar)\n",
    "result=count(avmnist_uni_radar)\n",
    "print(result)"
   ]
  },
  {
   "cell_type": "code",
   "execution_count": 19,
   "metadata": {},
   "outputs": [],
   "source": [
    "def count(l):\n",
    "    result=[0,0,0,0,0]\n",
    "    count=0\n",
    "    for i in range(0,len(l)):\n",
    "        if l[i][0]=='dram__throughput.avg.pct_of_peak_sustained_elapsed':\n",
    "            result[0]=result[0]+float(l[i][2])\n",
    "            count=count+1\n",
    "        if l[i][0]=='sm__warps_active.avg.pct_of_peak_sustained_active':\n",
    "            result[1]=result[1]+float(l[i][2])\n",
    "            count=count+1\n",
    "        if l[i][0]=='smsp__inst_executed.avg.per_cycle_active':\n",
    "            result[2]=result[2]+float(l[i][2])\n",
    "            count=count+1\n",
    "        if l[i][0]=='smsp__sass_average_data_bytes_per_sector_mem_global_op_ld.pct':\n",
    "            result[3]=result[3]+float(l[i][2])\n",
    "            count=count+1\n",
    "        if l[i][0]=='smsp__sass_average_data_bytes_per_sector_mem_global_op_st.pct':\n",
    "            result[4]=result[4]+float(l[i][2])\n",
    "            count=count+1\n",
    "    count=count/5\n",
    "    print(count)\n",
    "    for i in range(0,5):\n",
    "        result[i]=result[i]/count\n",
    "    return result\n",
    "        "
   ]
  },
  {
   "cell_type": "code",
   "execution_count": 19,
   "metadata": {},
   "outputs": [
    {
     "name": "stdout",
     "output_type": "stream",
     "text": [
      "77.0\n",
      "[2.321194805194805, 7.310259740259738, 0.03106493506493506, 13.837194805194807, 14.802000000000001]\n"
     ]
    }
   ],
   "source": [
    "avmnist_slfs_radar=pd.read_csv('D:/avmnist-slfs-radar.csv',header=None)\n",
    "avmnist_slfs_radar=turntolist(avmnist_slfs_radar)\n",
    "# print(avmnist_uni_radar)\n",
    "result=count(avmnist_slfs_radar)\n",
    "print(result)"
   ]
  },
  {
   "cell_type": "code",
   "execution_count": 20,
   "metadata": {},
   "outputs": [
    {
     "name": "stdout",
     "output_type": "stream",
     "text": [
      "88.0\n",
      "[3.1916363636363623, 8.702454545454543, 0.03340909090909091, 13.01315909090909, 15.607568181818182]\n"
     ]
    }
   ],
   "source": [
    "avmnist_tensor_radar=pd.read_csv('D:/avmnist-tensor-radar.csv',header=None)\n",
    "avmnist_tensor_radar=turntolist(avmnist_tensor_radar)\n",
    "# print(avmnist_uni_radar)\n",
    "result=count(avmnist_tensor_radar)\n",
    "print(result)"
   ]
  },
  {
   "cell_type": "code",
   "execution_count": 21,
   "metadata": {},
   "outputs": [
    {
     "name": "stdout",
     "output_type": "stream",
     "text": [
      "81.0\n",
      "[3.3492098765432097, 8.199876543209873, 0.033999999999999996, 13.950913580246914, 15.33479012345679]\n"
     ]
    }
   ],
   "source": [
    "avmnist_mult_radar=pd.read_csv('D:/avmnist-mult-radar.csv',header=None)\n",
    "avmnist_mult_radar=turntolist(avmnist_mult_radar)\n",
    "# print(avmnist_uni_radar)\n",
    "result=count(avmnist_mult_radar)\n",
    "print(result)"
   ]
  },
  {
   "cell_type": "code",
   "execution_count": 22,
   "metadata": {},
   "outputs": [
    {
     "name": "stdout",
     "output_type": "stream",
     "text": [
      "66.0\n",
      "[2.4153636363636357, 7.795575757575756, 0.03203030303030301, 12.960272727272729, 14.229303030303031]\n"
     ]
    }
   ],
   "source": [
    "avmnist_slfs_encoder_radar=pd.read_csv('D:/avmnist-slfs-encoder-radar.csv',header=None)\n",
    "avmnist_slfs_encoder_radar=turntolist(avmnist_slfs_encoder_radar)\n",
    "# print(avmnist_uni_radar)\n",
    "result=count(avmnist_slfs_encoder_radar)\n",
    "print(result)"
   ]
  },
  {
   "cell_type": "code",
   "execution_count": 23,
   "metadata": {},
   "outputs": [
    {
     "name": "stdout",
     "output_type": "stream",
     "text": [
      "12.0\n",
      "[1.2301666666666666, 4.2218333333333335, 0.0175, 12.947333333333331, 13.541666666666666]\n"
     ]
    }
   ],
   "source": [
    "avmnist_slfs_fusion_radar=pd.read_csv('D:/avmnist-slfs-fusion-radar.csv',header=None)\n",
    "avmnist_slfs_fusion_radar=turntolist(avmnist_slfs_fusion_radar)\n",
    "# print(avmnist_uni_radar)\n",
    "result=count(avmnist_slfs_fusion_radar)\n",
    "print(result)"
   ]
  },
  {
   "cell_type": "code",
   "execution_count": 24,
   "metadata": {},
   "outputs": [
    {
     "name": "stdout",
     "output_type": "stream",
     "text": [
      "19.0\n",
      "[2.1919999999999993, 8.899263157894737, 0.019578947368421057, 9.005157894736842, 15.42221052631579]\n"
     ]
    }
   ],
   "source": [
    "avmnist_tensor_fusion_radar=pd.read_csv('D:/avmnist-tensor-fusion-radar.csv',header=None)\n",
    "avmnist_tensor_fusion_radar=turntolist(avmnist_tensor_fusion_radar)\n",
    "# print(avmnist_uni_radar)\n",
    "result=count(avmnist_tensor_fusion_radar)\n",
    "print(result)"
   ]
  },
  {
   "cell_type": "code",
   "execution_count": 25,
   "metadata": {},
   "outputs": [
    {
     "name": "stdout",
     "output_type": "stream",
     "text": [
      "12.0\n",
      "[2.782666666666666, 5.407333333333335, 0.01983333333333333, 12.8115, 13.541666666666666]\n"
     ]
    }
   ],
   "source": [
    "avmnist_mult_fusion_radar=pd.read_csv('D:/avmnist-mult-fusion-radar.csv',header=None)\n",
    "avmnist_mult_fusion_radar=turntolist(avmnist_mult_fusion_radar)\n",
    "# print(avmnist_uni_radar)\n",
    "result=count(avmnist_mult_fusion_radar)\n",
    "print(result)"
   ]
  },
  {
   "cell_type": "code",
   "execution_count": 26,
   "metadata": {},
   "outputs": [
    {
     "name": "stdout",
     "output_type": "stream",
     "text": [
      "11.0\n",
      "[0.0489090909090909, 2.2858181818181817, 0.012000000000000002, 11.05690909090909, 12.022]\n"
     ]
    }
   ],
   "source": [
    "avmnist_slfs_head_radar=pd.read_csv('D:/avmnist-slfs-head-radar.csv',header=None)\n",
    "avmnist_slfs_head_radar=turntolist(avmnist_slfs_head_radar)\n",
    "# print(avmnist_uni_radar)\n",
    "result=count(avmnist_slfs_head_radar)\n",
    "print(result)"
   ]
  },
  {
   "cell_type": "code",
   "execution_count": 27,
   "metadata": {},
   "outputs": [
    {
     "name": "stdout",
     "output_type": "stream",
     "text": [
      "8.0\n",
      "[0.01875, 2.2175000000000002, 0.01025, 7.22275, 9.375]\n"
     ]
    }
   ],
   "source": [
    "avmnist_cca_head_radar=pd.read_csv('D:/avmnist-cca-head-radar.csv',header=None)\n",
    "avmnist_cca_head_radar=turntolist(avmnist_cca_head_radar)\n",
    "# print(avmnist_uni_radar)\n",
    "result=count(avmnist_cca_head_radar)\n",
    "print(result)"
   ]
  },
  {
   "cell_type": "code",
   "execution_count": 14,
   "metadata": {},
   "outputs": [],
   "source": [
    "def count2(l):\n",
    "    result=[0,0,0,0,0,0,0]\n",
    "    count=0\n",
    "    for i in range(0,len(l)):\n",
    "        if l[i][0]=='smsp__warp_issue_stalled_imc_miss_per_warp_active.pct':\n",
    "            result[0]=result[0]+float(l[i][2])\n",
    "            count=count+1\n",
    "        if l[i][0]=='smsp__warp_issue_stalled_short_scoreboard_per_warp_active.pct':\n",
    "            result[1]=result[1]+float(l[i][2])\n",
    "            count=count+1\n",
    "        if l[i][0]=='smsp__warp_issue_stalled_wait_per_warp_active.pct':\n",
    "            result[1]=result[1]+float(l[i][2])\n",
    "            count=count+1\n",
    "        if l[i][0]=='smsp__warp_issue_stalled_no_instruction_per_warp_active.pct':\n",
    "            result[2]=result[2]+float(l[i][2])\n",
    "            count=count+1\n",
    "        if l[i][0]=='smsp__warp_issue_stalled_long_scoreboard_per_warp_active.pct':\n",
    "            result[3]=result[3]+float(l[i][2])\n",
    "            count=count+1\n",
    "        if l[i][0]=='smsp__warp_issue_stalled_not_selected_per_warp_active.pct':\n",
    "            result[4]=result[4]+float(l[i][2])\n",
    "            count=count+1\n",
    "        if l[i][0]=='smsp__warp_issue_stalled_math_pipe_throttle_per_warp_active.pct':\n",
    "            result[5]=result[5]+float(l[i][2])\n",
    "            count=count+1\n",
    "        if l[i][0]=='smsp__warp_issue_stalled_mio_throttle_per_warp_active.pct':\n",
    "            result[5]=result[5]+float(l[i][2])\n",
    "            count=count+1\n",
    "        if l[i][0]=='smsp__warp_issue_stalled_barrier_per_warp_active.pct':\n",
    "            result[6]=result[6]+float(l[i][2])\n",
    "            count=count+1\n",
    "        if l[i][0]=='smsp__warp_issue_stalled_membar_per_warp_active.pct':\n",
    "            result[6]=result[6]+float(l[i][2])\n",
    "            count=count+1\n",
    "    count=count/10\n",
    "    print(count)\n",
    "    for i in range(0,7):\n",
    "        result[i]=result[i]/count\n",
    "    return result"
   ]
  },
  {
   "cell_type": "code",
   "execution_count": 10,
   "metadata": {},
   "outputs": [
    {
     "name": "stdout",
     "output_type": "stream",
     "text": [
      "77.0\n",
      "[26.486623376623374, 15.574155844155856, 2.919480519480521, 33.33987012987013, 3.3983116883116877, 4.888961038961041, 2.416103896103896]\n"
     ]
    }
   ],
   "source": [
    "avmnist_slfs_stall=pd.read_csv('D:/slfs-stall.csv',header=None)\n",
    "avmnist_slfs_stall=turntolist(avmnist_slfs_stall)\n",
    "# print(avmnist_uni_radar)\n",
    "result=count2(avmnist_slfs_stall)\n",
    "print(result)"
   ]
  },
  {
   "cell_type": "code",
   "execution_count": 11,
   "metadata": {},
   "outputs": [
    {
     "name": "stdout",
     "output_type": "stream",
     "text": [
      "32.0\n",
      "[35.76375, 17.520312500000006, 4.0421875, 20.537499999999998, 1.9278125, 2.5440624999999994, 4.39875]\n"
     ]
    }
   ],
   "source": [
    "avmnist_uni_stall=pd.read_csv('D:/uni-stall.csv',header=None)\n",
    "avmnist_uni_stall=turntolist(avmnist_uni_stall)\n",
    "# print(avmnist_uni_radar)\n",
    "result=count2(avmnist_uni_stall)\n",
    "print(result)"
   ]
  },
  {
   "cell_type": "code",
   "execution_count": 12,
   "metadata": {},
   "outputs": [
    {
     "name": "stdout",
     "output_type": "stream",
     "text": [
      "75.0\n",
      "[24.306133333333335, 15.82186666666667, 2.8698666666666663, 34.984000000000016, 3.7241333333333335, 4.7010666666666685, 2.2858666666666667]\n"
     ]
    }
   ],
   "source": [
    "avmnist_cca_stall=pd.read_csv('D:/cca-stall.csv',header=None)\n",
    "avmnist_cca_stall=turntolist(avmnist_cca_stall)\n",
    "# print(avmnist_uni_radar)\n",
    "result=count2(avmnist_cca_stall)\n",
    "print(result)"
   ]
  },
  {
   "cell_type": "code",
   "execution_count": 13,
   "metadata": {},
   "outputs": [
    {
     "name": "stdout",
     "output_type": "stream",
     "text": [
      "88.0\n",
      "[23.441022727272728, 15.74647727272727, 2.8123863636363633, 36.51761363636364, 3.50125, 4.425568181818183, 2.1577272727272723]\n"
     ]
    }
   ],
   "source": [
    "avmnist_tensor_stall=pd.read_csv('D:/tensor-stall.csv',header=None)\n",
    "avmnist_tensor_stall=turntolist(avmnist_tensor_stall)\n",
    "# print(avmnist_uni_radar)\n",
    "result=count2(avmnist_tensor_stall)\n",
    "print(result)"
   ]
  },
  {
   "cell_type": "code",
   "execution_count": 14,
   "metadata": {},
   "outputs": [
    {
     "name": "stdout",
     "output_type": "stream",
     "text": [
      "81.0\n",
      "[23.909629629629624, 15.192962962962962, 2.81679012345679, 35.93987654320987, 3.728148148148149, 4.775802469135804, 2.2608641975308643]\n"
     ]
    }
   ],
   "source": [
    "avmnist_multi_stall=pd.read_csv('D:/multi-stall.csv',header=None)\n",
    "avmnist_multi_stall=turntolist(avmnist_multi_stall)\n",
    "# print(avmnist_uni_radar)\n",
    "result=count2(avmnist_multi_stall)\n",
    "print(result)"
   ]
  },
  {
   "cell_type": "code",
   "execution_count": 17,
   "metadata": {},
   "outputs": [
    {
     "name": "stdout",
     "output_type": "stream",
     "text": [
      "66.0\n",
      "[26.1060606060606, 15.278787878787877, 3.000454545454545, 34.074999999999996, 3.758484848484848, 5.236515151515153, 2.397424242424243]\n"
     ]
    }
   ],
   "source": [
    "slfs_encoder_stall=pd.read_csv('D:/slfs-encoder-stall.csv',header=None)\n",
    "slfs_encoder_stall=turntolist(slfs_encoder_stall)\n",
    "# print(avmnist_uni_radar)\n",
    "result=count2(slfs_encoder_stall)\n",
    "print(result)"
   ]
  },
  {
   "cell_type": "code",
   "execution_count": 18,
   "metadata": {},
   "outputs": [
    {
     "name": "stdout",
     "output_type": "stream",
     "text": [
      "12.0\n",
      "[37.64166666666666, 15.233333333333329, 4.016666666666667, 47.38499999999999, 1.2091666666666667, 2.1141666666666667, 2.2825]\n"
     ]
    }
   ],
   "source": [
    "slfs_fusion_stall=pd.read_csv('D:/slfs-fusion-stall.csv',header=None)\n",
    "slfs_fusion_stall=turntolist(slfs_fusion_stall)\n",
    "# print(avmnist_uni_radar)\n",
    "result=count2(slfs_fusion_stall)\n",
    "print(result)"
   ]
  },
  {
   "cell_type": "code",
   "execution_count": 19,
   "metadata": {},
   "outputs": [
    {
     "name": "stdout",
     "output_type": "stream",
     "text": [
      "19.0\n",
      "[27.52052631578948, 16.856842105263155, 3.1478947368421055, 50.52368421052632, 1.5531578947368423, 2.468947368421052, 1.8273684210526315]\n"
     ]
    }
   ],
   "source": [
    "tensor_fusion_stall=pd.read_csv('D:/tensor-fusion-stall.csv',header=None)\n",
    "tensor_fusion_stall=turntolist(tensor_fusion_stall)\n",
    "# print(avmnist_uni_radar)\n",
    "result=count2(tensor_fusion_stall)\n",
    "print(result)"
   ]
  },
  {
   "cell_type": "code",
   "execution_count": 20,
   "metadata": {},
   "outputs": [
    {
     "name": "stdout",
     "output_type": "stream",
     "text": [
      "12.0\n",
      "[33.97083333333333, 13.868333333333332, 3.801666666666667, 46.67250000000001, 1.8975, 3.6283333333333334, 2.6666666666666665]\n"
     ]
    }
   ],
   "source": [
    "multi_fusion_stall=pd.read_csv('D:/multi-fusion-stall.csv',header=None)\n",
    "multi_fusion_stall=turntolist(multi_fusion_stall)\n",
    "# print(avmnist_uni_radar)\n",
    "result=count2(multi_fusion_stall)\n",
    "print(result)"
   ]
  },
  {
   "cell_type": "code",
   "execution_count": 21,
   "metadata": {},
   "outputs": [
    {
     "name": "stdout",
     "output_type": "stream",
     "text": [
      "11.0\n",
      "[45.88272727272727, 15.866363636363637, 4.293636363636364, 37.9509090909091, 0.09727272727272727, 0.7699999999999999, 3.1981818181818182]\n"
     ]
    }
   ],
   "source": [
    "slfs_head_stall=pd.read_csv('D:/slfs-head-stall.csv',header=None)\n",
    "slfs_head_stall=turntolist(slfs_head_stall)\n",
    "# print(avmnist_uni_radar)\n",
    "result=count2(slfs_head_stall)\n",
    "print(result)"
   ]
  },
  {
   "cell_type": "code",
   "execution_count": 22,
   "metadata": {},
   "outputs": [
    {
     "name": "stdout",
     "output_type": "stream",
     "text": [
      "8.0\n",
      "[46.70625, 15.561250000000001, 4.98125, 29.753749999999997, 0.1375, 0.6325, 3.46]\n"
     ]
    }
   ],
   "source": [
    "cca_head_stall=pd.read_csv('D:/cca-head-stall.csv',header=None)\n",
    "cca_head_stall=turntolist(cca_head_stall)\n",
    "# print(avmnist_uni_radar)\n",
    "result=count2(cca_head_stall)\n",
    "print(result)"
   ]
  },
  {
   "cell_type": "code",
   "execution_count": 6,
   "metadata": {},
   "outputs": [
    {
     "name": "stdout",
     "output_type": "stream",
     "text": [
      "2694.0\n",
      "[23.630063103192214, 45.0981365998515, 0.16048255382331045, 89.05967706013344, 96.5118856718632]\n"
     ]
    }
   ],
   "source": [
    "overall=pd.read_csv('D:/overall-5.csv',header=None)\n",
    "overall=turntolist(overall)\n",
    "# print(avmnist_uni_radar)\n",
    "result=count(overall)\n",
    "print(result)"
   ]
  },
  {
   "cell_type": "code",
   "execution_count": 12,
   "metadata": {},
   "outputs": [
    {
     "name": "stdout",
     "output_type": "stream",
     "text": [
      "2694.0\n",
      "[19.41027468448406, 13.849703043801023, 1.7616518188567192, 48.79569784706753, 3.3371566443949536, 4.492602078693421, 1.5364884929472897]\n"
     ]
    }
   ],
   "source": [
    "overall_stall=pd.read_csv('D:/overall-stall.csv',header=None)\n",
    "overall_stall=turntolist(overall_stall)\n",
    "# print(avmnist_uni_radar)\n",
    "result=count2(overall_stall)\n",
    "print(result)"
   ]
  },
  {
   "cell_type": "code",
   "execution_count": 9,
   "metadata": {},
   "outputs": [
    {
     "name": "stdout",
     "output_type": "stream",
     "text": [
      "2634.0\n",
      "[19.153105542900565, 13.804589977220967, 1.6322665148063762, 49.413963553530785, 3.350922551252839, 4.5153454821564445, 1.5647000759301426]\n"
     ]
    }
   ],
   "source": [
    "overall_stall=pd.read_csv('D:/encoder-stall.csv',header=None)\n",
    "overall_stall=turntolist(overall_stall)\n",
    "# print(avmnist_uni_radar)\n",
    "result=count2(overall_stall)\n",
    "print(result)"
   ]
  },
  {
   "cell_type": "code",
   "execution_count": 10,
   "metadata": {},
   "outputs": [
    {
     "name": "stdout",
     "output_type": "stream",
     "text": [
      "101.0\n",
      "[65.88198019801976, 12.313069306930691, 3.435445544554455, 12.00831683168317, 0.12396039603960396, 0.6581188118811883, 0.030495049504950494]\n"
     ]
    }
   ],
   "source": [
    "overall_stall=pd.read_csv('D:/fusion-stall.csv',header=None)\n",
    "overall_stall=turntolist(overall_stall)\n",
    "# print(avmnist_uni_radar)\n",
    "result=count2(overall_stall)\n",
    "print(result)"
   ]
  },
  {
   "cell_type": "code",
   "execution_count": 11,
   "metadata": {},
   "outputs": [
    {
     "name": "stdout",
     "output_type": "stream",
     "text": [
      "206.0\n",
      "[47.82213592233009, 11.502524271844662, 5.08970873786408, 24.02932038834952, 1.5707766990291256, 1.5683495145631063, 0.3103398058252427]\n"
     ]
    }
   ],
   "source": [
    "overall_stall=pd.read_csv('D:/head-stall.csv',header=None)\n",
    "overall_stall=turntolist(overall_stall)\n",
    "# print(avmnist_uni_radar)\n",
    "result=count2(overall_stall)\n",
    "print(result)"
   ]
  },
  {
   "cell_type": "code",
   "execution_count": 13,
   "metadata": {},
   "outputs": [
    {
     "name": "stdout",
     "output_type": "stream",
     "text": [
      "2634.0\n",
      "[23.68803340926342, 45.267194381169425, 0.16027714502657459, 88.82782839787374, 96.90896735003777]\n"
     ]
    }
   ],
   "source": [
    "overall=pd.read_csv('D:/encoder-5.csv',header=None)\n",
    "overall=turntolist(overall)\n",
    "# print(avmnist_uni_radar)\n",
    "result=count(overall)\n",
    "print(result)"
   ]
  },
  {
   "cell_type": "code",
   "execution_count": 16,
   "metadata": {},
   "outputs": [
    {
     "name": "stdout",
     "output_type": "stream",
     "text": [
      "101.0\n",
      "[0.0560396039603959, 12.9560396039604, 0.024257425742574255, 82.21683168316828, 82.8356435643564]\n"
     ]
    }
   ],
   "source": [
    "overall=pd.read_csv('D:/fusion-5.csv',header=None)\n",
    "overall=turntolist(overall)\n",
    "# print(avmnist_uni_radar)\n",
    "result=count(overall)\n",
    "print(result)"
   ]
  },
  {
   "cell_type": "code",
   "execution_count": 17,
   "metadata": {},
   "outputs": [
    {
     "name": "stdout",
     "output_type": "stream",
     "text": [
      "206.0\n",
      "[5.825291262135918, 23.086893203883488, 0.06601941747572795, 91.21844660194184, 79.39805825242713]\n"
     ]
    }
   ],
   "source": [
    "overall=pd.read_csv('D:/head-5.csv',header=None)\n",
    "overall=turntolist(overall)\n",
    "# print(avmnist_uni_radar)\n",
    "result=count(overall)\n",
    "print(result)"
   ]
  },
  {
   "cell_type": "code",
   "execution_count": 18,
   "metadata": {},
   "outputs": [
    {
     "name": "stdout",
     "output_type": "stream",
     "text": [
      "541.0\n",
      "[24.363567467652548, 49.401663585951944, 0.19066543438077624, 74.70415896488005, 90.90804066543457]\n"
     ]
    }
   ],
   "source": [
    "overall=pd.read_csv('D:/vgg.csv',header=None)\n",
    "overall=turntolist(overall)\n",
    "# print(avmnist_uni_radar)\n",
    "result=count(overall)\n",
    "print(result)"
   ]
  },
  {
   "cell_type": "code",
   "execution_count": 19,
   "metadata": {},
   "outputs": [
    {
     "name": "stdout",
     "output_type": "stream",
     "text": [
      "2189.0\n",
      "[21.31114207400636, 43.2396756509825, 0.14431247144814735, 91.98933302878005, 97.73566468707165]\n"
     ]
    }
   ],
   "source": [
    "overall=pd.read_csv('D:/transformer.csv',header=None)\n",
    "overall=turntolist(overall)\n",
    "# print(avmnist_uni_radar)\n",
    "result=count(overall)\n",
    "print(result)"
   ]
  },
  {
   "cell_type": "code",
   "execution_count": 20,
   "metadata": {},
   "outputs": [
    {
     "name": "stdout",
     "output_type": "stream",
     "text": [
      "541.0\n",
      "[27.036802218114573, 13.183234750462113, 2.066007393715344, 39.57203327171902, 4.454602587800369, 5.193216266173761, 1.5089094269870607]\n"
     ]
    }
   ],
   "source": [
    "overall_stall=pd.read_csv('D:/vgg-stall.csv',header=None)\n",
    "overall_stall=turntolist(overall_stall)\n",
    "# print(avmnist_uni_radar)\n",
    "result=count2(overall_stall)\n",
    "print(result)"
   ]
  },
  {
   "cell_type": "code",
   "execution_count": 21,
   "metadata": {},
   "outputs": [
    {
     "name": "stdout",
     "output_type": "stream",
     "text": [
      "2189.0\n",
      "[19.320598446779364, 13.835893101873035, 1.5989995431703923, 62.942973960712884, 2.889949748743729, 4.163430790315235, 1.5165509365006846]\n"
     ]
    }
   ],
   "source": [
    "overall_stall=pd.read_csv('D:/transformer-stall.csv',header=None)\n",
    "overall_stall=turntolist(overall_stall)\n",
    "# print(avmnist_uni_radar)\n",
    "result=count2(overall_stall)\n",
    "print(result)"
   ]
  },
  {
   "cell_type": "code",
   "execution_count": 5,
   "metadata": {},
   "outputs": [
    {
     "name": "stdout",
     "output_type": "stream",
     "text": [
      "51.0\n",
      "[24.156274509803914, 14.357647058823527, 2.986470588235295, 33.8643137254902, 3.970980392156863, 5.372745098039215, 3.9235294117647057]\n"
     ]
    }
   ],
   "source": [
    "uni1_stall=pd.read_csv('D:/uni1_stall.csv',header=None)\n",
    "uni1_stall=turntolist(uni1_stall)\n",
    "# print(avmnist_uni_radar)\n",
    "result=count2(uni1_stall)\n",
    "print(result)"
   ]
  },
  {
   "cell_type": "code",
   "execution_count": 6,
   "metadata": {},
   "outputs": [
    {
     "name": "stdout",
     "output_type": "stream",
     "text": [
      "31.0\n",
      "[33.443548387096776, 16.299999999999997, 3.7312903225806444, 24.916451612903227, 2.860967741935484, 3.2099999999999995, 2.1616129032258065]\n"
     ]
    }
   ],
   "source": [
    "uni1_stall=pd.read_csv('D:/lenet1_stall.csv',header=None)\n",
    "uni1_stall=turntolist(uni1_stall)\n",
    "# print(avmnist_uni_radar)\n",
    "result=count2(uni1_stall)\n",
    "print(result)"
   ]
  },
  {
   "cell_type": "code",
   "execution_count": 7,
   "metadata": {},
   "outputs": [
    {
     "name": "stdout",
     "output_type": "stream",
     "text": [
      "45.0\n",
      "[20.71777777777778, 14.05311111111111, 2.7006666666666668, 41.12600000000001, 4.296666666666667, 5.358666666666668, 2.2313333333333327]\n"
     ]
    }
   ],
   "source": [
    "uni1_stall=pd.read_csv('D:/lenet2_stall.csv',header=None)\n",
    "uni1_stall=turntolist(uni1_stall)\n",
    "# print(avmnist_uni_radar)\n",
    "result=count2(uni1_stall)\n",
    "print(result)"
   ]
  },
  {
   "cell_type": "code",
   "execution_count": 8,
   "metadata": {},
   "outputs": [
    {
     "name": "stdout",
     "output_type": "stream",
     "text": [
      "2749.0\n",
      "[19.67241178610406, 13.847555474718053, 1.8471553292106289, 48.28392506365954, 3.3302255365587503, 4.455110949436174, 1.610156420516549]\n"
     ]
    }
   ],
   "source": [
    "uni1_stall=pd.read_csv('D:/m-slfs-stall.csv',header=None)\n",
    "uni1_stall=turntolist(uni1_stall)\n",
    "# print(avmnist_uni_radar)\n",
    "result=count2(uni1_stall)\n",
    "print(result)"
   ]
  },
  {
   "cell_type": "code",
   "execution_count": 9,
   "metadata": {},
   "outputs": [
    {
     "name": "stdout",
     "output_type": "stream",
     "text": [
      "2744.0\n",
      "[19.66696793002914, 13.86858600583091, 1.8745809037900827, 48.61574344023309, 3.302244897959186, 4.439515306122486, 1.5276639941690948]\n"
     ]
    }
   ],
   "source": [
    "uni1_stall=pd.read_csv('D:/m-cca-stall.csv',header=None)\n",
    "uni1_stall=turntolist(uni1_stall)\n",
    "# print(avmnist_uni_radar)\n",
    "result=count2(uni1_stall)\n",
    "print(result)"
   ]
  },
  {
   "cell_type": "code",
   "execution_count": 10,
   "metadata": {},
   "outputs": [
    {
     "name": "stderr",
     "output_type": "stream",
     "text": [
      "C:\\Users\\11746\\anaconda3\\lib\\site-packages\\IPython\\core\\interactiveshell.py:3258: DtypeWarning: Columns (21,22,23,24,25,26,27,28,29,30,31,32,33,34,35,36,37,38,39) have mixed types.Specify dtype option on import or set low_memory=False.\n",
      "  interactivity=interactivity, compiler=compiler, result=result)\n"
     ]
    },
    {
     "name": "stdout",
     "output_type": "stream",
     "text": [
      "2798.0\n",
      "[19.665014295925634, 13.867012151536828, 1.843145103645461, 48.304535382415885, 3.2911794138670425, 4.4200142959256965, 1.5648606147248032]\n"
     ]
    }
   ],
   "source": [
    "uni1_stall=pd.read_csv('D:/m-tensor-stall.csv',header=None)\n",
    "uni1_stall=turntolist(uni1_stall)\n",
    "# print(avmnist_uni_radar)\n",
    "result=count2(uni1_stall)\n",
    "print(result)"
   ]
  },
  {
   "cell_type": "code",
   "execution_count": 11,
   "metadata": {},
   "outputs": [
    {
     "name": "stdout",
     "output_type": "stream",
     "text": [
      "2774.0\n",
      "[19.71702235039652, 13.717566690699325, 1.8357894736842117, 48.70247656813267, 3.31711968276857, 4.402382840663337, 1.6009192501802425]\n"
     ]
    }
   ],
   "source": [
    "uni1_stall=pd.read_csv('D:/m-multi-stall.csv',header=None)\n",
    "uni1_stall=turntolist(uni1_stall)\n",
    "# print(avmnist_uni_radar)\n",
    "result=count2(uni1_stall)\n",
    "print(result)"
   ]
  },
  {
   "cell_type": "code",
   "execution_count": 15,
   "metadata": {},
   "outputs": [
    {
     "name": "stdout",
     "output_type": "stream",
     "text": [
      "126.0\n",
      "[56.72150793650794, 9.67039682539683, 2.7820634920634926, 24.097857142857148, 0.15936507936507935, 0.30809523809523814, 0.29793650793650794]\n"
     ]
    }
   ],
   "source": [
    "uni1_stall=pd.read_csv('D:/m-multi-fusion-stall.csv',header=None)\n",
    "uni1_stall=turntolist(uni1_stall)\n",
    "# print(avmnist_uni_radar)\n",
    "result=count2(uni1_stall)\n",
    "print(result)"
   ]
  },
  {
   "cell_type": "code",
   "execution_count": 16,
   "metadata": {},
   "outputs": [
    {
     "name": "stdout",
     "output_type": "stream",
     "text": [
      "155.0\n",
      "[50.128387096774205, 12.911483870967759, 2.7142580645161294, 27.547741935483874, 0.509290322580645, 1.219612903225806, 1.174516129032258]\n"
     ]
    }
   ],
   "source": [
    "uni1_stall=pd.read_csv('D:/m-tensor-fusion-stall.csv',header=None)\n",
    "uni1_stall=turntolist(uni1_stall)\n",
    "# print(avmnist_uni_radar)\n",
    "result=count2(uni1_stall)\n",
    "print(result)"
   ]
  },
  {
   "cell_type": "code",
   "execution_count": 17,
   "metadata": {},
   "outputs": [
    {
     "name": "stdout",
     "output_type": "stream",
     "text": [
      "106.0\n",
      "[63.30396226415094, 11.030566037735857, 3.2705660377358505, 29.532169811320742, 0.0, 0.30207547169811344, 0.19754716981132073]\n"
     ]
    }
   ],
   "source": [
    "uni1_stall=pd.read_csv('D:/m-cca-head-stall.csv',header=None)\n",
    "uni1_stall=turntolist(uni1_stall)\n",
    "# print(avmnist_uni_radar)\n",
    "result=count2(uni1_stall)\n",
    "print(result)"
   ]
  },
  {
   "cell_type": "code",
   "execution_count": 21,
   "metadata": {},
   "outputs": [
    {
     "name": "stdout",
     "output_type": "stream",
     "text": [
      "51.0\n",
      "[17.75980392156863, 41.27039215686275, 0.18686274509803913, 69.23901960784313, 74.8521568627451]\n"
     ]
    }
   ],
   "source": [
    "uni1_radar=pd.read_csv('D:/avmnist-uni-1.csv',header=None)\n",
    "uni1_radar=turntolist(uni1_radar)\n",
    "# print(avmnist_uni_radar)\n",
    "result=count(uni1_radar)\n",
    "print(result)"
   ]
  },
  {
   "cell_type": "code",
   "execution_count": 22,
   "metadata": {},
   "outputs": [
    {
     "name": "stdout",
     "output_type": "stream",
     "text": [
      "32.0\n",
      "[2.581875000000001, 24.740624999999998, 0.12499999999999999, 60.275625000000005, 68.07374999999999]\n"
     ]
    }
   ],
   "source": [
    "uni1_radar=pd.read_csv('D:/avmnist-uni-0.csv',header=None)\n",
    "uni1_radar=turntolist(uni1_radar)\n",
    "# print(avmnist_uni_radar)\n",
    "result=count(uni1_radar)\n",
    "print(result)"
   ]
  },
  {
   "cell_type": "code",
   "execution_count": 24,
   "metadata": {},
   "outputs": [
    {
     "data": {
      "text/plain": [
       "torch.Size([32, 16, 3])"
      ]
     },
     "execution_count": 24,
     "metadata": {},
     "output_type": "execute_result"
    }
   ],
   "source": [
    "import torch\n",
    "a=torch.rand(32,16,3)\n",
    "a.shape"
   ]
  },
  {
   "cell_type": "code",
   "execution_count": 25,
   "metadata": {},
   "outputs": [
    {
     "data": {
      "text/plain": [
       "32"
      ]
     },
     "execution_count": 25,
     "metadata": {},
     "output_type": "execute_result"
    }
   ],
   "source": [
    "a.shape[0]"
   ]
  },
  {
   "cell_type": "code",
   "execution_count": 51,
   "metadata": {},
   "outputs": [],
   "source": [
    "def count3(l):\n",
    "    result=[0,0,0,0]\n",
    "    count=0 \n",
    "    for i in range(0,len(l)):\n",
    "        if l[i][0]=='gpu__time_active.avg':\n",
    "            count=count+1\n",
    "            if float(l[i][2])< 10:\n",
    "                result[0]=result[0]+1\n",
    "            if float(l[i][2])<50 and float(l[i][2])>=10:\n",
    "                result[1]=result[1]+1\n",
    "            if float(l[i][2])<100 and float(l[i][2])>=50:\n",
    "                result[2]=result[2]+1\n",
    "            if float(l[i][2])>=100:\n",
    "                result[3]=result[3]+1\n",
    "    print(count)\n",
    "    return result"
   ]
  },
  {
   "cell_type": "code",
   "execution_count": 52,
   "metadata": {},
   "outputs": [
    {
     "name": "stdout",
     "output_type": "stream",
     "text": [
      "76\n",
      "[56, 18, 1, 1]\n"
     ]
    }
   ],
   "source": [
    "overall=pd.read_csv('D:/40-gputime.csv',header=None)\n",
    "overall=turntolist(overall)\n",
    "# print(avmnist_uni_radar)\n",
    "result=count3(overall)\n",
    "print(result)"
   ]
  },
  {
   "cell_type": "code",
   "execution_count": 45,
   "metadata": {},
   "outputs": [
    {
     "name": "stdout",
     "output_type": "stream",
     "text": [
      "[33, 22, 5, 14]\n"
     ]
    }
   ],
   "source": [
    "overall=pd.read_csv('D:/400-gputime.csv',header=None)\n",
    "overall=turntolist(overall)\n",
    "# print(avmnist_uni_radar)\n",
    "result=count3(overall)\n",
    "print(result)"
   ]
  },
  {
   "cell_type": "code",
   "execution_count": 47,
   "metadata": {},
   "outputs": [
    {
     "name": "stdout",
     "output_type": "stream",
     "text": [
      "[1098, 364, 20, 20]\n"
     ]
    }
   ],
   "source": [
    "overall=pd.read_csv('D:/40-gputime-800t.csv',header=None)\n",
    "overall=turntolist(overall)\n",
    "# print(avmnist_uni_radar)\n",
    "result=count3(overall)\n",
    "print(result)"
   ]
  },
  {
   "cell_type": "code",
   "execution_count": 48,
   "metadata": {},
   "outputs": [
    {
     "name": "stdout",
     "output_type": "stream",
     "text": [
      "[66, 44, 10, 28]\n"
     ]
    }
   ],
   "source": [
    "overall=pd.read_csv('D:/400-gputime-800t.csv',header=None)\n",
    "overall=turntolist(overall)\n",
    "# print(avmnist_uni_radar)\n",
    "result=count3(overall)\n",
    "print(result)"
   ]
  },
  {
   "cell_type": "code",
   "execution_count": 54,
   "metadata": {},
   "outputs": [
    {
     "name": "stdout",
     "output_type": "stream",
     "text": [
      "32\n",
      "[28, 4, 0, 0]\n"
     ]
    }
   ],
   "source": [
    "overall=pd.read_csv('D:/40-uni0-gputime.csv',header=None)\n",
    "overall=turntolist(overall)\n",
    "# print(avmnist_uni_radar)\n",
    "result=count3(overall)\n",
    "print(result)"
   ]
  },
  {
   "cell_type": "code",
   "execution_count": 55,
   "metadata": {},
   "outputs": [
    {
     "name": "stdout",
     "output_type": "stream",
     "text": [
      "51\n",
      "[33, 14, 2, 2]\n"
     ]
    }
   ],
   "source": [
    "overall=pd.read_csv('D:/40-uni1-gputime.csv',header=None)\n",
    "overall=turntolist(overall)\n",
    "# print(avmnist_uni_radar)\n",
    "result=count3(overall)\n",
    "print(result)"
   ]
  },
  {
   "cell_type": "code",
   "execution_count": 57,
   "metadata": {},
   "outputs": [
    {
     "name": "stdout",
     "output_type": "stream",
     "text": [
      "50\n",
      "[23, 10, 5, 12]\n"
     ]
    }
   ],
   "source": [
    "overall=pd.read_csv('D:/400-uni1-gputime.csv',header=None)\n",
    "overall=turntolist(overall)\n",
    "# print(avmnist_uni_radar)\n",
    "result=count3(overall)\n",
    "print(result)"
   ]
  },
  {
   "cell_type": "code",
   "execution_count": 58,
   "metadata": {},
   "outputs": [
    {
     "name": "stdout",
     "output_type": "stream",
     "text": [
      "32\n",
      "[23, 6, 2, 1]\n"
     ]
    }
   ],
   "source": [
    "overall=pd.read_csv('D:/400-uni0-gputime.csv',header=None)\n",
    "overall=turntolist(overall)\n",
    "# print(avmnist_uni_radar)\n",
    "result=count3(overall)\n",
    "print(result)"
   ]
  },
  {
   "cell_type": "code",
   "execution_count": 107,
   "metadata": {
    "scrolled": true
   },
   "outputs": [
    {
     "name": "stdout",
     "output_type": "stream",
     "text": [
      "19.0\n",
      "[17.225263157894734, 17.333157894736843, 25.86526315789474, 17.209473684210526, 6.734736842105264, 2.347894736842105, 4.74]\n"
     ]
    }
   ],
   "source": [
    "overall=pd.read_csv('D:/nano_nvprof_data/slfs-stall.csv',header=None)\n",
    "overall=turntolist(overall)\n",
    "result=count2nvprof(overall)\n",
    "print(result)"
   ]
  },
  {
   "cell_type": "code",
   "execution_count": 101,
   "metadata": {},
   "outputs": [],
   "source": [
    "def count2nvprof(l):\n",
    "    result=[0,0,0,0,0,0,0]\n",
    "    count=0\n",
    "    for i in range(0,len(l)):\n",
    "        if l[i][1]=='stall_constant_memory_dependency':\n",
    "            result[0]=result[0]+float(l[i][9].replace('%','0'))\n",
    "            count=count+1\n",
    "        if l[i][1]=='stall_exec_dependency':\n",
    "            result[1]=result[1]+float(l[i][9].replace('%','0'))\n",
    "            count=count+1\n",
    "        if l[i][1]=='stall_inst_fetch':\n",
    "            result[2]=result[2]+float(l[i][9].replace('%','0'))\n",
    "            count=count+1\n",
    "        if l[i][1]=='stall_memory_dependency':\n",
    "            result[3]=result[3]+float(l[i][9].replace('%','0'))\n",
    "            count=count+1\n",
    "        if l[i][1]=='stall_not_selected':\n",
    "            result[4]=result[4]+float(l[i][9].replace('%','0'))\n",
    "            count=count+1\n",
    "        if l[i][1]=='stall_pipe_busy':\n",
    "            result[5]=result[5]+float(l[i][9].replace('%','0'))\n",
    "            count=count+1\n",
    "        if l[i][1]=='stall_sync':\n",
    "            result[6]=result[6]+float(l[i][8].replace('%','0'))\n",
    "            count=count+1   \n",
    "    count=count/7\n",
    "    print(count)\n",
    "    for i in range(0,7):\n",
    "        result[i]=result[i]/count\n",
    "    return result"
   ]
  },
  {
   "cell_type": "code",
   "execution_count": 102,
   "metadata": {},
   "outputs": [
    {
     "name": "stdout",
     "output_type": "stream",
     "text": [
      "12.0\n",
      "[16.635833333333334, 18.330000000000002, 34.659166666666664, 10.854166666666666, 3.921666666666667, 1.6158333333333335, 6.440833333333333]\n"
     ]
    }
   ],
   "source": [
    "overall=pd.read_csv('D:/nano_nvprof_data/avmnist-uni0-stall.csv',header=None)\n",
    "overall=turntolist(overall)\n",
    "result=count2nvprof(overall)\n",
    "print(result)"
   ]
  },
  {
   "cell_type": "code",
   "execution_count": 103,
   "metadata": {},
   "outputs": [
    {
     "name": "stdout",
     "output_type": "stream",
     "text": [
      "17.0\n",
      "[11.802352941176471, 19.202941176470585, 15.901176470588235, 20.944117647058828, 8.574117647058825, 3.5582352941176474, 7.291176470588235]\n"
     ]
    }
   ],
   "source": [
    "overall=pd.read_csv('D:/nano_nvprof_data/avmnist-uni1-stall.csv',header=None)\n",
    "overall=turntolist(overall)\n",
    "result=count2nvprof(overall)\n",
    "print(result)"
   ]
  },
  {
   "cell_type": "code",
   "execution_count": 104,
   "metadata": {},
   "outputs": [
    {
     "name": "stdout",
     "output_type": "stream",
     "text": [
      "11.0\n",
      "[6.050909090909091, 16.963636363636365, 20.215454545454552, 22.762727272727275, 11.906363636363638, 4.215454545454546, 5.27]\n"
     ]
    }
   ],
   "source": [
    "overall=pd.read_csv('D:/nano_nvprof_data/slfs-encoder-stall.csv',header=None)\n",
    "overall=turntolist(overall)\n",
    "result=count2nvprof(overall)\n",
    "print(result)"
   ]
  },
  {
   "cell_type": "code",
   "execution_count": 105,
   "metadata": {},
   "outputs": [
    {
     "name": "stdout",
     "output_type": "stream",
     "text": [
      "1.0\n",
      "[18.69, 46.04, 6.21, 9.94, 2.94, 0.72, 0.0]\n"
     ]
    }
   ],
   "source": [
    "overall=pd.read_csv('D:/nano_nvprof_data/slfs-fusion-stall.csv',header=None)\n",
    "overall=turntolist(overall)\n",
    "result=count2nvprof(overall)\n",
    "print(result)"
   ]
  },
  {
   "cell_type": "code",
   "execution_count": 106,
   "metadata": {},
   "outputs": [
    {
     "name": "stdout",
     "output_type": "stream",
     "text": [
      "3.0\n",
      "[30.94333333333333, 16.223333333333333, 24.346666666666664, 18.09, 0.9633333333333334, 0.5966666666666667, 4.906666666666667]\n"
     ]
    }
   ],
   "source": [
    "overall=pd.read_csv('D:/nano_nvprof_data/slfs-head-stall.csv',header=None)\n",
    "overall=turntolist(overall)\n",
    "result=count2nvprof(overall)\n",
    "print(result)"
   ]
  },
  {
   "cell_type": "code",
   "execution_count": 148,
   "metadata": {},
   "outputs": [],
   "source": [
    "def countnvprof(l):\n",
    "    result=[0,0,0,0,0]\n",
    "    count=0\n",
    "    for i in range(0,len(l)):\n",
    "        if l[i][1]=='dram_utilization':\n",
    "            result[0]=result[0]+float(l[i][10][-3:-1].replace('(',' '))\n",
    "            count=count+1\n",
    "        if l[i][1]=='achieved_occupancy':\n",
    "            result[1]=result[1]+float(l[i][6])\n",
    "            count=count+1\n",
    "        if l[i][1]=='ipc':\n",
    "            result[2]=result[2]+float(l[i][6])\n",
    "            count=count+1\n",
    "        if l[i][1]=='gld_efficiency':\n",
    "            result[3]=result[3]+float(l[i][8].replace('%','0'))\n",
    "            count=count+1\n",
    "        if l[i][1]=='gst_efficiency':\n",
    "            result[4]=result[4]+float(l[i][8].replace('%','0'))\n",
    "            count=count+1 \n",
    "    count=count/5\n",
    "    print(count)\n",
    "    for i in range(0,5):\n",
    "        result[i]=result[i]/count\n",
    "    return result"
   ]
  },
  {
   "cell_type": "code",
   "execution_count": 149,
   "metadata": {},
   "outputs": [
    {
     "name": "stdout",
     "output_type": "stream",
     "text": [
      "14.0\n",
      "[10.0, 0.4048528571428572, 1.6644034285714286, 69.99571428571429, 67.97642857142857]\n"
     ]
    }
   ],
   "source": [
    "overall=pd.read_csv('D:/nano_nvprof_data2/nano_nvprof_data/slfs-radar.csv',header=None)\n",
    "overall=turntolist(overall)\n",
    "result=countnvprof(overall)\n",
    "print(result)"
   ]
  },
  {
   "cell_type": "code",
   "execution_count": 150,
   "metadata": {},
   "outputs": [
    {
     "name": "stdout",
     "output_type": "stream",
     "text": [
      "12.0\n",
      "[10.0, 0.268909, 0.9676667499999999, 60.725833333333334, 64.21083333333333]\n"
     ]
    }
   ],
   "source": [
    "overall=pd.read_csv('D:/nano_nvprof_data2/nano_nvprof_data/avmnist-uni0-radar.csv',header=None)\n",
    "overall=turntolist(overall)\n",
    "result=countnvprof(overall)\n",
    "print(result)"
   ]
  },
  {
   "cell_type": "code",
   "execution_count": 157,
   "metadata": {},
   "outputs": [
    {
     "name": "stdout",
     "output_type": "stream",
     "text": [
      "17.0\n",
      "[9.941176470588236, 0.4169575882352941, 1.6786563529411767, 66.60882352941177, 64.68294117647059]\n"
     ]
    }
   ],
   "source": [
    "overall=pd.read_csv('D:/nano_nvprof_data2/nano_nvprof_data/avmnist-uni1-radar.csv',header=None)\n",
    "overall=turntolist(overall)\n",
    "result=countnvprof(overall)\n",
    "print(result)"
   ]
  },
  {
   "cell_type": "code",
   "execution_count": 152,
   "metadata": {},
   "outputs": [
    {
     "name": "stdout",
     "output_type": "stream",
     "text": [
      "11.0\n",
      "[9.636363636363637, 0.42863054545454543, 1.9499659090909092, 65.58454545454545, 66.06090909090909]\n"
     ]
    }
   ],
   "source": [
    "overall=pd.read_csv('D:/nano_nvprof_data2/nano_nvprof_data/slfs-encoder-radar.csv',header=None)\n",
    "overall=turntolist(overall)\n",
    "result=countnvprof(overall)\n",
    "print(result)"
   ]
  },
  {
   "cell_type": "code",
   "execution_count": 154,
   "metadata": {},
   "outputs": [
    {
     "name": "stdout",
     "output_type": "stream",
     "text": [
      "1.0\n",
      "[10.0, 0.622906, 0.979894, 100.0, 100.0]\n"
     ]
    }
   ],
   "source": [
    "overall=pd.read_csv('D:/nano_nvprof_data2/nano_nvprof_data/slfs-fusion-radar.csv',header=None)\n",
    "overall=turntolist(overall)\n",
    "result=countnvprof(overall)\n",
    "print(result)"
   ]
  },
  {
   "cell_type": "code",
   "execution_count": 156,
   "metadata": {},
   "outputs": [
    {
     "name": "stdout",
     "output_type": "stream",
     "text": [
      "3.0\n",
      "[10.0, 0.12524466666666664, 0.4061693333333333, 86.17, 75.0]\n"
     ]
    }
   ],
   "source": [
    "overall=pd.read_csv('D:/nano_nvprof_data2/nano_nvprof_data/slfs-head-radar.csv',header=None)\n",
    "overall=turntolist(overall)\n",
    "result=countnvprof(overall)\n",
    "print(result)"
   ]
  },
  {
   "cell_type": "code",
   "execution_count": 136,
   "metadata": {},
   "outputs": [
    {
     "name": "stdout",
     "output_type": "stream",
     "text": [
      "70\n",
      "[51, 17, 1, 1]\n"
     ]
    }
   ],
   "source": [
    "overall=pd.read_csv('D:/encoder-40.csv',header=None)\n",
    "overall=turntolist(overall)\n",
    "# print(avmnist_uni_radar)\n",
    "result=count3(overall)\n",
    "print(result)"
   ]
  },
  {
   "cell_type": "code",
   "execution_count": 137,
   "metadata": {},
   "outputs": [
    {
     "name": "stdout",
     "output_type": "stream",
     "text": [
      "68\n",
      "[28, 21, 5, 14]\n"
     ]
    }
   ],
   "source": [
    "overall=pd.read_csv('D:/encoder-400.csv',header=None)\n",
    "overall=turntolist(overall)\n",
    "# print(avmnist_uni_radar)\n",
    "result=count3(overall)\n",
    "print(result)"
   ]
  },
  {
   "cell_type": "code",
   "execution_count": 138,
   "metadata": {},
   "outputs": [
    {
     "name": "stdout",
     "output_type": "stream",
     "text": [
      "7\n",
      "[6, 1, 0, 0]\n"
     ]
    }
   ],
   "source": [
    "overall=pd.read_csv('D:/fusion-400.csv',header=None)\n",
    "overall=turntolist(overall)\n",
    "# print(avmnist_uni_radar)\n",
    "result=count3(overall)\n",
    "print(result)"
   ]
  },
  {
   "cell_type": "code",
   "execution_count": 139,
   "metadata": {},
   "outputs": [
    {
     "name": "stdout",
     "output_type": "stream",
     "text": [
      "7\n",
      "[7, 0, 0, 0]\n"
     ]
    }
   ],
   "source": [
    "overall=pd.read_csv('D:/fusion-40.csv',header=None)\n",
    "overall=turntolist(overall)\n",
    "# print(avmnist_uni_radar)\n",
    "result=count3(overall)\n",
    "print(result)"
   ]
  },
  {
   "cell_type": "code",
   "execution_count": 140,
   "metadata": {},
   "outputs": [
    {
     "name": "stdout",
     "output_type": "stream",
     "text": [
      "11\n",
      "[10, 1, 0, 0]\n"
     ]
    }
   ],
   "source": [
    "overall=pd.read_csv('D:/head-40.csv',header=None)\n",
    "overall=turntolist(overall)\n",
    "# print(avmnist_uni_radar)\n",
    "result=count3(overall)\n",
    "print(result)"
   ]
  },
  {
   "cell_type": "code",
   "execution_count": 141,
   "metadata": {},
   "outputs": [
    {
     "name": "stdout",
     "output_type": "stream",
     "text": [
      "11\n",
      "[9, 2, 0, 0]\n"
     ]
    }
   ],
   "source": [
    "overall=pd.read_csv('D:/head-400.csv',header=None)\n",
    "overall=turntolist(overall)\n",
    "# print(avmnist_uni_radar)\n",
    "result=count3(overall)\n",
    "print(result)"
   ]
  },
  {
   "cell_type": "code",
   "execution_count": 158,
   "metadata": {},
   "outputs": [
    {
     "name": "stdout",
     "output_type": "stream",
     "text": [
      "32.0\n",
      "[2.59375, 24.726875, 0.126875, 60.26406250000001, 68.07374999999999]\n"
     ]
    }
   ],
   "source": [
    "uni1_radar=pd.read_csv('D:/uni0-radar.csv',header=None)\n",
    "uni1_radar=turntolist(uni1_radar)\n",
    "# print(avmnist_uni_radar)\n",
    "result=count(uni1_radar)\n",
    "print(result)"
   ]
  },
  {
   "cell_type": "code",
   "execution_count": 159,
   "metadata": {},
   "outputs": [
    {
     "name": "stdout",
     "output_type": "stream",
     "text": [
      "51.0\n",
      "[17.7878431372549, 41.250980392156855, 0.18666666666666662, 69.23019607843138, 74.8521568627451]\n"
     ]
    }
   ],
   "source": [
    "uni1_radar=pd.read_csv('D:/uni1-radar.csv',header=None)\n",
    "uni1_radar=turntolist(uni1_radar)\n",
    "# print(avmnist_uni_radar)\n",
    "result=count(uni1_radar)\n",
    "print(result)"
   ]
  },
  {
   "cell_type": "code",
   "execution_count": 160,
   "metadata": {},
   "outputs": [
    {
     "name": "stdout",
     "output_type": "stream",
     "text": [
      "81.0\n",
      "[15.05197530864197, 39.225802469135786, 0.17086419753086413, 68.89148148148149, 76.05098765432099]\n"
     ]
    }
   ],
   "source": [
    "uni1_radar=pd.read_csv('D:/slfs-radar.csv',header=None)\n",
    "uni1_radar=turntolist(uni1_radar)\n",
    "# print(avmnist_uni_radar)\n",
    "result=count(uni1_radar)\n",
    "print(result)"
   ]
  },
  {
   "cell_type": "code",
   "execution_count": 161,
   "metadata": {},
   "outputs": [
    {
     "name": "stdout",
     "output_type": "stream",
     "text": [
      "31.0\n",
      "[5.956451612903225, 30.508709677419354, 0.1312903225806451, 58.07387096774193, 67.0725806451613]\n"
     ]
    }
   ],
   "source": [
    "uni1_radar=pd.read_csv('D:/lenet1-radar.csv',header=None)\n",
    "uni1_radar=turntolist(uni1_radar)\n",
    "# print(avmnist_uni_radar)\n",
    "result=count(uni1_radar)\n",
    "print(result)"
   ]
  },
  {
   "cell_type": "code",
   "execution_count": 162,
   "metadata": {},
   "outputs": [
    {
     "name": "stdout",
     "output_type": "stream",
     "text": [
      "45.0\n",
      "[22.364666666666675, 46.98200000000002, 0.1915555555555556, 66.43044444444445, 74.33044444444445]\n"
     ]
    }
   ],
   "source": [
    "uni1_radar=pd.read_csv('D:/lenet2-radar.csv',header=None)\n",
    "uni1_radar=turntolist(uni1_radar)\n",
    "# print(avmnist_uni_radar)\n",
    "result=count(uni1_radar)\n",
    "print(result)"
   ]
  },
  {
   "cell_type": "code",
   "execution_count": 163,
   "metadata": {},
   "outputs": [
    {
     "name": "stdout",
     "output_type": "stream",
     "text": [
      "6.0\n",
      "[0.06833333333333334, 10.641666666666667, 0.03333333333333333, 29.473333333333333, 35.416666666666664]\n"
     ]
    }
   ],
   "source": [
    "uni1_radar=pd.read_csv('D:/fusion-radar.csv',header=None)\n",
    "uni1_radar=turntolist(uni1_radar)\n",
    "# print(avmnist_uni_radar)\n",
    "result=count(uni1_radar)\n",
    "print(result)"
   ]
  },
  {
   "cell_type": "code",
   "execution_count": null,
   "metadata": {},
   "outputs": [],
   "source": []
  }
 ],
 "metadata": {
  "kernelspec": {
   "display_name": "Python 3",
   "language": "python",
   "name": "python3"
  },
  "language_info": {
   "codemirror_mode": {
    "name": "ipython",
    "version": 3
   },
   "file_extension": ".py",
   "mimetype": "text/x-python",
   "name": "python",
   "nbconvert_exporter": "python",
   "pygments_lexer": "ipython3",
   "version": "3.7.6"
  }
 },
 "nbformat": 4,
 "nbformat_minor": 4
}
